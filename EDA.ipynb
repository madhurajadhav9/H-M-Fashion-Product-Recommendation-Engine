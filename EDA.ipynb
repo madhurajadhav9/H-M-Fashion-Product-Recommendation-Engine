{
 "cells": [
  {
   "cell_type": "code",
   "execution_count": 1,
   "id": "aaa54987",
   "metadata": {},
   "outputs": [],
   "source": [
    "import os\n",
    "import numpy as np\n",
    "import pandas as pd\n",
    "import seaborn as sns\n",
    "import matplotlib.pyplot as plt\n",
    "import matplotlib.image as mpimg\n",
    "\n",
    "from os import listdir\n",
    "\n",
    "from pandas.api.types import is_categorical_dtype\n",
    "from pandas.api.types import is_datetime64_any_dtype as is_datetime"
   ]
  },
  {
   "cell_type": "code",
   "execution_count": 2,
   "id": "92363f6c",
   "metadata": {},
   "outputs": [
    {
     "data": {
      "text/html": [
       "<div>\n",
       "<style scoped>\n",
       "    .dataframe tbody tr th:only-of-type {\n",
       "        vertical-align: middle;\n",
       "    }\n",
       "\n",
       "    .dataframe tbody tr th {\n",
       "        vertical-align: top;\n",
       "    }\n",
       "\n",
       "    .dataframe thead th {\n",
       "        text-align: right;\n",
       "    }\n",
       "</style>\n",
       "<table border=\"1\" class=\"dataframe\">\n",
       "  <thead>\n",
       "    <tr style=\"text-align: right;\">\n",
       "      <th></th>\n",
       "      <th>article_id</th>\n",
       "      <th>product_code</th>\n",
       "      <th>prod_name</th>\n",
       "      <th>product_type_no</th>\n",
       "      <th>product_type_name</th>\n",
       "      <th>product_group_name</th>\n",
       "      <th>graphical_appearance_no</th>\n",
       "      <th>graphical_appearance_name</th>\n",
       "      <th>colour_group_code</th>\n",
       "      <th>colour_group_name</th>\n",
       "      <th>...</th>\n",
       "      <th>department_name</th>\n",
       "      <th>index_code</th>\n",
       "      <th>index_name</th>\n",
       "      <th>index_group_no</th>\n",
       "      <th>index_group_name</th>\n",
       "      <th>section_no</th>\n",
       "      <th>section_name</th>\n",
       "      <th>garment_group_no</th>\n",
       "      <th>garment_group_name</th>\n",
       "      <th>detail_desc</th>\n",
       "    </tr>\n",
       "  </thead>\n",
       "  <tbody>\n",
       "    <tr>\n",
       "      <th>0</th>\n",
       "      <td>108775015</td>\n",
       "      <td>108775</td>\n",
       "      <td>Strap top</td>\n",
       "      <td>253</td>\n",
       "      <td>Vest top</td>\n",
       "      <td>Garment Upper body</td>\n",
       "      <td>1010016</td>\n",
       "      <td>Solid</td>\n",
       "      <td>9</td>\n",
       "      <td>Black</td>\n",
       "      <td>...</td>\n",
       "      <td>Jersey Basic</td>\n",
       "      <td>A</td>\n",
       "      <td>Ladieswear</td>\n",
       "      <td>1</td>\n",
       "      <td>Ladieswear</td>\n",
       "      <td>16</td>\n",
       "      <td>Womens Everyday Basics</td>\n",
       "      <td>1002</td>\n",
       "      <td>Jersey Basic</td>\n",
       "      <td>Jersey top with narrow shoulder straps.</td>\n",
       "    </tr>\n",
       "    <tr>\n",
       "      <th>1</th>\n",
       "      <td>108775044</td>\n",
       "      <td>108775</td>\n",
       "      <td>Strap top</td>\n",
       "      <td>253</td>\n",
       "      <td>Vest top</td>\n",
       "      <td>Garment Upper body</td>\n",
       "      <td>1010016</td>\n",
       "      <td>Solid</td>\n",
       "      <td>10</td>\n",
       "      <td>White</td>\n",
       "      <td>...</td>\n",
       "      <td>Jersey Basic</td>\n",
       "      <td>A</td>\n",
       "      <td>Ladieswear</td>\n",
       "      <td>1</td>\n",
       "      <td>Ladieswear</td>\n",
       "      <td>16</td>\n",
       "      <td>Womens Everyday Basics</td>\n",
       "      <td>1002</td>\n",
       "      <td>Jersey Basic</td>\n",
       "      <td>Jersey top with narrow shoulder straps.</td>\n",
       "    </tr>\n",
       "    <tr>\n",
       "      <th>2</th>\n",
       "      <td>108775051</td>\n",
       "      <td>108775</td>\n",
       "      <td>Strap top (1)</td>\n",
       "      <td>253</td>\n",
       "      <td>Vest top</td>\n",
       "      <td>Garment Upper body</td>\n",
       "      <td>1010017</td>\n",
       "      <td>Stripe</td>\n",
       "      <td>11</td>\n",
       "      <td>Off White</td>\n",
       "      <td>...</td>\n",
       "      <td>Jersey Basic</td>\n",
       "      <td>A</td>\n",
       "      <td>Ladieswear</td>\n",
       "      <td>1</td>\n",
       "      <td>Ladieswear</td>\n",
       "      <td>16</td>\n",
       "      <td>Womens Everyday Basics</td>\n",
       "      <td>1002</td>\n",
       "      <td>Jersey Basic</td>\n",
       "      <td>Jersey top with narrow shoulder straps.</td>\n",
       "    </tr>\n",
       "    <tr>\n",
       "      <th>3</th>\n",
       "      <td>110065001</td>\n",
       "      <td>110065</td>\n",
       "      <td>OP T-shirt (Idro)</td>\n",
       "      <td>306</td>\n",
       "      <td>Bra</td>\n",
       "      <td>Underwear</td>\n",
       "      <td>1010016</td>\n",
       "      <td>Solid</td>\n",
       "      <td>9</td>\n",
       "      <td>Black</td>\n",
       "      <td>...</td>\n",
       "      <td>Clean Lingerie</td>\n",
       "      <td>B</td>\n",
       "      <td>Lingeries/Tights</td>\n",
       "      <td>1</td>\n",
       "      <td>Ladieswear</td>\n",
       "      <td>61</td>\n",
       "      <td>Womens Lingerie</td>\n",
       "      <td>1017</td>\n",
       "      <td>Under-, Nightwear</td>\n",
       "      <td>Microfibre T-shirt bra with underwired, moulde...</td>\n",
       "    </tr>\n",
       "    <tr>\n",
       "      <th>4</th>\n",
       "      <td>110065002</td>\n",
       "      <td>110065</td>\n",
       "      <td>OP T-shirt (Idro)</td>\n",
       "      <td>306</td>\n",
       "      <td>Bra</td>\n",
       "      <td>Underwear</td>\n",
       "      <td>1010016</td>\n",
       "      <td>Solid</td>\n",
       "      <td>10</td>\n",
       "      <td>White</td>\n",
       "      <td>...</td>\n",
       "      <td>Clean Lingerie</td>\n",
       "      <td>B</td>\n",
       "      <td>Lingeries/Tights</td>\n",
       "      <td>1</td>\n",
       "      <td>Ladieswear</td>\n",
       "      <td>61</td>\n",
       "      <td>Womens Lingerie</td>\n",
       "      <td>1017</td>\n",
       "      <td>Under-, Nightwear</td>\n",
       "      <td>Microfibre T-shirt bra with underwired, moulde...</td>\n",
       "    </tr>\n",
       "  </tbody>\n",
       "</table>\n",
       "<p>5 rows × 25 columns</p>\n",
       "</div>"
      ],
      "text/plain": [
       "   article_id  product_code          prod_name  product_type_no  \\\n",
       "0   108775015        108775          Strap top              253   \n",
       "1   108775044        108775          Strap top              253   \n",
       "2   108775051        108775      Strap top (1)              253   \n",
       "3   110065001        110065  OP T-shirt (Idro)              306   \n",
       "4   110065002        110065  OP T-shirt (Idro)              306   \n",
       "\n",
       "  product_type_name  product_group_name  graphical_appearance_no  \\\n",
       "0          Vest top  Garment Upper body                  1010016   \n",
       "1          Vest top  Garment Upper body                  1010016   \n",
       "2          Vest top  Garment Upper body                  1010017   \n",
       "3               Bra           Underwear                  1010016   \n",
       "4               Bra           Underwear                  1010016   \n",
       "\n",
       "  graphical_appearance_name  colour_group_code colour_group_name  ...  \\\n",
       "0                     Solid                  9             Black  ...   \n",
       "1                     Solid                 10             White  ...   \n",
       "2                    Stripe                 11         Off White  ...   \n",
       "3                     Solid                  9             Black  ...   \n",
       "4                     Solid                 10             White  ...   \n",
       "\n",
       "   department_name index_code        index_name index_group_no  \\\n",
       "0     Jersey Basic          A        Ladieswear              1   \n",
       "1     Jersey Basic          A        Ladieswear              1   \n",
       "2     Jersey Basic          A        Ladieswear              1   \n",
       "3   Clean Lingerie          B  Lingeries/Tights              1   \n",
       "4   Clean Lingerie          B  Lingeries/Tights              1   \n",
       "\n",
       "   index_group_name section_no            section_name garment_group_no  \\\n",
       "0        Ladieswear         16  Womens Everyday Basics             1002   \n",
       "1        Ladieswear         16  Womens Everyday Basics             1002   \n",
       "2        Ladieswear         16  Womens Everyday Basics             1002   \n",
       "3        Ladieswear         61         Womens Lingerie             1017   \n",
       "4        Ladieswear         61         Womens Lingerie             1017   \n",
       "\n",
       "   garment_group_name                                        detail_desc  \n",
       "0        Jersey Basic            Jersey top with narrow shoulder straps.  \n",
       "1        Jersey Basic            Jersey top with narrow shoulder straps.  \n",
       "2        Jersey Basic            Jersey top with narrow shoulder straps.  \n",
       "3   Under-, Nightwear  Microfibre T-shirt bra with underwired, moulde...  \n",
       "4   Under-, Nightwear  Microfibre T-shirt bra with underwired, moulde...  \n",
       "\n",
       "[5 rows x 25 columns]"
      ]
     },
     "execution_count": 2,
     "metadata": {},
     "output_type": "execute_result"
    }
   ],
   "source": [
    "art = pd.read_csv(\"articles.csv\")\n",
    "art.head()"
   ]
  },
  {
   "cell_type": "code",
   "execution_count": 3,
   "id": "d97f6b9d",
   "metadata": {},
   "outputs": [
    {
     "data": {
      "text/html": [
       "<div>\n",
       "<style scoped>\n",
       "    .dataframe tbody tr th:only-of-type {\n",
       "        vertical-align: middle;\n",
       "    }\n",
       "\n",
       "    .dataframe tbody tr th {\n",
       "        vertical-align: top;\n",
       "    }\n",
       "\n",
       "    .dataframe thead th {\n",
       "        text-align: right;\n",
       "    }\n",
       "</style>\n",
       "<table border=\"1\" class=\"dataframe\">\n",
       "  <thead>\n",
       "    <tr style=\"text-align: right;\">\n",
       "      <th></th>\n",
       "      <th>customer_id</th>\n",
       "      <th>FN</th>\n",
       "      <th>Active</th>\n",
       "      <th>club_member_status</th>\n",
       "      <th>fashion_news_frequency</th>\n",
       "      <th>age</th>\n",
       "      <th>postal_code</th>\n",
       "    </tr>\n",
       "  </thead>\n",
       "  <tbody>\n",
       "    <tr>\n",
       "      <th>0</th>\n",
       "      <td>00000dbacae5abe5e23885899a1fa44253a17956c6d1c3...</td>\n",
       "      <td>NaN</td>\n",
       "      <td>NaN</td>\n",
       "      <td>ACTIVE</td>\n",
       "      <td>NONE</td>\n",
       "      <td>49.0</td>\n",
       "      <td>52043ee2162cf5aa7ee79974281641c6f11a68d276429a...</td>\n",
       "    </tr>\n",
       "    <tr>\n",
       "      <th>1</th>\n",
       "      <td>0000423b00ade91418cceaf3b26c6af3dd342b51fd051e...</td>\n",
       "      <td>NaN</td>\n",
       "      <td>NaN</td>\n",
       "      <td>ACTIVE</td>\n",
       "      <td>NONE</td>\n",
       "      <td>25.0</td>\n",
       "      <td>2973abc54daa8a5f8ccfe9362140c63247c5eee03f1d93...</td>\n",
       "    </tr>\n",
       "    <tr>\n",
       "      <th>2</th>\n",
       "      <td>000058a12d5b43e67d225668fa1f8d618c13dc232df0ca...</td>\n",
       "      <td>NaN</td>\n",
       "      <td>NaN</td>\n",
       "      <td>ACTIVE</td>\n",
       "      <td>NONE</td>\n",
       "      <td>24.0</td>\n",
       "      <td>64f17e6a330a85798e4998f62d0930d14db8db1c054af6...</td>\n",
       "    </tr>\n",
       "    <tr>\n",
       "      <th>3</th>\n",
       "      <td>00005ca1c9ed5f5146b52ac8639a40ca9d57aeff4d1bd2...</td>\n",
       "      <td>NaN</td>\n",
       "      <td>NaN</td>\n",
       "      <td>ACTIVE</td>\n",
       "      <td>NONE</td>\n",
       "      <td>54.0</td>\n",
       "      <td>5d36574f52495e81f019b680c843c443bd343d5ca5b1c2...</td>\n",
       "    </tr>\n",
       "    <tr>\n",
       "      <th>4</th>\n",
       "      <td>00006413d8573cd20ed7128e53b7b13819fe5cfc2d801f...</td>\n",
       "      <td>1.0</td>\n",
       "      <td>1.0</td>\n",
       "      <td>ACTIVE</td>\n",
       "      <td>Regularly</td>\n",
       "      <td>52.0</td>\n",
       "      <td>25fa5ddee9aac01b35208d01736e57942317d756b32ddd...</td>\n",
       "    </tr>\n",
       "  </tbody>\n",
       "</table>\n",
       "</div>"
      ],
      "text/plain": [
       "                                         customer_id   FN  Active  \\\n",
       "0  00000dbacae5abe5e23885899a1fa44253a17956c6d1c3...  NaN     NaN   \n",
       "1  0000423b00ade91418cceaf3b26c6af3dd342b51fd051e...  NaN     NaN   \n",
       "2  000058a12d5b43e67d225668fa1f8d618c13dc232df0ca...  NaN     NaN   \n",
       "3  00005ca1c9ed5f5146b52ac8639a40ca9d57aeff4d1bd2...  NaN     NaN   \n",
       "4  00006413d8573cd20ed7128e53b7b13819fe5cfc2d801f...  1.0     1.0   \n",
       "\n",
       "  club_member_status fashion_news_frequency   age  \\\n",
       "0             ACTIVE                   NONE  49.0   \n",
       "1             ACTIVE                   NONE  25.0   \n",
       "2             ACTIVE                   NONE  24.0   \n",
       "3             ACTIVE                   NONE  54.0   \n",
       "4             ACTIVE              Regularly  52.0   \n",
       "\n",
       "                                         postal_code  \n",
       "0  52043ee2162cf5aa7ee79974281641c6f11a68d276429a...  \n",
       "1  2973abc54daa8a5f8ccfe9362140c63247c5eee03f1d93...  \n",
       "2  64f17e6a330a85798e4998f62d0930d14db8db1c054af6...  \n",
       "3  5d36574f52495e81f019b680c843c443bd343d5ca5b1c2...  \n",
       "4  25fa5ddee9aac01b35208d01736e57942317d756b32ddd...  "
      ]
     },
     "execution_count": 3,
     "metadata": {},
     "output_type": "execute_result"
    }
   ],
   "source": [
    "cst = pd.read_csv(\"customers.csv\")\n",
    "cst.head()"
   ]
  },
  {
   "cell_type": "code",
   "execution_count": 4,
   "id": "722f8fb2",
   "metadata": {},
   "outputs": [
    {
     "data": {
      "text/html": [
       "<div>\n",
       "<style scoped>\n",
       "    .dataframe tbody tr th:only-of-type {\n",
       "        vertical-align: middle;\n",
       "    }\n",
       "\n",
       "    .dataframe tbody tr th {\n",
       "        vertical-align: top;\n",
       "    }\n",
       "\n",
       "    .dataframe thead th {\n",
       "        text-align: right;\n",
       "    }\n",
       "</style>\n",
       "<table border=\"1\" class=\"dataframe\">\n",
       "  <thead>\n",
       "    <tr style=\"text-align: right;\">\n",
       "      <th></th>\n",
       "      <th>t_dat</th>\n",
       "      <th>customer_id</th>\n",
       "      <th>article_id</th>\n",
       "      <th>price</th>\n",
       "      <th>sales_channel_id</th>\n",
       "    </tr>\n",
       "  </thead>\n",
       "  <tbody>\n",
       "    <tr>\n",
       "      <th>0</th>\n",
       "      <td>2018-09-20</td>\n",
       "      <td>000058a12d5b43e67d225668fa1f8d618c13dc232df0ca...</td>\n",
       "      <td>663713001</td>\n",
       "      <td>0.050831</td>\n",
       "      <td>2</td>\n",
       "    </tr>\n",
       "    <tr>\n",
       "      <th>1</th>\n",
       "      <td>2018-09-20</td>\n",
       "      <td>000058a12d5b43e67d225668fa1f8d618c13dc232df0ca...</td>\n",
       "      <td>541518023</td>\n",
       "      <td>0.030492</td>\n",
       "      <td>2</td>\n",
       "    </tr>\n",
       "    <tr>\n",
       "      <th>2</th>\n",
       "      <td>2018-09-20</td>\n",
       "      <td>00007d2de826758b65a93dd24ce629ed66842531df6699...</td>\n",
       "      <td>505221004</td>\n",
       "      <td>0.015237</td>\n",
       "      <td>2</td>\n",
       "    </tr>\n",
       "    <tr>\n",
       "      <th>3</th>\n",
       "      <td>2018-09-20</td>\n",
       "      <td>00007d2de826758b65a93dd24ce629ed66842531df6699...</td>\n",
       "      <td>685687003</td>\n",
       "      <td>0.016932</td>\n",
       "      <td>2</td>\n",
       "    </tr>\n",
       "    <tr>\n",
       "      <th>4</th>\n",
       "      <td>2018-09-20</td>\n",
       "      <td>00007d2de826758b65a93dd24ce629ed66842531df6699...</td>\n",
       "      <td>685687004</td>\n",
       "      <td>0.016932</td>\n",
       "      <td>2</td>\n",
       "    </tr>\n",
       "  </tbody>\n",
       "</table>\n",
       "</div>"
      ],
      "text/plain": [
       "        t_dat                                        customer_id  article_id  \\\n",
       "0  2018-09-20  000058a12d5b43e67d225668fa1f8d618c13dc232df0ca...   663713001   \n",
       "1  2018-09-20  000058a12d5b43e67d225668fa1f8d618c13dc232df0ca...   541518023   \n",
       "2  2018-09-20  00007d2de826758b65a93dd24ce629ed66842531df6699...   505221004   \n",
       "3  2018-09-20  00007d2de826758b65a93dd24ce629ed66842531df6699...   685687003   \n",
       "4  2018-09-20  00007d2de826758b65a93dd24ce629ed66842531df6699...   685687004   \n",
       "\n",
       "      price  sales_channel_id  \n",
       "0  0.050831                 2  \n",
       "1  0.030492                 2  \n",
       "2  0.015237                 2  \n",
       "3  0.016932                 2  \n",
       "4  0.016932                 2  "
      ]
     },
     "execution_count": 4,
     "metadata": {},
     "output_type": "execute_result"
    }
   ],
   "source": [
    "#trns = pd.read_csv(\"transactions_train.csv\", nrows=999999)\n",
    "trns = pd.read_csv(\"transactions_train.csv\")\n",
    "trns.head()"
   ]
  },
  {
   "cell_type": "code",
   "execution_count": 5,
   "id": "6bea1d1f",
   "metadata": {},
   "outputs": [],
   "source": [
    "def missing_data(data):\n",
    "    total = data.isnull().sum()\n",
    "    percent = (data.isnull().sum()/data.isnull().count()*100)\n",
    "    return pd.concat([total, percent], axis=1, keys=['Total', 'Percent'])"
   ]
  },
  {
   "cell_type": "code",
   "execution_count": 6,
   "id": "a09c91a8",
   "metadata": {},
   "outputs": [],
   "source": [
    "def unique_values(data):\n",
    "    total = data.count()\n",
    "    tt = pd.DataFrame(total)\n",
    "    tt.columns = ['Total']\n",
    "    uniques = []\n",
    "    for col in data.columns:\n",
    "        unique = data[col].nunique()\n",
    "        uniques.append(unique)\n",
    "    tt['Uniques'] = uniques\n",
    "    return tt"
   ]
  },
  {
   "cell_type": "markdown",
   "id": "6019c068",
   "metadata": {},
   "source": [
    "###  Customer"
   ]
  },
  {
   "cell_type": "code",
   "execution_count": 7,
   "id": "38720dbe",
   "metadata": {},
   "outputs": [
    {
     "data": {
      "text/html": [
       "<div>\n",
       "<style scoped>\n",
       "    .dataframe tbody tr th:only-of-type {\n",
       "        vertical-align: middle;\n",
       "    }\n",
       "\n",
       "    .dataframe tbody tr th {\n",
       "        vertical-align: top;\n",
       "    }\n",
       "\n",
       "    .dataframe thead th {\n",
       "        text-align: right;\n",
       "    }\n",
       "</style>\n",
       "<table border=\"1\" class=\"dataframe\">\n",
       "  <thead>\n",
       "    <tr style=\"text-align: right;\">\n",
       "      <th></th>\n",
       "      <th>Total</th>\n",
       "      <th>Percent</th>\n",
       "    </tr>\n",
       "  </thead>\n",
       "  <tbody>\n",
       "    <tr>\n",
       "      <th>customer_id</th>\n",
       "      <td>0</td>\n",
       "      <td>0.000000</td>\n",
       "    </tr>\n",
       "    <tr>\n",
       "      <th>FN</th>\n",
       "      <td>895050</td>\n",
       "      <td>65.237831</td>\n",
       "    </tr>\n",
       "    <tr>\n",
       "      <th>Active</th>\n",
       "      <td>907576</td>\n",
       "      <td>66.150819</td>\n",
       "    </tr>\n",
       "    <tr>\n",
       "      <th>club_member_status</th>\n",
       "      <td>6062</td>\n",
       "      <td>0.441843</td>\n",
       "    </tr>\n",
       "    <tr>\n",
       "      <th>fashion_news_frequency</th>\n",
       "      <td>16009</td>\n",
       "      <td>1.166854</td>\n",
       "    </tr>\n",
       "    <tr>\n",
       "      <th>age</th>\n",
       "      <td>15861</td>\n",
       "      <td>1.156066</td>\n",
       "    </tr>\n",
       "    <tr>\n",
       "      <th>postal_code</th>\n",
       "      <td>0</td>\n",
       "      <td>0.000000</td>\n",
       "    </tr>\n",
       "  </tbody>\n",
       "</table>\n",
       "</div>"
      ],
      "text/plain": [
       "                         Total    Percent\n",
       "customer_id                  0   0.000000\n",
       "FN                      895050  65.237831\n",
       "Active                  907576  66.150819\n",
       "club_member_status        6062   0.441843\n",
       "fashion_news_frequency   16009   1.166854\n",
       "age                      15861   1.156066\n",
       "postal_code                  0   0.000000"
      ]
     },
     "execution_count": 7,
     "metadata": {},
     "output_type": "execute_result"
    }
   ],
   "source": [
    "missing_data(cst)"
   ]
  },
  {
   "cell_type": "markdown",
   "id": "2963db80",
   "metadata": {},
   "source": [
    "Only customer id and postal code are completely filled. Age, fashion news frequency have arounfd 1% misssing data, FN has 65% missing and Active has 66% missing data."
   ]
  },
  {
   "cell_type": "code",
   "execution_count": 8,
   "id": "2eb45d4d",
   "metadata": {
    "scrolled": true
   },
   "outputs": [
    {
     "data": {
      "text/html": [
       "<div>\n",
       "<style scoped>\n",
       "    .dataframe tbody tr th:only-of-type {\n",
       "        vertical-align: middle;\n",
       "    }\n",
       "\n",
       "    .dataframe tbody tr th {\n",
       "        vertical-align: top;\n",
       "    }\n",
       "\n",
       "    .dataframe thead th {\n",
       "        text-align: right;\n",
       "    }\n",
       "</style>\n",
       "<table border=\"1\" class=\"dataframe\">\n",
       "  <thead>\n",
       "    <tr style=\"text-align: right;\">\n",
       "      <th></th>\n",
       "      <th>Total</th>\n",
       "      <th>Uniques</th>\n",
       "    </tr>\n",
       "  </thead>\n",
       "  <tbody>\n",
       "    <tr>\n",
       "      <th>customer_id</th>\n",
       "      <td>1371980</td>\n",
       "      <td>1371980</td>\n",
       "    </tr>\n",
       "    <tr>\n",
       "      <th>FN</th>\n",
       "      <td>476930</td>\n",
       "      <td>1</td>\n",
       "    </tr>\n",
       "    <tr>\n",
       "      <th>Active</th>\n",
       "      <td>464404</td>\n",
       "      <td>1</td>\n",
       "    </tr>\n",
       "    <tr>\n",
       "      <th>club_member_status</th>\n",
       "      <td>1365918</td>\n",
       "      <td>3</td>\n",
       "    </tr>\n",
       "    <tr>\n",
       "      <th>fashion_news_frequency</th>\n",
       "      <td>1355971</td>\n",
       "      <td>4</td>\n",
       "    </tr>\n",
       "    <tr>\n",
       "      <th>age</th>\n",
       "      <td>1356119</td>\n",
       "      <td>84</td>\n",
       "    </tr>\n",
       "    <tr>\n",
       "      <th>postal_code</th>\n",
       "      <td>1371980</td>\n",
       "      <td>352899</td>\n",
       "    </tr>\n",
       "  </tbody>\n",
       "</table>\n",
       "</div>"
      ],
      "text/plain": [
       "                          Total  Uniques\n",
       "customer_id             1371980  1371980\n",
       "FN                       476930        1\n",
       "Active                   464404        1\n",
       "club_member_status      1365918        3\n",
       "fashion_news_frequency  1355971        4\n",
       "age                     1356119       84\n",
       "postal_code             1371980   352899"
      ]
     },
     "execution_count": 8,
     "metadata": {},
     "output_type": "execute_result"
    }
   ],
   "source": [
    "unique_values(cst)"
   ]
  },
  {
   "cell_type": "code",
   "execution_count": 9,
   "id": "9eb9be52",
   "metadata": {},
   "outputs": [
    {
     "data": {
      "text/plain": [
       "array([nan,  1.])"
      ]
     },
     "execution_count": 9,
     "metadata": {},
     "output_type": "execute_result"
    }
   ],
   "source": [
    "cst.FN.unique()"
   ]
  },
  {
   "cell_type": "markdown",
   "id": "f1269dd1",
   "metadata": {},
   "source": [
    "update nan with 0. which represents fashion news not subscribed or Unknown"
   ]
  },
  {
   "cell_type": "code",
   "execution_count": 10,
   "id": "380ded9e",
   "metadata": {},
   "outputs": [
    {
     "data": {
      "text/plain": [
       "array([0., 1.])"
      ]
     },
     "execution_count": 10,
     "metadata": {},
     "output_type": "execute_result"
    }
   ],
   "source": [
    "# updating missing values with 0 \n",
    "cst[\"FN\"].fillna(0, inplace = True) \n",
    "cst.FN.unique()\n"
   ]
  },
  {
   "cell_type": "code",
   "execution_count": 11,
   "id": "9b838204",
   "metadata": {},
   "outputs": [
    {
     "data": {
      "text/plain": [
       "array([nan,  1.])"
      ]
     },
     "execution_count": 11,
     "metadata": {},
     "output_type": "execute_result"
    }
   ],
   "source": [
    "cst.Active.unique()"
   ]
  },
  {
   "cell_type": "markdown",
   "id": "cf5e9eae",
   "metadata": {},
   "source": [
    "update nan with 0. which represents Not Active or Unknown"
   ]
  },
  {
   "cell_type": "code",
   "execution_count": 12,
   "id": "613de4b0",
   "metadata": {},
   "outputs": [
    {
     "data": {
      "text/plain": [
       "array([0., 1.])"
      ]
     },
     "execution_count": 12,
     "metadata": {},
     "output_type": "execute_result"
    }
   ],
   "source": [
    "\n",
    "# updating missing values with 0 \n",
    "cst[\"Active\"].fillna(0, inplace = True) \n",
    "cst.Active.unique()"
   ]
  },
  {
   "cell_type": "code",
   "execution_count": 13,
   "id": "ee19c9dc",
   "metadata": {},
   "outputs": [
    {
     "data": {
      "text/plain": [
       "array(['ACTIVE', nan, 'PRE-CREATE', 'LEFT CLUB'], dtype=object)"
      ]
     },
     "execution_count": 13,
     "metadata": {},
     "output_type": "execute_result"
    }
   ],
   "source": [
    "cst.club_member_status.unique()"
   ]
  },
  {
   "cell_type": "markdown",
   "id": "00ad157c",
   "metadata": {},
   "source": [
    "update nan with 'Unknown'"
   ]
  },
  {
   "cell_type": "code",
   "execution_count": 14,
   "id": "546c4d12",
   "metadata": {},
   "outputs": [
    {
     "data": {
      "text/plain": [
       "array(['ACTIVE', 'Unknown', 'PRE-CREATE', 'LEFT CLUB'], dtype=object)"
      ]
     },
     "execution_count": 14,
     "metadata": {},
     "output_type": "execute_result"
    }
   ],
   "source": [
    "# updating missing values with 0 \n",
    "cst[\"club_member_status\"].fillna('Unknown', inplace = True) \n",
    "cst.club_member_status.unique()"
   ]
  },
  {
   "cell_type": "code",
   "execution_count": 15,
   "id": "3a36b109",
   "metadata": {},
   "outputs": [
    {
     "data": {
      "text/plain": [
       "array(['NONE', 'Regularly', nan, 'Monthly', 'None'], dtype=object)"
      ]
     },
     "execution_count": 15,
     "metadata": {},
     "output_type": "execute_result"
    }
   ],
   "source": [
    "cst.fashion_news_frequency.unique()"
   ]
  },
  {
   "cell_type": "markdown",
   "id": "8de57d0e",
   "metadata": {},
   "source": [
    "Update NONE to None, update nan with 'Unknown'. Might make it flag corr to FN"
   ]
  },
  {
   "cell_type": "code",
   "execution_count": 16,
   "id": "6b6707f3",
   "metadata": {},
   "outputs": [
    {
     "data": {
      "text/plain": [
       "array(['None', 'Regularly', 'Unknown', 'Monthly'], dtype=object)"
      ]
     },
     "execution_count": 16,
     "metadata": {},
     "output_type": "execute_result"
    }
   ],
   "source": [
    "# updating missing values with 0 \n",
    "cst[\"fashion_news_frequency\"].fillna('Unknown', inplace = True) \n",
    "cst['fashion_news_frequency'] = cst['fashion_news_frequency'].replace(['NONE'],'None')\n",
    "cst.fashion_news_frequency.unique()"
   ]
  },
  {
   "cell_type": "code",
   "execution_count": 17,
   "id": "b5cb565d",
   "metadata": {},
   "outputs": [
    {
     "data": {
      "text/plain": [
       "array([49., 25., 24., 54., 52., nan, 20., 32., 29., 31., 56., 75., 41.,\n",
       "       27., 30., 48., 35., 22., 40., 38., 45., 68., 55., 19., 60., 44.,\n",
       "       21., 26., 28., 53., 33., 17., 23., 51., 18., 34., 57., 47., 70.,\n",
       "       50., 63., 58., 43., 67., 72., 42., 39., 79., 71., 59., 36., 62.,\n",
       "       37., 46., 73., 64., 74., 61., 85., 69., 76., 66., 65., 82., 16.,\n",
       "       90., 80., 78., 81., 84., 77., 97., 89., 83., 98., 88., 86., 87.,\n",
       "       93., 91., 99., 96., 94., 92., 95.])"
      ]
     },
     "execution_count": 17,
     "metadata": {},
     "output_type": "execute_result"
    }
   ],
   "source": [
    "cst.age.unique()"
   ]
  },
  {
   "cell_type": "markdown",
   "id": "0d5ecd18",
   "metadata": {},
   "source": [
    "trate nan, change age type to int"
   ]
  },
  {
   "cell_type": "code",
   "execution_count": 18,
   "id": "bdb7d7f8",
   "metadata": {},
   "outputs": [],
   "source": [
    "# updating missing values with median age\n",
    "cst[\"age\"].fillna(cst['age'].median(), inplace = True) "
   ]
  },
  {
   "cell_type": "code",
   "execution_count": 19,
   "id": "ffb79bdc",
   "metadata": {},
   "outputs": [
    {
     "data": {
      "text/html": [
       "<div>\n",
       "<style scoped>\n",
       "    .dataframe tbody tr th:only-of-type {\n",
       "        vertical-align: middle;\n",
       "    }\n",
       "\n",
       "    .dataframe tbody tr th {\n",
       "        vertical-align: top;\n",
       "    }\n",
       "\n",
       "    .dataframe thead th {\n",
       "        text-align: right;\n",
       "    }\n",
       "</style>\n",
       "<table border=\"1\" class=\"dataframe\">\n",
       "  <thead>\n",
       "    <tr style=\"text-align: right;\">\n",
       "      <th></th>\n",
       "      <th>Total</th>\n",
       "      <th>Percent</th>\n",
       "    </tr>\n",
       "  </thead>\n",
       "  <tbody>\n",
       "    <tr>\n",
       "      <th>customer_id</th>\n",
       "      <td>0</td>\n",
       "      <td>0.0</td>\n",
       "    </tr>\n",
       "    <tr>\n",
       "      <th>FN</th>\n",
       "      <td>0</td>\n",
       "      <td>0.0</td>\n",
       "    </tr>\n",
       "    <tr>\n",
       "      <th>Active</th>\n",
       "      <td>0</td>\n",
       "      <td>0.0</td>\n",
       "    </tr>\n",
       "    <tr>\n",
       "      <th>club_member_status</th>\n",
       "      <td>0</td>\n",
       "      <td>0.0</td>\n",
       "    </tr>\n",
       "    <tr>\n",
       "      <th>fashion_news_frequency</th>\n",
       "      <td>0</td>\n",
       "      <td>0.0</td>\n",
       "    </tr>\n",
       "    <tr>\n",
       "      <th>age</th>\n",
       "      <td>0</td>\n",
       "      <td>0.0</td>\n",
       "    </tr>\n",
       "    <tr>\n",
       "      <th>postal_code</th>\n",
       "      <td>0</td>\n",
       "      <td>0.0</td>\n",
       "    </tr>\n",
       "  </tbody>\n",
       "</table>\n",
       "</div>"
      ],
      "text/plain": [
       "                        Total  Percent\n",
       "customer_id                 0      0.0\n",
       "FN                          0      0.0\n",
       "Active                      0      0.0\n",
       "club_member_status          0      0.0\n",
       "fashion_news_frequency      0      0.0\n",
       "age                         0      0.0\n",
       "postal_code                 0      0.0"
      ]
     },
     "execution_count": 19,
     "metadata": {},
     "output_type": "execute_result"
    }
   ],
   "source": [
    "missing_data(cst)"
   ]
  },
  {
   "cell_type": "code",
   "execution_count": 20,
   "id": "5187ec0a",
   "metadata": {},
   "outputs": [
    {
     "data": {
      "text/html": [
       "<div>\n",
       "<style scoped>\n",
       "    .dataframe tbody tr th:only-of-type {\n",
       "        vertical-align: middle;\n",
       "    }\n",
       "\n",
       "    .dataframe tbody tr th {\n",
       "        vertical-align: top;\n",
       "    }\n",
       "\n",
       "    .dataframe thead th {\n",
       "        text-align: right;\n",
       "    }\n",
       "</style>\n",
       "<table border=\"1\" class=\"dataframe\">\n",
       "  <thead>\n",
       "    <tr style=\"text-align: right;\">\n",
       "      <th></th>\n",
       "      <th>Total</th>\n",
       "      <th>Uniques</th>\n",
       "    </tr>\n",
       "  </thead>\n",
       "  <tbody>\n",
       "    <tr>\n",
       "      <th>customer_id</th>\n",
       "      <td>1371980</td>\n",
       "      <td>1371980</td>\n",
       "    </tr>\n",
       "    <tr>\n",
       "      <th>FN</th>\n",
       "      <td>1371980</td>\n",
       "      <td>2</td>\n",
       "    </tr>\n",
       "    <tr>\n",
       "      <th>Active</th>\n",
       "      <td>1371980</td>\n",
       "      <td>2</td>\n",
       "    </tr>\n",
       "    <tr>\n",
       "      <th>club_member_status</th>\n",
       "      <td>1371980</td>\n",
       "      <td>4</td>\n",
       "    </tr>\n",
       "    <tr>\n",
       "      <th>fashion_news_frequency</th>\n",
       "      <td>1371980</td>\n",
       "      <td>4</td>\n",
       "    </tr>\n",
       "    <tr>\n",
       "      <th>age</th>\n",
       "      <td>1371980</td>\n",
       "      <td>84</td>\n",
       "    </tr>\n",
       "    <tr>\n",
       "      <th>postal_code</th>\n",
       "      <td>1371980</td>\n",
       "      <td>352899</td>\n",
       "    </tr>\n",
       "  </tbody>\n",
       "</table>\n",
       "</div>"
      ],
      "text/plain": [
       "                          Total  Uniques\n",
       "customer_id             1371980  1371980\n",
       "FN                      1371980        2\n",
       "Active                  1371980        2\n",
       "club_member_status      1371980        4\n",
       "fashion_news_frequency  1371980        4\n",
       "age                     1371980       84\n",
       "postal_code             1371980   352899"
      ]
     },
     "execution_count": 20,
     "metadata": {},
     "output_type": "execute_result"
    }
   ],
   "source": [
    "unique_values(cst)"
   ]
  },
  {
   "cell_type": "code",
   "execution_count": 21,
   "id": "5ccfe48f",
   "metadata": {},
   "outputs": [
    {
     "data": {
      "text/plain": [
       "0.0    895050\n",
       "1.0    476930\n",
       "Name: FN, dtype: int64"
      ]
     },
     "execution_count": 21,
     "metadata": {},
     "output_type": "execute_result"
    }
   ],
   "source": [
    "cst[\"FN\"].value_counts()"
   ]
  },
  {
   "cell_type": "code",
   "execution_count": 22,
   "id": "d9b20380",
   "metadata": {},
   "outputs": [
    {
     "data": {
      "text/plain": [
       "0.0    907576\n",
       "1.0    464404\n",
       "Name: Active, dtype: int64"
      ]
     },
     "execution_count": 22,
     "metadata": {},
     "output_type": "execute_result"
    }
   ],
   "source": [
    "cst[\"Active\"].value_counts()"
   ]
  },
  {
   "cell_type": "code",
   "execution_count": 23,
   "id": "64b17fcb",
   "metadata": {},
   "outputs": [
    {
     "data": {
      "text/plain": [
       "ACTIVE        1272491\n",
       "PRE-CREATE      92960\n",
       "Unknown          6062\n",
       "LEFT CLUB         467\n",
       "Name: club_member_status, dtype: int64"
      ]
     },
     "execution_count": 23,
     "metadata": {},
     "output_type": "execute_result"
    }
   ],
   "source": [
    "cst[\"club_member_status\"].value_counts()"
   ]
  },
  {
   "cell_type": "code",
   "execution_count": 24,
   "id": "62457fd8",
   "metadata": {},
   "outputs": [
    {
     "data": {
      "text/plain": [
       "None         877713\n",
       "Regularly    477416\n",
       "Unknown       16009\n",
       "Monthly         842\n",
       "Name: fashion_news_frequency, dtype: int64"
      ]
     },
     "execution_count": 24,
     "metadata": {},
     "output_type": "execute_result"
    }
   ],
   "source": [
    "cst[\"fashion_news_frequency\"].value_counts()"
   ]
  },
  {
   "cell_type": "code",
   "execution_count": 25,
   "id": "0c349802",
   "metadata": {},
   "outputs": [
    {
     "data": {
      "text/plain": [
       "478258"
      ]
     },
     "execution_count": 25,
     "metadata": {},
     "output_type": "execute_result"
    }
   ],
   "source": [
    "477416 + 842"
   ]
  },
  {
   "cell_type": "code",
   "execution_count": 26,
   "id": "5b787f72",
   "metadata": {},
   "outputs": [
    {
     "data": {
      "text/plain": [
       "893722"
      ]
     },
     "execution_count": 26,
     "metadata": {},
     "output_type": "execute_result"
    }
   ],
   "source": [
    "877713 + 16009"
   ]
  },
  {
   "cell_type": "markdown",
   "id": "1db8e90a",
   "metadata": {},
   "source": [
    "is FN and fashion_news_frequency column shows similar data? "
   ]
  },
  {
   "cell_type": "code",
   "execution_count": 27,
   "id": "0c2838cb",
   "metadata": {},
   "outputs": [
    {
     "data": {
      "image/png": "[encoded data removed]",
      "text/plain": [
       "<Figure size 720x360 with 1 Axes>"
      ]
     },
     "metadata": {},
     "output_type": "display_data"
    }
   ],
   "source": [
    "sns.set_style(\"darkgrid\")\n",
    "f, ax = plt.subplots(figsize=(10,5))\n",
    "ax = sns.histplot(data=cst, x='age',bins=70, color='blue')\n",
    "ax.set_xlabel('Distribution of the customers age')\n",
    "plt.show()"
   ]
  },
  {
   "cell_type": "markdown",
   "id": "c9013d8e",
   "metadata": {},
   "source": [
    "### Articles"
   ]
  },
  {
   "cell_type": "code",
   "execution_count": 28,
   "id": "01de7680",
   "metadata": {
    "scrolled": true
   },
   "outputs": [
    {
     "data": {
      "text/html": [
       "<div>\n",
       "<style scoped>\n",
       "    .dataframe tbody tr th:only-of-type {\n",
       "        vertical-align: middle;\n",
       "    }\n",
       "\n",
       "    .dataframe tbody tr th {\n",
       "        vertical-align: top;\n",
       "    }\n",
       "\n",
       "    .dataframe thead th {\n",
       "        text-align: right;\n",
       "    }\n",
       "</style>\n",
       "<table border=\"1\" class=\"dataframe\">\n",
       "  <thead>\n",
       "    <tr style=\"text-align: right;\">\n",
       "      <th></th>\n",
       "      <th>Total</th>\n",
       "      <th>Percent</th>\n",
       "    </tr>\n",
       "  </thead>\n",
       "  <tbody>\n",
       "    <tr>\n",
       "      <th>article_id</th>\n",
       "      <td>0</td>\n",
       "      <td>0.000000</td>\n",
       "    </tr>\n",
       "    <tr>\n",
       "      <th>product_code</th>\n",
       "      <td>0</td>\n",
       "      <td>0.000000</td>\n",
       "    </tr>\n",
       "    <tr>\n",
       "      <th>prod_name</th>\n",
       "      <td>0</td>\n",
       "      <td>0.000000</td>\n",
       "    </tr>\n",
       "    <tr>\n",
       "      <th>product_type_no</th>\n",
       "      <td>0</td>\n",
       "      <td>0.000000</td>\n",
       "    </tr>\n",
       "    <tr>\n",
       "      <th>product_type_name</th>\n",
       "      <td>0</td>\n",
       "      <td>0.000000</td>\n",
       "    </tr>\n",
       "    <tr>\n",
       "      <th>product_group_name</th>\n",
       "      <td>0</td>\n",
       "      <td>0.000000</td>\n",
       "    </tr>\n",
       "    <tr>\n",
       "      <th>graphical_appearance_no</th>\n",
       "      <td>0</td>\n",
       "      <td>0.000000</td>\n",
       "    </tr>\n",
       "    <tr>\n",
       "      <th>graphical_appearance_name</th>\n",
       "      <td>0</td>\n",
       "      <td>0.000000</td>\n",
       "    </tr>\n",
       "    <tr>\n",
       "      <th>colour_group_code</th>\n",
       "      <td>0</td>\n",
       "      <td>0.000000</td>\n",
       "    </tr>\n",
       "    <tr>\n",
       "      <th>colour_group_name</th>\n",
       "      <td>0</td>\n",
       "      <td>0.000000</td>\n",
       "    </tr>\n",
       "    <tr>\n",
       "      <th>perceived_colour_value_id</th>\n",
       "      <td>0</td>\n",
       "      <td>0.000000</td>\n",
       "    </tr>\n",
       "    <tr>\n",
       "      <th>perceived_colour_value_name</th>\n",
       "      <td>0</td>\n",
       "      <td>0.000000</td>\n",
       "    </tr>\n",
       "    <tr>\n",
       "      <th>perceived_colour_master_id</th>\n",
       "      <td>0</td>\n",
       "      <td>0.000000</td>\n",
       "    </tr>\n",
       "    <tr>\n",
       "      <th>perceived_colour_master_name</th>\n",
       "      <td>0</td>\n",
       "      <td>0.000000</td>\n",
       "    </tr>\n",
       "    <tr>\n",
       "      <th>department_no</th>\n",
       "      <td>0</td>\n",
       "      <td>0.000000</td>\n",
       "    </tr>\n",
       "    <tr>\n",
       "      <th>department_name</th>\n",
       "      <td>0</td>\n",
       "      <td>0.000000</td>\n",
       "    </tr>\n",
       "    <tr>\n",
       "      <th>index_code</th>\n",
       "      <td>0</td>\n",
       "      <td>0.000000</td>\n",
       "    </tr>\n",
       "    <tr>\n",
       "      <th>index_name</th>\n",
       "      <td>0</td>\n",
       "      <td>0.000000</td>\n",
       "    </tr>\n",
       "    <tr>\n",
       "      <th>index_group_no</th>\n",
       "      <td>0</td>\n",
       "      <td>0.000000</td>\n",
       "    </tr>\n",
       "    <tr>\n",
       "      <th>index_group_name</th>\n",
       "      <td>0</td>\n",
       "      <td>0.000000</td>\n",
       "    </tr>\n",
       "    <tr>\n",
       "      <th>section_no</th>\n",
       "      <td>0</td>\n",
       "      <td>0.000000</td>\n",
       "    </tr>\n",
       "    <tr>\n",
       "      <th>section_name</th>\n",
       "      <td>0</td>\n",
       "      <td>0.000000</td>\n",
       "    </tr>\n",
       "    <tr>\n",
       "      <th>garment_group_no</th>\n",
       "      <td>0</td>\n",
       "      <td>0.000000</td>\n",
       "    </tr>\n",
       "    <tr>\n",
       "      <th>garment_group_name</th>\n",
       "      <td>0</td>\n",
       "      <td>0.000000</td>\n",
       "    </tr>\n",
       "    <tr>\n",
       "      <th>detail_desc</th>\n",
       "      <td>416</td>\n",
       "      <td>0.394156</td>\n",
       "    </tr>\n",
       "  </tbody>\n",
       "</table>\n",
       "</div>"
      ],
      "text/plain": [
       "                              Total   Percent\n",
       "article_id                        0  0.000000\n",
       "product_code                      0  0.000000\n",
       "prod_name                         0  0.000000\n",
       "product_type_no                   0  0.000000\n",
       "product_type_name                 0  0.000000\n",
       "product_group_name                0  0.000000\n",
       "graphical_appearance_no           0  0.000000\n",
       "graphical_appearance_name         0  0.000000\n",
       "colour_group_code                 0  0.000000\n",
       "colour_group_name                 0  0.000000\n",
       "perceived_colour_value_id         0  0.000000\n",
       "perceived_colour_value_name       0  0.000000\n",
       "perceived_colour_master_id        0  0.000000\n",
       "perceived_colour_master_name      0  0.000000\n",
       "department_no                     0  0.000000\n",
       "department_name                   0  0.000000\n",
       "index_code                        0  0.000000\n",
       "index_name                        0  0.000000\n",
       "index_group_no                    0  0.000000\n",
       "index_group_name                  0  0.000000\n",
       "section_no                        0  0.000000\n",
       "section_name                      0  0.000000\n",
       "garment_group_no                  0  0.000000\n",
       "garment_group_name                0  0.000000\n",
       "detail_desc                     416  0.394156"
      ]
     },
     "execution_count": 28,
     "metadata": {},
     "output_type": "execute_result"
    }
   ],
   "source": [
    "missing_data(art)"
   ]
  },
  {
   "cell_type": "markdown",
   "id": "e1a0af9f",
   "metadata": {},
   "source": [
    "In the article data, the only missing data is for the detailed description of the article (0.4%) missing data. Lets Update that with 'Unknown'"
   ]
  },
  {
   "cell_type": "code",
   "execution_count": 29,
   "id": "3eb85fa2",
   "metadata": {},
   "outputs": [],
   "source": [
    "# updating missing values with 'Unknown' \n",
    "art[\"detail_desc\"].fillna(\"Unknown\", inplace = True)"
   ]
  },
  {
   "cell_type": "code",
   "execution_count": 30,
   "id": "c6ab3f79",
   "metadata": {},
   "outputs": [
    {
     "data": {
      "text/html": [
       "<div>\n",
       "<style scoped>\n",
       "    .dataframe tbody tr th:only-of-type {\n",
       "        vertical-align: middle;\n",
       "    }\n",
       "\n",
       "    .dataframe tbody tr th {\n",
       "        vertical-align: top;\n",
       "    }\n",
       "\n",
       "    .dataframe thead th {\n",
       "        text-align: right;\n",
       "    }\n",
       "</style>\n",
       "<table border=\"1\" class=\"dataframe\">\n",
       "  <thead>\n",
       "    <tr style=\"text-align: right;\">\n",
       "      <th></th>\n",
       "      <th>Total</th>\n",
       "      <th>Percent</th>\n",
       "    </tr>\n",
       "  </thead>\n",
       "  <tbody>\n",
       "    <tr>\n",
       "      <th>article_id</th>\n",
       "      <td>0</td>\n",
       "      <td>0.0</td>\n",
       "    </tr>\n",
       "    <tr>\n",
       "      <th>product_code</th>\n",
       "      <td>0</td>\n",
       "      <td>0.0</td>\n",
       "    </tr>\n",
       "    <tr>\n",
       "      <th>prod_name</th>\n",
       "      <td>0</td>\n",
       "      <td>0.0</td>\n",
       "    </tr>\n",
       "    <tr>\n",
       "      <th>product_type_no</th>\n",
       "      <td>0</td>\n",
       "      <td>0.0</td>\n",
       "    </tr>\n",
       "    <tr>\n",
       "      <th>product_type_name</th>\n",
       "      <td>0</td>\n",
       "      <td>0.0</td>\n",
       "    </tr>\n",
       "    <tr>\n",
       "      <th>product_group_name</th>\n",
       "      <td>0</td>\n",
       "      <td>0.0</td>\n",
       "    </tr>\n",
       "    <tr>\n",
       "      <th>graphical_appearance_no</th>\n",
       "      <td>0</td>\n",
       "      <td>0.0</td>\n",
       "    </tr>\n",
       "    <tr>\n",
       "      <th>graphical_appearance_name</th>\n",
       "      <td>0</td>\n",
       "      <td>0.0</td>\n",
       "    </tr>\n",
       "    <tr>\n",
       "      <th>colour_group_code</th>\n",
       "      <td>0</td>\n",
       "      <td>0.0</td>\n",
       "    </tr>\n",
       "    <tr>\n",
       "      <th>colour_group_name</th>\n",
       "      <td>0</td>\n",
       "      <td>0.0</td>\n",
       "    </tr>\n",
       "    <tr>\n",
       "      <th>perceived_colour_value_id</th>\n",
       "      <td>0</td>\n",
       "      <td>0.0</td>\n",
       "    </tr>\n",
       "    <tr>\n",
       "      <th>perceived_colour_value_name</th>\n",
       "      <td>0</td>\n",
       "      <td>0.0</td>\n",
       "    </tr>\n",
       "    <tr>\n",
       "      <th>perceived_colour_master_id</th>\n",
       "      <td>0</td>\n",
       "      <td>0.0</td>\n",
       "    </tr>\n",
       "    <tr>\n",
       "      <th>perceived_colour_master_name</th>\n",
       "      <td>0</td>\n",
       "      <td>0.0</td>\n",
       "    </tr>\n",
       "    <tr>\n",
       "      <th>department_no</th>\n",
       "      <td>0</td>\n",
       "      <td>0.0</td>\n",
       "    </tr>\n",
       "    <tr>\n",
       "      <th>department_name</th>\n",
       "      <td>0</td>\n",
       "      <td>0.0</td>\n",
       "    </tr>\n",
       "    <tr>\n",
       "      <th>index_code</th>\n",
       "      <td>0</td>\n",
       "      <td>0.0</td>\n",
       "    </tr>\n",
       "    <tr>\n",
       "      <th>index_name</th>\n",
       "      <td>0</td>\n",
       "      <td>0.0</td>\n",
       "    </tr>\n",
       "    <tr>\n",
       "      <th>index_group_no</th>\n",
       "      <td>0</td>\n",
       "      <td>0.0</td>\n",
       "    </tr>\n",
       "    <tr>\n",
       "      <th>index_group_name</th>\n",
       "      <td>0</td>\n",
       "      <td>0.0</td>\n",
       "    </tr>\n",
       "    <tr>\n",
       "      <th>section_no</th>\n",
       "      <td>0</td>\n",
       "      <td>0.0</td>\n",
       "    </tr>\n",
       "    <tr>\n",
       "      <th>section_name</th>\n",
       "      <td>0</td>\n",
       "      <td>0.0</td>\n",
       "    </tr>\n",
       "    <tr>\n",
       "      <th>garment_group_no</th>\n",
       "      <td>0</td>\n",
       "      <td>0.0</td>\n",
       "    </tr>\n",
       "    <tr>\n",
       "      <th>garment_group_name</th>\n",
       "      <td>0</td>\n",
       "      <td>0.0</td>\n",
       "    </tr>\n",
       "    <tr>\n",
       "      <th>detail_desc</th>\n",
       "      <td>0</td>\n",
       "      <td>0.0</td>\n",
       "    </tr>\n",
       "  </tbody>\n",
       "</table>\n",
       "</div>"
      ],
      "text/plain": [
       "                              Total  Percent\n",
       "article_id                        0      0.0\n",
       "product_code                      0      0.0\n",
       "prod_name                         0      0.0\n",
       "product_type_no                   0      0.0\n",
       "product_type_name                 0      0.0\n",
       "product_group_name                0      0.0\n",
       "graphical_appearance_no           0      0.0\n",
       "graphical_appearance_name         0      0.0\n",
       "colour_group_code                 0      0.0\n",
       "colour_group_name                 0      0.0\n",
       "perceived_colour_value_id         0      0.0\n",
       "perceived_colour_value_name       0      0.0\n",
       "perceived_colour_master_id        0      0.0\n",
       "perceived_colour_master_name      0      0.0\n",
       "department_no                     0      0.0\n",
       "department_name                   0      0.0\n",
       "index_code                        0      0.0\n",
       "index_name                        0      0.0\n",
       "index_group_no                    0      0.0\n",
       "index_group_name                  0      0.0\n",
       "section_no                        0      0.0\n",
       "section_name                      0      0.0\n",
       "garment_group_no                  0      0.0\n",
       "garment_group_name                0      0.0\n",
       "detail_desc                       0      0.0"
      ]
     },
     "execution_count": 30,
     "metadata": {},
     "output_type": "execute_result"
    }
   ],
   "source": [
    "missing_data(art)"
   ]
  },
  {
   "cell_type": "code",
   "execution_count": 31,
   "id": "776682cc",
   "metadata": {},
   "outputs": [
    {
     "data": {
      "text/html": [
       "<div>\n",
       "<style scoped>\n",
       "    .dataframe tbody tr th:only-of-type {\n",
       "        vertical-align: middle;\n",
       "    }\n",
       "\n",
       "    .dataframe tbody tr th {\n",
       "        vertical-align: top;\n",
       "    }\n",
       "\n",
       "    .dataframe thead th {\n",
       "        text-align: right;\n",
       "    }\n",
       "</style>\n",
       "<table border=\"1\" class=\"dataframe\">\n",
       "  <thead>\n",
       "    <tr style=\"text-align: right;\">\n",
       "      <th></th>\n",
       "      <th>Total</th>\n",
       "      <th>Uniques</th>\n",
       "    </tr>\n",
       "  </thead>\n",
       "  <tbody>\n",
       "    <tr>\n",
       "      <th>article_id</th>\n",
       "      <td>105542</td>\n",
       "      <td>105542</td>\n",
       "    </tr>\n",
       "    <tr>\n",
       "      <th>product_code</th>\n",
       "      <td>105542</td>\n",
       "      <td>47224</td>\n",
       "    </tr>\n",
       "    <tr>\n",
       "      <th>prod_name</th>\n",
       "      <td>105542</td>\n",
       "      <td>45875</td>\n",
       "    </tr>\n",
       "    <tr>\n",
       "      <th>product_type_no</th>\n",
       "      <td>105542</td>\n",
       "      <td>132</td>\n",
       "    </tr>\n",
       "    <tr>\n",
       "      <th>product_type_name</th>\n",
       "      <td>105542</td>\n",
       "      <td>131</td>\n",
       "    </tr>\n",
       "    <tr>\n",
       "      <th>product_group_name</th>\n",
       "      <td>105542</td>\n",
       "      <td>19</td>\n",
       "    </tr>\n",
       "    <tr>\n",
       "      <th>graphical_appearance_no</th>\n",
       "      <td>105542</td>\n",
       "      <td>30</td>\n",
       "    </tr>\n",
       "    <tr>\n",
       "      <th>graphical_appearance_name</th>\n",
       "      <td>105542</td>\n",
       "      <td>30</td>\n",
       "    </tr>\n",
       "    <tr>\n",
       "      <th>colour_group_code</th>\n",
       "      <td>105542</td>\n",
       "      <td>50</td>\n",
       "    </tr>\n",
       "    <tr>\n",
       "      <th>colour_group_name</th>\n",
       "      <td>105542</td>\n",
       "      <td>50</td>\n",
       "    </tr>\n",
       "    <tr>\n",
       "      <th>perceived_colour_value_id</th>\n",
       "      <td>105542</td>\n",
       "      <td>8</td>\n",
       "    </tr>\n",
       "    <tr>\n",
       "      <th>perceived_colour_value_name</th>\n",
       "      <td>105542</td>\n",
       "      <td>8</td>\n",
       "    </tr>\n",
       "    <tr>\n",
       "      <th>perceived_colour_master_id</th>\n",
       "      <td>105542</td>\n",
       "      <td>20</td>\n",
       "    </tr>\n",
       "    <tr>\n",
       "      <th>perceived_colour_master_name</th>\n",
       "      <td>105542</td>\n",
       "      <td>20</td>\n",
       "    </tr>\n",
       "    <tr>\n",
       "      <th>department_no</th>\n",
       "      <td>105542</td>\n",
       "      <td>299</td>\n",
       "    </tr>\n",
       "    <tr>\n",
       "      <th>department_name</th>\n",
       "      <td>105542</td>\n",
       "      <td>250</td>\n",
       "    </tr>\n",
       "    <tr>\n",
       "      <th>index_code</th>\n",
       "      <td>105542</td>\n",
       "      <td>10</td>\n",
       "    </tr>\n",
       "    <tr>\n",
       "      <th>index_name</th>\n",
       "      <td>105542</td>\n",
       "      <td>10</td>\n",
       "    </tr>\n",
       "    <tr>\n",
       "      <th>index_group_no</th>\n",
       "      <td>105542</td>\n",
       "      <td>5</td>\n",
       "    </tr>\n",
       "    <tr>\n",
       "      <th>index_group_name</th>\n",
       "      <td>105542</td>\n",
       "      <td>5</td>\n",
       "    </tr>\n",
       "    <tr>\n",
       "      <th>section_no</th>\n",
       "      <td>105542</td>\n",
       "      <td>57</td>\n",
       "    </tr>\n",
       "    <tr>\n",
       "      <th>section_name</th>\n",
       "      <td>105542</td>\n",
       "      <td>56</td>\n",
       "    </tr>\n",
       "    <tr>\n",
       "      <th>garment_group_no</th>\n",
       "      <td>105542</td>\n",
       "      <td>21</td>\n",
       "    </tr>\n",
       "    <tr>\n",
       "      <th>garment_group_name</th>\n",
       "      <td>105542</td>\n",
       "      <td>21</td>\n",
       "    </tr>\n",
       "    <tr>\n",
       "      <th>detail_desc</th>\n",
       "      <td>105542</td>\n",
       "      <td>43405</td>\n",
       "    </tr>\n",
       "  </tbody>\n",
       "</table>\n",
       "</div>"
      ],
      "text/plain": [
       "                               Total  Uniques\n",
       "article_id                    105542   105542\n",
       "product_code                  105542    47224\n",
       "prod_name                     105542    45875\n",
       "product_type_no               105542      132\n",
       "product_type_name             105542      131\n",
       "product_group_name            105542       19\n",
       "graphical_appearance_no       105542       30\n",
       "graphical_appearance_name     105542       30\n",
       "colour_group_code             105542       50\n",
       "colour_group_name             105542       50\n",
       "perceived_colour_value_id     105542        8\n",
       "perceived_colour_value_name   105542        8\n",
       "perceived_colour_master_id    105542       20\n",
       "perceived_colour_master_name  105542       20\n",
       "department_no                 105542      299\n",
       "department_name               105542      250\n",
       "index_code                    105542       10\n",
       "index_name                    105542       10\n",
       "index_group_no                105542        5\n",
       "index_group_name              105542        5\n",
       "section_no                    105542       57\n",
       "section_name                  105542       56\n",
       "garment_group_no              105542       21\n",
       "garment_group_name            105542       21\n",
       "detail_desc                   105542    43405"
      ]
     },
     "execution_count": 31,
     "metadata": {},
     "output_type": "execute_result"
    }
   ],
   "source": [
    "unique_values(art)"
   ]
  },
  {
   "cell_type": "markdown",
   "id": "fa6630d1",
   "metadata": {},
   "source": [
    "We observe that features for which we expect to have the same number of unique value, like:\n",
    "\n",
    "product_type_no and product_type_name, departmant_no and department_name, section_no and section_name"
   ]
  },
  {
   "cell_type": "code",
   "execution_count": 32,
   "id": "db26731e",
   "metadata": {},
   "outputs": [
    {
     "data": {
      "text/plain": [
       "Garment Upper body       42741\n",
       "Garment Lower body       19812\n",
       "Garment Full body        13292\n",
       "Accessories              11158\n",
       "Underwear                 5490\n",
       "Shoes                     5283\n",
       "Swimwear                  3127\n",
       "Socks & Tights            2442\n",
       "Nightwear                 1899\n",
       "Unknown                    121\n",
       "Underwear/nightwear         54\n",
       "Cosmetic                    49\n",
       "Bags                        25\n",
       "Items                       17\n",
       "Furniture                   13\n",
       "Garment and Shoe care        9\n",
       "Stationery                   5\n",
       "Interior textile             3\n",
       "Fun                          2\n",
       "Name: product_group_name, dtype: int64"
      ]
     },
     "execution_count": 32,
     "metadata": {},
     "output_type": "execute_result"
    }
   ],
   "source": [
    "art[\"product_group_name\"].value_counts()"
   ]
  },
  {
   "cell_type": "code",
   "execution_count": 33,
   "id": "4e66bb89",
   "metadata": {
    "scrolled": true
   },
   "outputs": [
    {
     "data": {
      "text/html": [
       "<div>\n",
       "<style scoped>\n",
       "    .dataframe tbody tr th:only-of-type {\n",
       "        vertical-align: middle;\n",
       "    }\n",
       "\n",
       "    .dataframe tbody tr th {\n",
       "        vertical-align: top;\n",
       "    }\n",
       "\n",
       "    .dataframe thead th {\n",
       "        text-align: right;\n",
       "    }\n",
       "</style>\n",
       "<table border=\"1\" class=\"dataframe\">\n",
       "  <thead>\n",
       "    <tr style=\"text-align: right;\">\n",
       "      <th></th>\n",
       "      <th>article_id</th>\n",
       "      <th>product_code</th>\n",
       "      <th>prod_name</th>\n",
       "      <th>product_type_no</th>\n",
       "      <th>product_type_name</th>\n",
       "      <th>product_group_name</th>\n",
       "      <th>graphical_appearance_no</th>\n",
       "      <th>graphical_appearance_name</th>\n",
       "      <th>colour_group_code</th>\n",
       "      <th>colour_group_name</th>\n",
       "      <th>...</th>\n",
       "      <th>department_name</th>\n",
       "      <th>index_code</th>\n",
       "      <th>index_name</th>\n",
       "      <th>index_group_no</th>\n",
       "      <th>index_group_name</th>\n",
       "      <th>section_no</th>\n",
       "      <th>section_name</th>\n",
       "      <th>garment_group_no</th>\n",
       "      <th>garment_group_name</th>\n",
       "      <th>detail_desc</th>\n",
       "    </tr>\n",
       "  </thead>\n",
       "  <tbody>\n",
       "    <tr>\n",
       "      <th>0</th>\n",
       "      <td>108775015</td>\n",
       "      <td>108775</td>\n",
       "      <td>Strap top</td>\n",
       "      <td>253</td>\n",
       "      <td>Vest top</td>\n",
       "      <td>Garment Upper body</td>\n",
       "      <td>1010016</td>\n",
       "      <td>Solid</td>\n",
       "      <td>9</td>\n",
       "      <td>Black</td>\n",
       "      <td>...</td>\n",
       "      <td>Jersey Basic</td>\n",
       "      <td>A</td>\n",
       "      <td>Ladieswear</td>\n",
       "      <td>1</td>\n",
       "      <td>Ladieswear</td>\n",
       "      <td>16</td>\n",
       "      <td>Womens Everyday Basics</td>\n",
       "      <td>1002</td>\n",
       "      <td>Jersey Basic</td>\n",
       "      <td>Jersey top with narrow shoulder straps.</td>\n",
       "    </tr>\n",
       "    <tr>\n",
       "      <th>1</th>\n",
       "      <td>108775044</td>\n",
       "      <td>108775</td>\n",
       "      <td>Strap top</td>\n",
       "      <td>253</td>\n",
       "      <td>Vest top</td>\n",
       "      <td>Garment Upper body</td>\n",
       "      <td>1010016</td>\n",
       "      <td>Solid</td>\n",
       "      <td>10</td>\n",
       "      <td>White</td>\n",
       "      <td>...</td>\n",
       "      <td>Jersey Basic</td>\n",
       "      <td>A</td>\n",
       "      <td>Ladieswear</td>\n",
       "      <td>1</td>\n",
       "      <td>Ladieswear</td>\n",
       "      <td>16</td>\n",
       "      <td>Womens Everyday Basics</td>\n",
       "      <td>1002</td>\n",
       "      <td>Jersey Basic</td>\n",
       "      <td>Jersey top with narrow shoulder straps.</td>\n",
       "    </tr>\n",
       "    <tr>\n",
       "      <th>2</th>\n",
       "      <td>108775051</td>\n",
       "      <td>108775</td>\n",
       "      <td>Strap top (1)</td>\n",
       "      <td>253</td>\n",
       "      <td>Vest top</td>\n",
       "      <td>Garment Upper body</td>\n",
       "      <td>1010017</td>\n",
       "      <td>Stripe</td>\n",
       "      <td>11</td>\n",
       "      <td>Off White</td>\n",
       "      <td>...</td>\n",
       "      <td>Jersey Basic</td>\n",
       "      <td>A</td>\n",
       "      <td>Ladieswear</td>\n",
       "      <td>1</td>\n",
       "      <td>Ladieswear</td>\n",
       "      <td>16</td>\n",
       "      <td>Womens Everyday Basics</td>\n",
       "      <td>1002</td>\n",
       "      <td>Jersey Basic</td>\n",
       "      <td>Jersey top with narrow shoulder straps.</td>\n",
       "    </tr>\n",
       "    <tr>\n",
       "      <th>8</th>\n",
       "      <td>111586001</td>\n",
       "      <td>111586</td>\n",
       "      <td>Shape Up 30 den 1p Tights</td>\n",
       "      <td>273</td>\n",
       "      <td>Leggings/Tights</td>\n",
       "      <td>Garment Lower body</td>\n",
       "      <td>1010016</td>\n",
       "      <td>Solid</td>\n",
       "      <td>9</td>\n",
       "      <td>Black</td>\n",
       "      <td>...</td>\n",
       "      <td>Tights basic</td>\n",
       "      <td>B</td>\n",
       "      <td>Lingeries/Tights</td>\n",
       "      <td>1</td>\n",
       "      <td>Ladieswear</td>\n",
       "      <td>62</td>\n",
       "      <td>Womens Nightwear, Socks &amp; Tigh</td>\n",
       "      <td>1021</td>\n",
       "      <td>Socks and Tights</td>\n",
       "      <td>Tights with built-in support to lift the botto...</td>\n",
       "    </tr>\n",
       "    <tr>\n",
       "      <th>11</th>\n",
       "      <td>112679048</td>\n",
       "      <td>112679</td>\n",
       "      <td>SWEATSHIRT  OC</td>\n",
       "      <td>252</td>\n",
       "      <td>Sweater</td>\n",
       "      <td>Garment Upper body</td>\n",
       "      <td>1010001</td>\n",
       "      <td>All over pattern</td>\n",
       "      <td>7</td>\n",
       "      <td>Grey</td>\n",
       "      <td>...</td>\n",
       "      <td>Baby basics</td>\n",
       "      <td>G</td>\n",
       "      <td>Baby Sizes 50-98</td>\n",
       "      <td>4</td>\n",
       "      <td>Baby/Children</td>\n",
       "      <td>44</td>\n",
       "      <td>Baby Essentials &amp; Complements</td>\n",
       "      <td>1002</td>\n",
       "      <td>Jersey Basic</td>\n",
       "      <td>Sweatshirt in soft organic cotton with a  pres...</td>\n",
       "    </tr>\n",
       "  </tbody>\n",
       "</table>\n",
       "<p>5 rows × 25 columns</p>\n",
       "</div>"
      ],
      "text/plain": [
       "    article_id  product_code                  prod_name  product_type_no  \\\n",
       "0    108775015        108775                  Strap top              253   \n",
       "1    108775044        108775                  Strap top              253   \n",
       "2    108775051        108775              Strap top (1)              253   \n",
       "8    111586001        111586  Shape Up 30 den 1p Tights              273   \n",
       "11   112679048        112679             SWEATSHIRT  OC              252   \n",
       "\n",
       "   product_type_name  product_group_name  graphical_appearance_no  \\\n",
       "0           Vest top  Garment Upper body                  1010016   \n",
       "1           Vest top  Garment Upper body                  1010016   \n",
       "2           Vest top  Garment Upper body                  1010017   \n",
       "8    Leggings/Tights  Garment Lower body                  1010016   \n",
       "11           Sweater  Garment Upper body                  1010001   \n",
       "\n",
       "   graphical_appearance_name  colour_group_code colour_group_name  ...  \\\n",
       "0                      Solid                  9             Black  ...   \n",
       "1                      Solid                 10             White  ...   \n",
       "2                     Stripe                 11         Off White  ...   \n",
       "8                      Solid                  9             Black  ...   \n",
       "11          All over pattern                  7              Grey  ...   \n",
       "\n",
       "    department_name index_code        index_name index_group_no  \\\n",
       "0      Jersey Basic          A        Ladieswear              1   \n",
       "1      Jersey Basic          A        Ladieswear              1   \n",
       "2      Jersey Basic          A        Ladieswear              1   \n",
       "8      Tights basic          B  Lingeries/Tights              1   \n",
       "11      Baby basics          G  Baby Sizes 50-98              4   \n",
       "\n",
       "    index_group_name section_no                    section_name  \\\n",
       "0         Ladieswear         16          Womens Everyday Basics   \n",
       "1         Ladieswear         16          Womens Everyday Basics   \n",
       "2         Ladieswear         16          Womens Everyday Basics   \n",
       "8         Ladieswear         62  Womens Nightwear, Socks & Tigh   \n",
       "11     Baby/Children         44   Baby Essentials & Complements   \n",
       "\n",
       "   garment_group_no  garment_group_name  \\\n",
       "0              1002        Jersey Basic   \n",
       "1              1002        Jersey Basic   \n",
       "2              1002        Jersey Basic   \n",
       "8              1021    Socks and Tights   \n",
       "11             1002        Jersey Basic   \n",
       "\n",
       "                                          detail_desc  \n",
       "0             Jersey top with narrow shoulder straps.  \n",
       "1             Jersey top with narrow shoulder straps.  \n",
       "2             Jersey top with narrow shoulder straps.  \n",
       "8   Tights with built-in support to lift the botto...  \n",
       "11  Sweatshirt in soft organic cotton with a  pres...  \n",
       "\n",
       "[5 rows x 25 columns]"
      ]
     },
     "execution_count": 33,
     "metadata": {},
     "output_type": "execute_result"
    }
   ],
   "source": [
    "art_filtered = art[art['product_group_name'].isin(['Garment Upper body', 'Garment Lower body', 'Garment Full body'])]\n",
    "art_filtered.head()"
   ]
  },
  {
   "cell_type": "code",
   "execution_count": 34,
   "id": "f9207575",
   "metadata": {},
   "outputs": [
    {
     "data": {
      "text/plain": [
       "Ladieswear       25453\n",
       "Baby/Children    25372\n",
       "Divided          13006\n",
       "Menswear          9330\n",
       "Sport             2684\n",
       "Name: index_group_name, dtype: int64"
      ]
     },
     "execution_count": 34,
     "metadata": {},
     "output_type": "execute_result"
    }
   ],
   "source": [
    "art_filtered[\"index_group_name\"].value_counts()"
   ]
  },
  {
   "cell_type": "code",
   "execution_count": 35,
   "id": "b016136c",
   "metadata": {},
   "outputs": [],
   "source": [
    "art_filtered = art_filtered[art_filtered['index_group_name']=='Ladieswear']"
   ]
  },
  {
   "cell_type": "code",
   "execution_count": 36,
   "id": "e8704ad0",
   "metadata": {
    "scrolled": true
   },
   "outputs": [],
   "source": [
    "art_filtered = art_filtered[art_filtered['product_type_name'].isin(['Dress', 'Trousers','Sweater', 'Blouse','Top','Skirt','T-shirt','Jacket','Shirt'])]"
   ]
  },
  {
   "cell_type": "code",
   "execution_count": 37,
   "id": "5eb1619f",
   "metadata": {},
   "outputs": [],
   "source": [
    "art_filtered = art_filtered[art_filtered['index_name']=='Ladieswear']"
   ]
  },
  {
   "cell_type": "code",
   "execution_count": 38,
   "id": "35f6e252",
   "metadata": {},
   "outputs": [],
   "source": [
    "art_filtered = art_filtered[art_filtered['section_name']!='Mama']"
   ]
  },
  {
   "cell_type": "code",
   "execution_count": 39,
   "id": "ee705bd7",
   "metadata": {},
   "outputs": [
    {
     "data": {
      "text/html": [
       "<div>\n",
       "<style scoped>\n",
       "    .dataframe tbody tr th:only-of-type {\n",
       "        vertical-align: middle;\n",
       "    }\n",
       "\n",
       "    .dataframe tbody tr th {\n",
       "        vertical-align: top;\n",
       "    }\n",
       "\n",
       "    .dataframe thead th {\n",
       "        text-align: right;\n",
       "    }\n",
       "</style>\n",
       "<table border=\"1\" class=\"dataframe\">\n",
       "  <thead>\n",
       "    <tr style=\"text-align: right;\">\n",
       "      <th></th>\n",
       "      <th>article_id</th>\n",
       "      <th>product_code</th>\n",
       "      <th>prod_name</th>\n",
       "      <th>product_type_no</th>\n",
       "      <th>product_type_name</th>\n",
       "      <th>product_group_name</th>\n",
       "      <th>graphical_appearance_no</th>\n",
       "      <th>graphical_appearance_name</th>\n",
       "      <th>colour_group_code</th>\n",
       "      <th>colour_group_name</th>\n",
       "      <th>...</th>\n",
       "      <th>department_name</th>\n",
       "      <th>index_code</th>\n",
       "      <th>index_name</th>\n",
       "      <th>index_group_no</th>\n",
       "      <th>index_group_name</th>\n",
       "      <th>section_no</th>\n",
       "      <th>section_name</th>\n",
       "      <th>garment_group_no</th>\n",
       "      <th>garment_group_name</th>\n",
       "      <th>detail_desc</th>\n",
       "    </tr>\n",
       "  </thead>\n",
       "  <tbody>\n",
       "    <tr>\n",
       "      <th>15</th>\n",
       "      <td>116379047</td>\n",
       "      <td>116379</td>\n",
       "      <td>Frugan longsleeve</td>\n",
       "      <td>254</td>\n",
       "      <td>Top</td>\n",
       "      <td>Garment Upper body</td>\n",
       "      <td>1010016</td>\n",
       "      <td>Solid</td>\n",
       "      <td>73</td>\n",
       "      <td>Dark Blue</td>\n",
       "      <td>...</td>\n",
       "      <td>Jersey Basic</td>\n",
       "      <td>A</td>\n",
       "      <td>Ladieswear</td>\n",
       "      <td>1</td>\n",
       "      <td>Ladieswear</td>\n",
       "      <td>16</td>\n",
       "      <td>Womens Everyday Basics</td>\n",
       "      <td>1002</td>\n",
       "      <td>Jersey Basic</td>\n",
       "      <td>Fitted top in soft stretch jersey with a wide ...</td>\n",
       "    </tr>\n",
       "    <tr>\n",
       "      <th>146</th>\n",
       "      <td>186372011</td>\n",
       "      <td>186372</td>\n",
       "      <td>Harem trousers</td>\n",
       "      <td>272</td>\n",
       "      <td>Trousers</td>\n",
       "      <td>Garment Lower body</td>\n",
       "      <td>1010016</td>\n",
       "      <td>Solid</td>\n",
       "      <td>9</td>\n",
       "      <td>Black</td>\n",
       "      <td>...</td>\n",
       "      <td>Jersey Basic</td>\n",
       "      <td>A</td>\n",
       "      <td>Ladieswear</td>\n",
       "      <td>1</td>\n",
       "      <td>Ladieswear</td>\n",
       "      <td>16</td>\n",
       "      <td>Womens Everyday Basics</td>\n",
       "      <td>1002</td>\n",
       "      <td>Jersey Basic</td>\n",
       "      <td>Harem trousers in jersey with elastication at ...</td>\n",
       "    </tr>\n",
       "    <tr>\n",
       "      <th>147</th>\n",
       "      <td>186372042</td>\n",
       "      <td>186372</td>\n",
       "      <td>Harem trousers</td>\n",
       "      <td>272</td>\n",
       "      <td>Trousers</td>\n",
       "      <td>Garment Lower body</td>\n",
       "      <td>1010001</td>\n",
       "      <td>All over pattern</td>\n",
       "      <td>73</td>\n",
       "      <td>Dark Blue</td>\n",
       "      <td>...</td>\n",
       "      <td>Jersey Basic</td>\n",
       "      <td>A</td>\n",
       "      <td>Ladieswear</td>\n",
       "      <td>1</td>\n",
       "      <td>Ladieswear</td>\n",
       "      <td>16</td>\n",
       "      <td>Womens Everyday Basics</td>\n",
       "      <td>1002</td>\n",
       "      <td>Jersey Basic</td>\n",
       "      <td>Harem trousers in jersey with elastication at ...</td>\n",
       "    </tr>\n",
       "    <tr>\n",
       "      <th>148</th>\n",
       "      <td>186372045</td>\n",
       "      <td>186372</td>\n",
       "      <td>Harem trousers</td>\n",
       "      <td>272</td>\n",
       "      <td>Trousers</td>\n",
       "      <td>Garment Lower body</td>\n",
       "      <td>1010001</td>\n",
       "      <td>All over pattern</td>\n",
       "      <td>73</td>\n",
       "      <td>Dark Blue</td>\n",
       "      <td>...</td>\n",
       "      <td>Jersey Basic</td>\n",
       "      <td>A</td>\n",
       "      <td>Ladieswear</td>\n",
       "      <td>1</td>\n",
       "      <td>Ladieswear</td>\n",
       "      <td>16</td>\n",
       "      <td>Womens Everyday Basics</td>\n",
       "      <td>1002</td>\n",
       "      <td>Jersey Basic</td>\n",
       "      <td>Harem trousers in jersey with elastication at ...</td>\n",
       "    </tr>\n",
       "    <tr>\n",
       "      <th>199</th>\n",
       "      <td>189955076</td>\n",
       "      <td>189955</td>\n",
       "      <td>Nora tee</td>\n",
       "      <td>255</td>\n",
       "      <td>T-shirt</td>\n",
       "      <td>Garment Upper body</td>\n",
       "      <td>1010010</td>\n",
       "      <td>Melange</td>\n",
       "      <td>71</td>\n",
       "      <td>Light Blue</td>\n",
       "      <td>...</td>\n",
       "      <td>Jersey Basic</td>\n",
       "      <td>A</td>\n",
       "      <td>Ladieswear</td>\n",
       "      <td>1</td>\n",
       "      <td>Ladieswear</td>\n",
       "      <td>16</td>\n",
       "      <td>Womens Everyday Basics</td>\n",
       "      <td>1002</td>\n",
       "      <td>Jersey Basic</td>\n",
       "      <td>Top in soft slub jersey with a fake front pock...</td>\n",
       "    </tr>\n",
       "  </tbody>\n",
       "</table>\n",
       "<p>5 rows × 25 columns</p>\n",
       "</div>"
      ],
      "text/plain": [
       "     article_id  product_code          prod_name  product_type_no  \\\n",
       "15    116379047        116379  Frugan longsleeve              254   \n",
       "146   186372011        186372     Harem trousers              272   \n",
       "147   186372042        186372     Harem trousers              272   \n",
       "148   186372045        186372     Harem trousers              272   \n",
       "199   189955076        189955           Nora tee              255   \n",
       "\n",
       "    product_type_name  product_group_name  graphical_appearance_no  \\\n",
       "15                Top  Garment Upper body                  1010016   \n",
       "146          Trousers  Garment Lower body                  1010016   \n",
       "147          Trousers  Garment Lower body                  1010001   \n",
       "148          Trousers  Garment Lower body                  1010001   \n",
       "199           T-shirt  Garment Upper body                  1010010   \n",
       "\n",
       "    graphical_appearance_name  colour_group_code colour_group_name  ...  \\\n",
       "15                      Solid                 73         Dark Blue  ...   \n",
       "146                     Solid                  9             Black  ...   \n",
       "147          All over pattern                 73         Dark Blue  ...   \n",
       "148          All over pattern                 73         Dark Blue  ...   \n",
       "199                   Melange                 71        Light Blue  ...   \n",
       "\n",
       "     department_name index_code  index_name index_group_no  index_group_name  \\\n",
       "15      Jersey Basic          A  Ladieswear              1        Ladieswear   \n",
       "146     Jersey Basic          A  Ladieswear              1        Ladieswear   \n",
       "147     Jersey Basic          A  Ladieswear              1        Ladieswear   \n",
       "148     Jersey Basic          A  Ladieswear              1        Ladieswear   \n",
       "199     Jersey Basic          A  Ladieswear              1        Ladieswear   \n",
       "\n",
       "    section_no            section_name garment_group_no  garment_group_name  \\\n",
       "15          16  Womens Everyday Basics             1002        Jersey Basic   \n",
       "146         16  Womens Everyday Basics             1002        Jersey Basic   \n",
       "147         16  Womens Everyday Basics             1002        Jersey Basic   \n",
       "148         16  Womens Everyday Basics             1002        Jersey Basic   \n",
       "199         16  Womens Everyday Basics             1002        Jersey Basic   \n",
       "\n",
       "                                           detail_desc  \n",
       "15   Fitted top in soft stretch jersey with a wide ...  \n",
       "146  Harem trousers in jersey with elastication at ...  \n",
       "147  Harem trousers in jersey with elastication at ...  \n",
       "148  Harem trousers in jersey with elastication at ...  \n",
       "199  Top in soft slub jersey with a fake front pock...  \n",
       "\n",
       "[5 rows x 25 columns]"
      ]
     },
     "execution_count": 39,
     "metadata": {},
     "output_type": "execute_result"
    }
   ],
   "source": [
    "art_filtered.head()"
   ]
  },
  {
   "cell_type": "code",
   "execution_count": 40,
   "id": "b3f19850",
   "metadata": {},
   "outputs": [
    {
     "data": {
      "text/plain": [
       "(19361, 25)"
      ]
     },
     "execution_count": 40,
     "metadata": {},
     "output_type": "execute_result"
    }
   ],
   "source": [
    "art_filtered.shape"
   ]
  },
  {
   "cell_type": "code",
   "execution_count": 41,
   "id": "ae05adb2",
   "metadata": {
    "scrolled": true
   },
   "outputs": [
    {
     "data": {
      "text/plain": [
       "Solid                  10437\n",
       "All over pattern        3071\n",
       "Melange                 1206\n",
       "Stripe                  1141\n",
       "Denim                    705\n",
       "Check                    448\n",
       "Lace                     446\n",
       "Embroidery               345\n",
       "Jacquard                 336\n",
       "Other structure          211\n",
       "Front print              190\n",
       "Dot                      133\n",
       "Application/3D           127\n",
       "Glittering/Metallic      126\n",
       "Sequin                    95\n",
       "Treatment                 62\n",
       "Colour blocking           58\n",
       "Placement print           42\n",
       "Contrast                  33\n",
       "Unknown                   29\n",
       "Metallic                  27\n",
       "Neps                      23\n",
       "Mixed solid/pattern       22\n",
       "Other pattern             21\n",
       "Mesh                      13\n",
       "Slub                       8\n",
       "Chambray                   4\n",
       "Transparent                2\n",
       "Name: graphical_appearance_name, dtype: int64"
      ]
     },
     "execution_count": 41,
     "metadata": {},
     "output_type": "execute_result"
    }
   ],
   "source": [
    "art_filtered[\"graphical_appearance_name\"].value_counts()"
   ]
  },
  {
   "cell_type": "code",
   "execution_count": 42,
   "id": "81d1f20d",
   "metadata": {},
   "outputs": [
    {
     "data": {
      "text/plain": [
       "Black              4748\n",
       "White              2069\n",
       "Dark Blue          1641\n",
       "Light Beige        1090\n",
       "Off White           930\n",
       "Beige               707\n",
       "Light Blue          586\n",
       "Greenish Khaki      574\n",
       "Red                 534\n",
       "Grey                529\n",
       "Blue                524\n",
       "Light Pink          516\n",
       "Dark Green          511\n",
       "Dark Red            423\n",
       "Dark Grey           402\n",
       "Pink                304\n",
       "Yellow              284\n",
       "Dark Beige          274\n",
       "Yellowish Brown     269\n",
       "Light Grey          262\n",
       "Light Orange        258\n",
       "Dark Orange         253\n",
       "Green               193\n",
       "Light Yellow        176\n",
       "Orange              165\n",
       "Dark Pink           149\n",
       "Dark Turquoise      130\n",
       "Light Green         119\n",
       "Dark Yellow         107\n",
       "Light Turquoise      91\n",
       "Light Purple         73\n",
       "Greyish Beige        62\n",
       "Turquoise            62\n",
       "Light Red            61\n",
       "Dark Purple          59\n",
       "Purple               35\n",
       "Other Pink           29\n",
       "Other                28\n",
       "Unknown              22\n",
       "Silver               21\n",
       "Other Blue           21\n",
       "Other Green          16\n",
       "Other Red            14\n",
       "Other Orange         10\n",
       "Gold                 10\n",
       "Bronze/Copper         9\n",
       "Other Yellow          5\n",
       "Other Purple          4\n",
       "Transparent           1\n",
       "Other Turquoise       1\n",
       "Name: colour_group_name, dtype: int64"
      ]
     },
     "execution_count": 42,
     "metadata": {},
     "output_type": "execute_result"
    }
   ],
   "source": [
    "art_filtered[\"colour_group_name\"].value_counts()"
   ]
  },
  {
   "cell_type": "code",
   "execution_count": 43,
   "id": "8470ee74",
   "metadata": {},
   "outputs": [
    {
     "data": {
      "text/plain": [
       "Dark            8168\n",
       "Dusty Light     4310\n",
       "Light           2757\n",
       "Medium Dusty    2301\n",
       "Bright           896\n",
       "Medium           879\n",
       "Undefined         28\n",
       "Unknown           22\n",
       "Name: perceived_colour_value_name, dtype: int64"
      ]
     },
     "execution_count": 43,
     "metadata": {},
     "output_type": "execute_result"
    }
   ],
   "source": [
    "art_filtered[\"perceived_colour_value_name\"].value_counts()"
   ]
  },
  {
   "cell_type": "code",
   "execution_count": 44,
   "id": "edea5c14",
   "metadata": {},
   "outputs": [
    {
     "data": {
      "text/plain": [
       "Black              4753\n",
       "White              3029\n",
       "Blue               2769\n",
       "Beige              1659\n",
       "Grey               1109\n",
       "Red                1057\n",
       "Pink                980\n",
       "Green               727\n",
       "Khaki green         697\n",
       "Orange              539\n",
       "Yellow              527\n",
       "Brown               443\n",
       "Mole                300\n",
       "Unknown             270\n",
       "Turquoise           258\n",
       "Lilac Purple        172\n",
       "Metal                40\n",
       "undefined            28\n",
       "Yellowish Green       4\n",
       "Name: perceived_colour_master_name, dtype: int64"
      ]
     },
     "execution_count": 44,
     "metadata": {},
     "output_type": "execute_result"
    }
   ],
   "source": [
    "art_filtered[\"perceived_colour_master_name\"].value_counts()"
   ]
  },
  {
   "cell_type": "markdown",
   "id": "44a48427",
   "metadata": {},
   "source": [
    "For colors, colour_group_name is too sparse"
   ]
  },
  {
   "cell_type": "code",
   "execution_count": 45,
   "id": "d61cb33a",
   "metadata": {},
   "outputs": [
    {
     "data": {
      "text/plain": [
       "Jersey                        2734\n",
       "Blouse                        2134\n",
       "Dress                         2087\n",
       "Knitwear                      1826\n",
       "Trouser                       1523\n",
       "Jersey fancy                  1143\n",
       "Jersey Basic                   954\n",
       "Blouse & Dress                 833\n",
       "Outwear                        758\n",
       "Skirt                          726\n",
       "Woven top                      682\n",
       "Equatorial Assortment          359\n",
       "Take Care External             330\n",
       "Woven bottoms                  327\n",
       "Woven Occasion                 324\n",
       "Trousers & Skirt               319\n",
       "Jersey/Knitwear Premium        304\n",
       "Woven Premium                  299\n",
       "Studio Collection              211\n",
       "Campaigns                      194\n",
       "Loungewear                     179\n",
       "Knitwear Basic                 166\n",
       "OL Extended Sizes              133\n",
       "Jersey Occasion                132\n",
       "Limited Edition                129\n",
       "Conscious Exclusive            120\n",
       "Shorts & Skirts                106\n",
       "Asia Assortment                 92\n",
       "Everyday Waredrobe Denim        80\n",
       "Outwear & Blazers               48\n",
       "Special Collection              28\n",
       "Divided+ inactive from s.1      22\n",
       "Suit jacket                     19\n",
       "Suit                            17\n",
       "Jersey License                  11\n",
       "Jackets                          8\n",
       "Test Ladies                      3\n",
       "Jersey inactive from S.6         1\n",
       "Name: department_name, dtype: int64"
      ]
     },
     "execution_count": 45,
     "metadata": {},
     "output_type": "execute_result"
    }
   ],
   "source": [
    "art_filtered[\"department_name\"].value_counts()"
   ]
  },
  {
   "cell_type": "code",
   "execution_count": 46,
   "id": "047dd796",
   "metadata": {},
   "outputs": [
    {
     "data": {
      "text/plain": [
       "Womens Everyday Collection        6108\n",
       "Womens Tailoring                  2831\n",
       "Womens Casual                     2361\n",
       "Womens Trend                      2119\n",
       "H&M+                              1896\n",
       "Womens Everyday Basics            1120\n",
       "Womens Premium                    1059\n",
       "Womens Jackets                     653\n",
       "Special Collections                488\n",
       "Collaborations                     330\n",
       "Ladies Denim                       213\n",
       "Womens Nightwear, Socks & Tigh     179\n",
       "Ladies Other                         4\n",
       "Name: section_name, dtype: int64"
      ]
     },
     "execution_count": 46,
     "metadata": {},
     "output_type": "execute_result"
    }
   ],
   "source": [
    "art_filtered[\"section_name\"].value_counts()"
   ]
  },
  {
   "cell_type": "code",
   "execution_count": 47,
   "id": "807c2ebe",
   "metadata": {},
   "outputs": [
    {
     "data": {
      "text/plain": [
       "Jersey Fancy         3889\n",
       "Blouses              3649\n",
       "Dresses Ladies       2543\n",
       "Knitwear             2296\n",
       "Trousers             2169\n",
       "Unknown              1316\n",
       "Jersey Basic          954\n",
       "Outdoor               766\n",
       "Skirts                726\n",
       "Special Offers        471\n",
       "Trousers Denim        213\n",
       "Under-, Nightwear     179\n",
       "Shorts                106\n",
       "Dressed                84\n",
       "Name: garment_group_name, dtype: int64"
      ]
     },
     "execution_count": 47,
     "metadata": {},
     "output_type": "execute_result"
    }
   ],
   "source": [
    "art_filtered[\"garment_group_name\"].value_counts()"
   ]
  },
  {
   "cell_type": "markdown",
   "id": "1a7b7b3f",
   "metadata": {},
   "source": [
    "Exclude 'garment group name', 'section name'"
   ]
  },
  {
   "cell_type": "code",
   "execution_count": 48,
   "id": "dbd4a456",
   "metadata": {},
   "outputs": [],
   "source": [
    "art=art_filtered"
   ]
  },
  {
   "cell_type": "code",
   "execution_count": 49,
   "id": "9e872dc7",
   "metadata": {
    "scrolled": true
   },
   "outputs": [
    {
     "data": {
      "image/png": "[encoded data removed]",
      "text/plain": [
       "<Figure size 720x360 with 1 Axes>"
      ]
     },
     "metadata": {},
     "output_type": "display_data"
    }
   ],
   "source": [
    "f, ax = plt.subplots(figsize=(10, 5))\n",
    "ax = sns.histplot(data=art, y='product_type_name', color='black')\n",
    "ax.set_xlabel('count by product type')\n",
    "ax.set_ylabel('product type name')\n",
    "plt.show()"
   ]
  },
  {
   "cell_type": "code",
   "execution_count": 50,
   "id": "3de820af",
   "metadata": {},
   "outputs": [
    {
     "data": {
      "image/png": "[encoded data removed]",
      "text/plain": [
       "<Figure size 720x360 with 1 Axes>"
      ]
     },
     "metadata": {},
     "output_type": "display_data"
    }
   ],
   "source": [
    "f, ax = plt.subplots(figsize=(10, 5))\n",
    "ax = sns.histplot(data=art, y='perceived_colour_master_name', color='red', hue='perceived_colour_value_name', multiple=\"stack\")\n",
    "ax.set_xlabel('count by shade group')\n",
    "ax.set_ylabel('color group')\n",
    "plt.show()"
   ]
  },
  {
   "cell_type": "code",
   "execution_count": 51,
   "id": "b36be9f9",
   "metadata": {},
   "outputs": [
    {
     "data": {
      "image/png": "[encoded data removed]",
      "text/plain": [
       "<Figure size 720x360 with 1 Axes>"
      ]
     },
     "metadata": {},
     "output_type": "display_data"
    }
   ],
   "source": [
    "f, ax = plt.subplots(figsize=(10, 5))\n",
    "ax = sns.histplot(data=art, y='graphical_appearance_name', color='red', hue='perceived_colour_value_name', multiple=\"stack\")\n",
    "ax.set_xlabel('count by shade group')\n",
    "ax.set_ylabel('appearance group')\n",
    "plt.show()"
   ]
  },
  {
   "cell_type": "code",
   "execution_count": 52,
   "id": "990d614f",
   "metadata": {
    "scrolled": false
   },
   "outputs": [
    {
     "data": {
      "text/html": [
       "<div>\n",
       "<style scoped>\n",
       "    .dataframe tbody tr th:only-of-type {\n",
       "        vertical-align: middle;\n",
       "    }\n",
       "\n",
       "    .dataframe tbody tr th {\n",
       "        vertical-align: top;\n",
       "    }\n",
       "\n",
       "    .dataframe thead th {\n",
       "        text-align: right;\n",
       "    }\n",
       "</style>\n",
       "<table border=\"1\" class=\"dataframe\">\n",
       "  <thead>\n",
       "    <tr style=\"text-align: right;\">\n",
       "      <th></th>\n",
       "      <th>article_id</th>\n",
       "    </tr>\n",
       "    <tr>\n",
       "      <th>product_group_name</th>\n",
       "      <th></th>\n",
       "    </tr>\n",
       "  </thead>\n",
       "  <tbody>\n",
       "    <tr>\n",
       "      <th>Garment Full body</th>\n",
       "      <td>4799</td>\n",
       "    </tr>\n",
       "    <tr>\n",
       "      <th>Garment Lower body</th>\n",
       "      <td>4352</td>\n",
       "    </tr>\n",
       "    <tr>\n",
       "      <th>Garment Upper body</th>\n",
       "      <td>10210</td>\n",
       "    </tr>\n",
       "  </tbody>\n",
       "</table>\n",
       "</div>"
      ],
      "text/plain": [
       "                    article_id\n",
       "product_group_name            \n",
       "Garment Full body         4799\n",
       "Garment Lower body        4352\n",
       "Garment Upper body       10210"
      ]
     },
     "execution_count": 52,
     "metadata": {},
     "output_type": "execute_result"
    }
   ],
   "source": [
    "pd.DataFrame(art.groupby(['product_group_name']).count()['article_id'])"
   ]
  },
  {
   "cell_type": "code",
   "execution_count": 53,
   "id": "fb329c54",
   "metadata": {
    "scrolled": true
   },
   "outputs": [
    {
     "data": {
      "text/html": [
       "<div>\n",
       "<style scoped>\n",
       "    .dataframe tbody tr th:only-of-type {\n",
       "        vertical-align: middle;\n",
       "    }\n",
       "\n",
       "    .dataframe tbody tr th {\n",
       "        vertical-align: top;\n",
       "    }\n",
       "\n",
       "    .dataframe thead th {\n",
       "        text-align: right;\n",
       "    }\n",
       "</style>\n",
       "<table border=\"1\" class=\"dataframe\">\n",
       "  <thead>\n",
       "    <tr style=\"text-align: right;\">\n",
       "      <th></th>\n",
       "      <th></th>\n",
       "      <th>article_id</th>\n",
       "    </tr>\n",
       "    <tr>\n",
       "      <th>product_type_name</th>\n",
       "      <th>graphical_appearance_name</th>\n",
       "      <th></th>\n",
       "    </tr>\n",
       "  </thead>\n",
       "  <tbody>\n",
       "    <tr>\n",
       "      <th rowspan=\"5\" valign=\"top\">Blouse</th>\n",
       "      <th>All over pattern</th>\n",
       "      <td>672</td>\n",
       "    </tr>\n",
       "    <tr>\n",
       "      <th>Application/3D</th>\n",
       "      <td>8</td>\n",
       "    </tr>\n",
       "    <tr>\n",
       "      <th>Chambray</th>\n",
       "      <td>1</td>\n",
       "    </tr>\n",
       "    <tr>\n",
       "      <th>Check</th>\n",
       "      <td>39</td>\n",
       "    </tr>\n",
       "    <tr>\n",
       "      <th>Contrast</th>\n",
       "      <td>6</td>\n",
       "    </tr>\n",
       "    <tr>\n",
       "      <th>...</th>\n",
       "      <th>...</th>\n",
       "      <td>...</td>\n",
       "    </tr>\n",
       "    <tr>\n",
       "      <th rowspan=\"5\" valign=\"top\">Trousers</th>\n",
       "      <th>Sequin</th>\n",
       "      <td>7</td>\n",
       "    </tr>\n",
       "    <tr>\n",
       "      <th>Solid</th>\n",
       "      <td>1562</td>\n",
       "    </tr>\n",
       "    <tr>\n",
       "      <th>Stripe</th>\n",
       "      <td>159</td>\n",
       "    </tr>\n",
       "    <tr>\n",
       "      <th>Treatment</th>\n",
       "      <td>44</td>\n",
       "    </tr>\n",
       "    <tr>\n",
       "      <th>Unknown</th>\n",
       "      <td>12</td>\n",
       "    </tr>\n",
       "  </tbody>\n",
       "</table>\n",
       "<p>187 rows × 1 columns</p>\n",
       "</div>"
      ],
      "text/plain": [
       "                                             article_id\n",
       "product_type_name graphical_appearance_name            \n",
       "Blouse            All over pattern                  672\n",
       "                  Application/3D                      8\n",
       "                  Chambray                            1\n",
       "                  Check                              39\n",
       "                  Contrast                            6\n",
       "...                                                 ...\n",
       "Trousers          Sequin                              7\n",
       "                  Solid                            1562\n",
       "                  Stripe                            159\n",
       "                  Treatment                          44\n",
       "                  Unknown                            12\n",
       "\n",
       "[187 rows x 1 columns]"
      ]
     },
     "execution_count": 53,
     "metadata": {},
     "output_type": "execute_result"
    }
   ],
   "source": [
    "pd.DataFrame(art.groupby(['product_type_name','graphical_appearance_name']).count()['article_id'])"
   ]
  },
  {
   "cell_type": "code",
   "execution_count": 54,
   "id": "71e8414c",
   "metadata": {},
   "outputs": [
    {
     "data": {
      "text/html": [
       "<div>\n",
       "<style scoped>\n",
       "    .dataframe tbody tr th:only-of-type {\n",
       "        vertical-align: middle;\n",
       "    }\n",
       "\n",
       "    .dataframe tbody tr th {\n",
       "        vertical-align: top;\n",
       "    }\n",
       "\n",
       "    .dataframe thead th {\n",
       "        text-align: right;\n",
       "    }\n",
       "</style>\n",
       "<table border=\"1\" class=\"dataframe\">\n",
       "  <thead>\n",
       "    <tr style=\"text-align: right;\">\n",
       "      <th></th>\n",
       "      <th></th>\n",
       "      <th>article_id</th>\n",
       "    </tr>\n",
       "    <tr>\n",
       "      <th>product_group_name</th>\n",
       "      <th>product_type_name</th>\n",
       "      <th></th>\n",
       "    </tr>\n",
       "  </thead>\n",
       "  <tbody>\n",
       "    <tr>\n",
       "      <th>Garment Full body</th>\n",
       "      <th>Dress</th>\n",
       "      <td>4799</td>\n",
       "    </tr>\n",
       "    <tr>\n",
       "      <th rowspan=\"2\" valign=\"top\">Garment Lower body</th>\n",
       "      <th>Skirt</th>\n",
       "      <td>1379</td>\n",
       "    </tr>\n",
       "    <tr>\n",
       "      <th>Trousers</th>\n",
       "      <td>2973</td>\n",
       "    </tr>\n",
       "    <tr>\n",
       "      <th rowspan=\"6\" valign=\"top\">Garment Upper body</th>\n",
       "      <th>Blouse</th>\n",
       "      <td>2596</td>\n",
       "    </tr>\n",
       "    <tr>\n",
       "      <th>Jacket</th>\n",
       "      <td>972</td>\n",
       "    </tr>\n",
       "    <tr>\n",
       "      <th>Shirt</th>\n",
       "      <td>602</td>\n",
       "    </tr>\n",
       "    <tr>\n",
       "      <th>Sweater</th>\n",
       "      <td>2745</td>\n",
       "    </tr>\n",
       "    <tr>\n",
       "      <th>T-shirt</th>\n",
       "      <td>1226</td>\n",
       "    </tr>\n",
       "    <tr>\n",
       "      <th>Top</th>\n",
       "      <td>2069</td>\n",
       "    </tr>\n",
       "  </tbody>\n",
       "</table>\n",
       "</div>"
      ],
      "text/plain": [
       "                                      article_id\n",
       "product_group_name product_type_name            \n",
       "Garment Full body  Dress                    4799\n",
       "Garment Lower body Skirt                    1379\n",
       "                   Trousers                 2973\n",
       "Garment Upper body Blouse                   2596\n",
       "                   Jacket                    972\n",
       "                   Shirt                     602\n",
       "                   Sweater                  2745\n",
       "                   T-shirt                  1226\n",
       "                   Top                      2069"
      ]
     },
     "execution_count": 54,
     "metadata": {},
     "output_type": "execute_result"
    }
   ],
   "source": [
    "pd.DataFrame(art.groupby(['product_group_name', 'product_type_name', ]).count()['article_id'])"
   ]
  },
  {
   "cell_type": "code",
   "execution_count": 55,
   "id": "e65d86c6",
   "metadata": {},
   "outputs": [
    {
     "data": {
      "text/plain": [
       "(19361, 25)"
      ]
     },
     "execution_count": 55,
     "metadata": {},
     "output_type": "execute_result"
    }
   ],
   "source": [
    "art.shape"
   ]
  },
  {
   "cell_type": "code",
   "execution_count": 56,
   "id": "0a495588",
   "metadata": {},
   "outputs": [],
   "source": [
    "art_sampled=art.groupby('product_type_name', group_keys=False).apply(lambda x: x.sample(frac=0.1))"
   ]
  },
  {
   "cell_type": "code",
   "execution_count": 57,
   "id": "0f824931",
   "metadata": {},
   "outputs": [
    {
     "data": {
      "text/plain": [
       "(1936, 25)"
      ]
     },
     "execution_count": 57,
     "metadata": {},
     "output_type": "execute_result"
    }
   ],
   "source": [
    "art_sampled.shape"
   ]
  },
  {
   "cell_type": "code",
   "execution_count": 58,
   "id": "56a04035",
   "metadata": {},
   "outputs": [
    {
     "data": {
      "image/png": "[encoded data removed]",
      "text/plain": [
       "<Figure size 720x360 with 1 Axes>"
      ]
     },
     "metadata": {},
     "output_type": "display_data"
    }
   ],
   "source": [
    "f, ax = plt.subplots(figsize=(10, 5))\n",
    "ax = sns.histplot(data=art_sampled, y='graphical_appearance_name', color='red', hue='product_type_name', multiple=\"stack\")\n",
    "ax.set_xlabel('count by product type')\n",
    "ax.set_ylabel('appearance group')\n",
    "plt.show()"
   ]
  },
  {
   "cell_type": "markdown",
   "id": "23c257ef",
   "metadata": {},
   "source": [
    "### Transactions"
   ]
  },
  {
   "cell_type": "code",
   "execution_count": 59,
   "id": "3a4bcc1a",
   "metadata": {
    "scrolled": true
   },
   "outputs": [
    {
     "data": {
      "text/html": [
       "<div>\n",
       "<style scoped>\n",
       "    .dataframe tbody tr th:only-of-type {\n",
       "        vertical-align: middle;\n",
       "    }\n",
       "\n",
       "    .dataframe tbody tr th {\n",
       "        vertical-align: top;\n",
       "    }\n",
       "\n",
       "    .dataframe thead th {\n",
       "        text-align: right;\n",
       "    }\n",
       "</style>\n",
       "<table border=\"1\" class=\"dataframe\">\n",
       "  <thead>\n",
       "    <tr style=\"text-align: right;\">\n",
       "      <th></th>\n",
       "      <th>article_id</th>\n",
       "      <th>price</th>\n",
       "      <th>sales_channel_id</th>\n",
       "    </tr>\n",
       "  </thead>\n",
       "  <tbody>\n",
       "    <tr>\n",
       "      <th>count</th>\n",
       "      <td>3.178832e+07</td>\n",
       "      <td>3.178832e+07</td>\n",
       "      <td>3.178832e+07</td>\n",
       "    </tr>\n",
       "    <tr>\n",
       "      <th>mean</th>\n",
       "      <td>6.962272e+08</td>\n",
       "      <td>2.782927e-02</td>\n",
       "      <td>1.704028e+00</td>\n",
       "    </tr>\n",
       "    <tr>\n",
       "      <th>std</th>\n",
       "      <td>1.334480e+08</td>\n",
       "      <td>1.918113e-02</td>\n",
       "      <td>4.564786e-01</td>\n",
       "    </tr>\n",
       "    <tr>\n",
       "      <th>min</th>\n",
       "      <td>1.087750e+08</td>\n",
       "      <td>1.694915e-05</td>\n",
       "      <td>1.000000e+00</td>\n",
       "    </tr>\n",
       "    <tr>\n",
       "      <th>25%</th>\n",
       "      <td>6.328030e+08</td>\n",
       "      <td>1.581356e-02</td>\n",
       "      <td>1.000000e+00</td>\n",
       "    </tr>\n",
       "    <tr>\n",
       "      <th>50%</th>\n",
       "      <td>7.145820e+08</td>\n",
       "      <td>2.540678e-02</td>\n",
       "      <td>2.000000e+00</td>\n",
       "    </tr>\n",
       "    <tr>\n",
       "      <th>75%</th>\n",
       "      <td>7.865240e+08</td>\n",
       "      <td>3.388136e-02</td>\n",
       "      <td>2.000000e+00</td>\n",
       "    </tr>\n",
       "    <tr>\n",
       "      <th>max</th>\n",
       "      <td>9.562170e+08</td>\n",
       "      <td>5.915254e-01</td>\n",
       "      <td>2.000000e+00</td>\n",
       "    </tr>\n",
       "  </tbody>\n",
       "</table>\n",
       "</div>"
      ],
      "text/plain": [
       "         article_id         price  sales_channel_id\n",
       "count  3.178832e+07  3.178832e+07      3.178832e+07\n",
       "mean   6.962272e+08  2.782927e-02      1.704028e+00\n",
       "std    1.334480e+08  1.918113e-02      4.564786e-01\n",
       "min    1.087750e+08  1.694915e-05      1.000000e+00\n",
       "25%    6.328030e+08  1.581356e-02      1.000000e+00\n",
       "50%    7.145820e+08  2.540678e-02      2.000000e+00\n",
       "75%    7.865240e+08  3.388136e-02      2.000000e+00\n",
       "max    9.562170e+08  5.915254e-01      2.000000e+00"
      ]
     },
     "execution_count": 59,
     "metadata": {},
     "output_type": "execute_result"
    }
   ],
   "source": [
    "trns.describe()"
   ]
  },
  {
   "cell_type": "code",
   "execution_count": 60,
   "id": "d674e8d0",
   "metadata": {},
   "outputs": [
    {
     "data": {
      "text/plain": [
       "(10967372, 5)"
      ]
     },
     "execution_count": 60,
     "metadata": {},
     "output_type": "execute_result"
    }
   ],
   "source": [
    "# filter data for smaller time frame \n",
    "trns_short = trns[trns['t_dat']>'2019-12-31']\n",
    "trns_short.shape"
   ]
  },
  {
   "cell_type": "code",
   "execution_count": 61,
   "id": "b37c0d74",
   "metadata": {},
   "outputs": [
    {
     "name": "stdout",
     "output_type": "stream",
     "text": [
      "(383453, 9)\n"
     ]
    }
   ],
   "source": [
    "articles_for_merge = art_sampled[['article_id', 'prod_name', 'product_type_name', 'product_group_name', 'index_name','perceived_colour_value_name']]\n",
    "articles_for_merge = trns_short[['customer_id', 'article_id', 'price', 't_dat']].merge(articles_for_merge, on='article_id', how='inner')\n",
    "print(articles_for_merge.shape)"
   ]
  },
  {
   "cell_type": "code",
   "execution_count": 62,
   "id": "f4df4687",
   "metadata": {
    "scrolled": true
   },
   "outputs": [
    {
     "data": {
      "text/plain": [
       "209267"
      ]
     },
     "execution_count": 62,
     "metadata": {},
     "output_type": "execute_result"
    }
   ],
   "source": [
    "articles_for_merge.customer_id.nunique()"
   ]
  },
  {
   "cell_type": "code",
   "execution_count": 63,
   "id": "32a6021e",
   "metadata": {
    "scrolled": true
   },
   "outputs": [
    {
     "data": {
      "text/plain": [
       "1280"
      ]
     },
     "execution_count": 63,
     "metadata": {},
     "output_type": "execute_result"
    }
   ],
   "source": [
    "articles_for_merge.article_id.nunique()"
   ]
  },
  {
   "cell_type": "code",
   "execution_count": 64,
   "id": "49a8179d",
   "metadata": {},
   "outputs": [
    {
     "data": {
      "text/plain": [
       "1936"
      ]
     },
     "execution_count": 64,
     "metadata": {},
     "output_type": "execute_result"
    }
   ],
   "source": [
    "art_sampled.article_id.nunique()"
   ]
  },
  {
   "cell_type": "code",
   "execution_count": 65,
   "id": "7d38d0ae",
   "metadata": {},
   "outputs": [],
   "source": [
    "articles_for_merge.to_csv('articles_for_merge.csv', index=False)"
   ]
  },
  {
   "cell_type": "code",
   "execution_count": 67,
   "id": "c899c0f6",
   "metadata": {},
   "outputs": [
    {
     "name": "stdout",
     "output_type": "stream",
     "text": [
      "(3474580, 9)\n"
     ]
    }
   ],
   "source": [
    "articles_for_merge_full = art[['article_id', 'prod_name', 'product_type_name', 'product_group_name', 'index_name','perceived_colour_value_name']]\n",
    "articles_for_merge_full = trns_short[['customer_id', 'article_id', 'price', 't_dat']].merge(articles_for_merge_full, on='article_id', how='inner')\n",
    "print(articles_for_merge.shape)"
   ]
  },
  {
   "cell_type": "code",
   "execution_count": 68,
   "id": "823c9217",
   "metadata": {},
   "outputs": [
    {
     "data": {
      "text/plain": [
       "583584"
      ]
     },
     "execution_count": 68,
     "metadata": {},
     "output_type": "execute_result"
    }
   ],
   "source": [
    "articles_for_merge_full.customer_id.nunique()"
   ]
  },
  {
   "cell_type": "code",
   "execution_count": 69,
   "id": "c4788c84",
   "metadata": {},
   "outputs": [
    {
     "data": {
      "text/plain": [
       "12574"
      ]
     },
     "execution_count": 69,
     "metadata": {},
     "output_type": "execute_result"
    }
   ],
   "source": [
    "articles_for_merge_full.article_id.nunique()"
   ]
  },
  {
   "cell_type": "code",
   "execution_count": 70,
   "id": "33dea5f7",
   "metadata": {},
   "outputs": [],
   "source": [
    "articles_for_merge_full.to_csv('articles_for_merge_full.csv', index=False)"
   ]
  },
  {
   "cell_type": "code",
   "execution_count": null,
   "id": "6f2e71a9",
   "metadata": {},
   "outputs": [],
   "source": []
  },
  {
   "cell_type": "code",
   "execution_count": null,
   "id": "46326eb8",
   "metadata": {},
   "outputs": [],
   "source": []
  },
  {
   "cell_type": "code",
   "execution_count": null,
   "id": "c5ec918c",
   "metadata": {},
   "outputs": [],
   "source": []
  },
  {
   "cell_type": "code",
   "execution_count": null,
   "id": "70ee267b",
   "metadata": {},
   "outputs": [],
   "source": []
  },
  {
   "cell_type": "code",
   "execution_count": null,
   "id": "413dbc24",
   "metadata": {},
   "outputs": [],
   "source": []
  },
  {
   "cell_type": "code",
   "execution_count": null,
   "id": "a45ffc05",
   "metadata": {},
   "outputs": [],
   "source": []
  },
  {
   "cell_type": "code",
   "execution_count": null,
   "id": "312431c7",
   "metadata": {},
   "outputs": [],
   "source": []
  },
  {
   "cell_type": "code",
   "execution_count": null,
   "id": "3ff13427",
   "metadata": {},
   "outputs": [],
   "source": []
  }
 ],
 "metadata": {
  "kernelspec": {
   "display_name": "Python 3",
   "language": "python",
   "name": "python3"
  },
  "language_info": {
   "codemirror_mode": {
    "name": "ipython",
    "version": 3
   },
   "file_extension": ".py",
   "mimetype": "text/x-python",
   "name": "python",
   "nbconvert_exporter": "python",
   "pygments_lexer": "ipython3",
   "version": "3.8.8"
  }
 },
 "nbformat": 4,
 "nbformat_minor": 5
}
