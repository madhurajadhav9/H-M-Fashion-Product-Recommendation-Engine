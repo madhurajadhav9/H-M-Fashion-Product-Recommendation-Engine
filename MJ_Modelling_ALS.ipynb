{
 "cells": [
  {
   "cell_type": "code",
   "execution_count": 1,
   "id": "831ac2ae",
   "metadata": {},
   "outputs": [],
   "source": [
    "import gc\n",
    "import time\n",
    "import numpy as np\n",
    "import pandas as pd\n",
    "import matplotlib.pyplot as plt\n",
    "import seaborn as sns\n",
    "from scipy.sparse import csr_matrix, hstack\n",
    "from sklearn.feature_extraction.text import CountVectorizer, TfidfVectorizer\n",
    "from sklearn.preprocessing import LabelBinarizer\n",
    "from sklearn.model_selection import train_test_split, cross_val_score\n",
    "from sklearn.metrics import mean_squared_error\n",
    "#import lightgbm as lgb"
   ]
  },
  {
   "cell_type": "code",
   "execution_count": 2,
   "id": "256c7eb9",
   "metadata": {},
   "outputs": [],
   "source": [
    "import os\n",
    "import matplotlib.pyplot as plt\n",
    "import matplotlib.image as mpimg\n",
    "from os import listdir\n",
    "from pandas.api.types import is_categorical_dtype\n",
    "from pandas.api.types import is_datetime64_any_dtype as is_datetime"
   ]
  },
  {
   "cell_type": "code",
   "execution_count": 3,
   "id": "04dfd357",
   "metadata": {},
   "outputs": [],
   "source": [
    "import pandas as pd\n",
    "import numpy as np"
   ]
  },
  {
   "cell_type": "code",
   "execution_count": 4,
   "id": "8ab3e391",
   "metadata": {},
   "outputs": [
    {
     "data": {
      "text/plain": [
       "(105542, 25)"
      ]
     },
     "execution_count": 4,
     "metadata": {},
     "output_type": "execute_result"
    }
   ],
   "source": [
    "art = pd.read_csv(\"articles.csv\")\n",
    "art.shape"
   ]
  },
  {
   "cell_type": "code",
   "execution_count": 5,
   "id": "f78dbd3b",
   "metadata": {},
   "outputs": [
    {
     "data": {
      "text/html": [
       "<div>\n",
       "<style scoped>\n",
       "    .dataframe tbody tr th:only-of-type {\n",
       "        vertical-align: middle;\n",
       "    }\n",
       "\n",
       "    .dataframe tbody tr th {\n",
       "        vertical-align: top;\n",
       "    }\n",
       "\n",
       "    .dataframe thead th {\n",
       "        text-align: right;\n",
       "    }\n",
       "</style>\n",
       "<table border=\"1\" class=\"dataframe\">\n",
       "  <thead>\n",
       "    <tr style=\"text-align: right;\">\n",
       "      <th></th>\n",
       "      <th>article_id</th>\n",
       "      <th>product_code</th>\n",
       "      <th>prod_name</th>\n",
       "      <th>product_type_no</th>\n",
       "      <th>product_type_name</th>\n",
       "      <th>product_group_name</th>\n",
       "      <th>graphical_appearance_no</th>\n",
       "      <th>graphical_appearance_name</th>\n",
       "      <th>colour_group_code</th>\n",
       "      <th>colour_group_name</th>\n",
       "      <th>...</th>\n",
       "      <th>department_name</th>\n",
       "      <th>index_code</th>\n",
       "      <th>index_name</th>\n",
       "      <th>index_group_no</th>\n",
       "      <th>index_group_name</th>\n",
       "      <th>section_no</th>\n",
       "      <th>section_name</th>\n",
       "      <th>garment_group_no</th>\n",
       "      <th>garment_group_name</th>\n",
       "      <th>detail_desc</th>\n",
       "    </tr>\n",
       "  </thead>\n",
       "  <tbody>\n",
       "    <tr>\n",
       "      <th>0</th>\n",
       "      <td>108775015</td>\n",
       "      <td>108775</td>\n",
       "      <td>Strap top</td>\n",
       "      <td>253</td>\n",
       "      <td>Vest top</td>\n",
       "      <td>Garment Upper body</td>\n",
       "      <td>1010016</td>\n",
       "      <td>Solid</td>\n",
       "      <td>9</td>\n",
       "      <td>Black</td>\n",
       "      <td>...</td>\n",
       "      <td>Jersey Basic</td>\n",
       "      <td>A</td>\n",
       "      <td>Ladieswear</td>\n",
       "      <td>1</td>\n",
       "      <td>Ladieswear</td>\n",
       "      <td>16</td>\n",
       "      <td>Womens Everyday Basics</td>\n",
       "      <td>1002</td>\n",
       "      <td>Jersey Basic</td>\n",
       "      <td>Jersey top with narrow shoulder straps.</td>\n",
       "    </tr>\n",
       "    <tr>\n",
       "      <th>1</th>\n",
       "      <td>108775044</td>\n",
       "      <td>108775</td>\n",
       "      <td>Strap top</td>\n",
       "      <td>253</td>\n",
       "      <td>Vest top</td>\n",
       "      <td>Garment Upper body</td>\n",
       "      <td>1010016</td>\n",
       "      <td>Solid</td>\n",
       "      <td>10</td>\n",
       "      <td>White</td>\n",
       "      <td>...</td>\n",
       "      <td>Jersey Basic</td>\n",
       "      <td>A</td>\n",
       "      <td>Ladieswear</td>\n",
       "      <td>1</td>\n",
       "      <td>Ladieswear</td>\n",
       "      <td>16</td>\n",
       "      <td>Womens Everyday Basics</td>\n",
       "      <td>1002</td>\n",
       "      <td>Jersey Basic</td>\n",
       "      <td>Jersey top with narrow shoulder straps.</td>\n",
       "    </tr>\n",
       "    <tr>\n",
       "      <th>2</th>\n",
       "      <td>108775051</td>\n",
       "      <td>108775</td>\n",
       "      <td>Strap top (1)</td>\n",
       "      <td>253</td>\n",
       "      <td>Vest top</td>\n",
       "      <td>Garment Upper body</td>\n",
       "      <td>1010017</td>\n",
       "      <td>Stripe</td>\n",
       "      <td>11</td>\n",
       "      <td>Off White</td>\n",
       "      <td>...</td>\n",
       "      <td>Jersey Basic</td>\n",
       "      <td>A</td>\n",
       "      <td>Ladieswear</td>\n",
       "      <td>1</td>\n",
       "      <td>Ladieswear</td>\n",
       "      <td>16</td>\n",
       "      <td>Womens Everyday Basics</td>\n",
       "      <td>1002</td>\n",
       "      <td>Jersey Basic</td>\n",
       "      <td>Jersey top with narrow shoulder straps.</td>\n",
       "    </tr>\n",
       "    <tr>\n",
       "      <th>3</th>\n",
       "      <td>110065001</td>\n",
       "      <td>110065</td>\n",
       "      <td>OP T-shirt (Idro)</td>\n",
       "      <td>306</td>\n",
       "      <td>Bra</td>\n",
       "      <td>Underwear</td>\n",
       "      <td>1010016</td>\n",
       "      <td>Solid</td>\n",
       "      <td>9</td>\n",
       "      <td>Black</td>\n",
       "      <td>...</td>\n",
       "      <td>Clean Lingerie</td>\n",
       "      <td>B</td>\n",
       "      <td>Lingeries/Tights</td>\n",
       "      <td>1</td>\n",
       "      <td>Ladieswear</td>\n",
       "      <td>61</td>\n",
       "      <td>Womens Lingerie</td>\n",
       "      <td>1017</td>\n",
       "      <td>Under-, Nightwear</td>\n",
       "      <td>Microfibre T-shirt bra with underwired, moulde...</td>\n",
       "    </tr>\n",
       "    <tr>\n",
       "      <th>4</th>\n",
       "      <td>110065002</td>\n",
       "      <td>110065</td>\n",
       "      <td>OP T-shirt (Idro)</td>\n",
       "      <td>306</td>\n",
       "      <td>Bra</td>\n",
       "      <td>Underwear</td>\n",
       "      <td>1010016</td>\n",
       "      <td>Solid</td>\n",
       "      <td>10</td>\n",
       "      <td>White</td>\n",
       "      <td>...</td>\n",
       "      <td>Clean Lingerie</td>\n",
       "      <td>B</td>\n",
       "      <td>Lingeries/Tights</td>\n",
       "      <td>1</td>\n",
       "      <td>Ladieswear</td>\n",
       "      <td>61</td>\n",
       "      <td>Womens Lingerie</td>\n",
       "      <td>1017</td>\n",
       "      <td>Under-, Nightwear</td>\n",
       "      <td>Microfibre T-shirt bra with underwired, moulde...</td>\n",
       "    </tr>\n",
       "  </tbody>\n",
       "</table>\n",
       "<p>5 rows × 25 columns</p>\n",
       "</div>"
      ],
      "text/plain": [
       "   article_id  product_code          prod_name  product_type_no  \\\n",
       "0   108775015        108775          Strap top              253   \n",
       "1   108775044        108775          Strap top              253   \n",
       "2   108775051        108775      Strap top (1)              253   \n",
       "3   110065001        110065  OP T-shirt (Idro)              306   \n",
       "4   110065002        110065  OP T-shirt (Idro)              306   \n",
       "\n",
       "  product_type_name  product_group_name  graphical_appearance_no  \\\n",
       "0          Vest top  Garment Upper body                  1010016   \n",
       "1          Vest top  Garment Upper body                  1010016   \n",
       "2          Vest top  Garment Upper body                  1010017   \n",
       "3               Bra           Underwear                  1010016   \n",
       "4               Bra           Underwear                  1010016   \n",
       "\n",
       "  graphical_appearance_name  colour_group_code colour_group_name  ...  \\\n",
       "0                     Solid                  9             Black  ...   \n",
       "1                     Solid                 10             White  ...   \n",
       "2                    Stripe                 11         Off White  ...   \n",
       "3                     Solid                  9             Black  ...   \n",
       "4                     Solid                 10             White  ...   \n",
       "\n",
       "   department_name index_code        index_name index_group_no  \\\n",
       "0     Jersey Basic          A        Ladieswear              1   \n",
       "1     Jersey Basic          A        Ladieswear              1   \n",
       "2     Jersey Basic          A        Ladieswear              1   \n",
       "3   Clean Lingerie          B  Lingeries/Tights              1   \n",
       "4   Clean Lingerie          B  Lingeries/Tights              1   \n",
       "\n",
       "   index_group_name section_no            section_name garment_group_no  \\\n",
       "0        Ladieswear         16  Womens Everyday Basics             1002   \n",
       "1        Ladieswear         16  Womens Everyday Basics             1002   \n",
       "2        Ladieswear         16  Womens Everyday Basics             1002   \n",
       "3        Ladieswear         61         Womens Lingerie             1017   \n",
       "4        Ladieswear         61         Womens Lingerie             1017   \n",
       "\n",
       "   garment_group_name                                        detail_desc  \n",
       "0        Jersey Basic            Jersey top with narrow shoulder straps.  \n",
       "1        Jersey Basic            Jersey top with narrow shoulder straps.  \n",
       "2        Jersey Basic            Jersey top with narrow shoulder straps.  \n",
       "3   Under-, Nightwear  Microfibre T-shirt bra with underwired, moulde...  \n",
       "4   Under-, Nightwear  Microfibre T-shirt bra with underwired, moulde...  \n",
       "\n",
       "[5 rows x 25 columns]"
      ]
     },
     "execution_count": 5,
     "metadata": {},
     "output_type": "execute_result"
    }
   ],
   "source": [
    "art.head()"
   ]
  },
  {
   "cell_type": "code",
   "execution_count": 6,
   "id": "1144c089",
   "metadata": {},
   "outputs": [
    {
     "data": {
      "text/plain": [
       "(1371980, 7)"
      ]
     },
     "execution_count": 6,
     "metadata": {},
     "output_type": "execute_result"
    }
   ],
   "source": [
    "cst = pd.read_csv(\"customers.csv\")\n",
    "cst.shape"
   ]
  },
  {
   "cell_type": "code",
   "execution_count": 7,
   "id": "32e380a6",
   "metadata": {
    "scrolled": true
   },
   "outputs": [
    {
     "data": {
      "text/html": [
       "<div>\n",
       "<style scoped>\n",
       "    .dataframe tbody tr th:only-of-type {\n",
       "        vertical-align: middle;\n",
       "    }\n",
       "\n",
       "    .dataframe tbody tr th {\n",
       "        vertical-align: top;\n",
       "    }\n",
       "\n",
       "    .dataframe thead th {\n",
       "        text-align: right;\n",
       "    }\n",
       "</style>\n",
       "<table border=\"1\" class=\"dataframe\">\n",
       "  <thead>\n",
       "    <tr style=\"text-align: right;\">\n",
       "      <th></th>\n",
       "      <th>customer_id</th>\n",
       "      <th>FN</th>\n",
       "      <th>Active</th>\n",
       "      <th>club_member_status</th>\n",
       "      <th>fashion_news_frequency</th>\n",
       "      <th>age</th>\n",
       "      <th>postal_code</th>\n",
       "    </tr>\n",
       "  </thead>\n",
       "  <tbody>\n",
       "    <tr>\n",
       "      <th>0</th>\n",
       "      <td>00000dbacae5abe5e23885899a1fa44253a17956c6d1c3...</td>\n",
       "      <td>NaN</td>\n",
       "      <td>NaN</td>\n",
       "      <td>ACTIVE</td>\n",
       "      <td>NONE</td>\n",
       "      <td>49.0</td>\n",
       "      <td>52043ee2162cf5aa7ee79974281641c6f11a68d276429a...</td>\n",
       "    </tr>\n",
       "    <tr>\n",
       "      <th>1</th>\n",
       "      <td>0000423b00ade91418cceaf3b26c6af3dd342b51fd051e...</td>\n",
       "      <td>NaN</td>\n",
       "      <td>NaN</td>\n",
       "      <td>ACTIVE</td>\n",
       "      <td>NONE</td>\n",
       "      <td>25.0</td>\n",
       "      <td>2973abc54daa8a5f8ccfe9362140c63247c5eee03f1d93...</td>\n",
       "    </tr>\n",
       "    <tr>\n",
       "      <th>2</th>\n",
       "      <td>000058a12d5b43e67d225668fa1f8d618c13dc232df0ca...</td>\n",
       "      <td>NaN</td>\n",
       "      <td>NaN</td>\n",
       "      <td>ACTIVE</td>\n",
       "      <td>NONE</td>\n",
       "      <td>24.0</td>\n",
       "      <td>64f17e6a330a85798e4998f62d0930d14db8db1c054af6...</td>\n",
       "    </tr>\n",
       "    <tr>\n",
       "      <th>3</th>\n",
       "      <td>00005ca1c9ed5f5146b52ac8639a40ca9d57aeff4d1bd2...</td>\n",
       "      <td>NaN</td>\n",
       "      <td>NaN</td>\n",
       "      <td>ACTIVE</td>\n",
       "      <td>NONE</td>\n",
       "      <td>54.0</td>\n",
       "      <td>5d36574f52495e81f019b680c843c443bd343d5ca5b1c2...</td>\n",
       "    </tr>\n",
       "    <tr>\n",
       "      <th>4</th>\n",
       "      <td>00006413d8573cd20ed7128e53b7b13819fe5cfc2d801f...</td>\n",
       "      <td>1.0</td>\n",
       "      <td>1.0</td>\n",
       "      <td>ACTIVE</td>\n",
       "      <td>Regularly</td>\n",
       "      <td>52.0</td>\n",
       "      <td>25fa5ddee9aac01b35208d01736e57942317d756b32ddd...</td>\n",
       "    </tr>\n",
       "  </tbody>\n",
       "</table>\n",
       "</div>"
      ],
      "text/plain": [
       "                                         customer_id   FN  Active  \\\n",
       "0  00000dbacae5abe5e23885899a1fa44253a17956c6d1c3...  NaN     NaN   \n",
       "1  0000423b00ade91418cceaf3b26c6af3dd342b51fd051e...  NaN     NaN   \n",
       "2  000058a12d5b43e67d225668fa1f8d618c13dc232df0ca...  NaN     NaN   \n",
       "3  00005ca1c9ed5f5146b52ac8639a40ca9d57aeff4d1bd2...  NaN     NaN   \n",
       "4  00006413d8573cd20ed7128e53b7b13819fe5cfc2d801f...  1.0     1.0   \n",
       "\n",
       "  club_member_status fashion_news_frequency   age  \\\n",
       "0             ACTIVE                   NONE  49.0   \n",
       "1             ACTIVE                   NONE  25.0   \n",
       "2             ACTIVE                   NONE  24.0   \n",
       "3             ACTIVE                   NONE  54.0   \n",
       "4             ACTIVE              Regularly  52.0   \n",
       "\n",
       "                                         postal_code  \n",
       "0  52043ee2162cf5aa7ee79974281641c6f11a68d276429a...  \n",
       "1  2973abc54daa8a5f8ccfe9362140c63247c5eee03f1d93...  \n",
       "2  64f17e6a330a85798e4998f62d0930d14db8db1c054af6...  \n",
       "3  5d36574f52495e81f019b680c843c443bd343d5ca5b1c2...  \n",
       "4  25fa5ddee9aac01b35208d01736e57942317d756b32ddd...  "
      ]
     },
     "execution_count": 7,
     "metadata": {},
     "output_type": "execute_result"
    }
   ],
   "source": [
    "cst.head()"
   ]
  },
  {
   "cell_type": "code",
   "execution_count": 8,
   "id": "3c08ef75",
   "metadata": {},
   "outputs": [
    {
     "data": {
      "text/plain": [
       "(31788324, 5)"
      ]
     },
     "execution_count": 8,
     "metadata": {},
     "output_type": "execute_result"
    }
   ],
   "source": [
    "#trns = pd.read_csv(\"transactions_train.csv\", nrows=999999)\n",
    "trns = pd.read_csv(\"transactions_train.csv\")\n",
    "trns.shape"
   ]
  },
  {
   "cell_type": "code",
   "execution_count": 9,
   "id": "87e2333e",
   "metadata": {},
   "outputs": [
    {
     "data": {
      "text/html": [
       "<div>\n",
       "<style scoped>\n",
       "    .dataframe tbody tr th:only-of-type {\n",
       "        vertical-align: middle;\n",
       "    }\n",
       "\n",
       "    .dataframe tbody tr th {\n",
       "        vertical-align: top;\n",
       "    }\n",
       "\n",
       "    .dataframe thead th {\n",
       "        text-align: right;\n",
       "    }\n",
       "</style>\n",
       "<table border=\"1\" class=\"dataframe\">\n",
       "  <thead>\n",
       "    <tr style=\"text-align: right;\">\n",
       "      <th></th>\n",
       "      <th>t_dat</th>\n",
       "      <th>customer_id</th>\n",
       "      <th>article_id</th>\n",
       "      <th>price</th>\n",
       "      <th>sales_channel_id</th>\n",
       "    </tr>\n",
       "  </thead>\n",
       "  <tbody>\n",
       "    <tr>\n",
       "      <th>0</th>\n",
       "      <td>2018-09-20</td>\n",
       "      <td>000058a12d5b43e67d225668fa1f8d618c13dc232df0ca...</td>\n",
       "      <td>663713001</td>\n",
       "      <td>0.050831</td>\n",
       "      <td>2</td>\n",
       "    </tr>\n",
       "    <tr>\n",
       "      <th>1</th>\n",
       "      <td>2018-09-20</td>\n",
       "      <td>000058a12d5b43e67d225668fa1f8d618c13dc232df0ca...</td>\n",
       "      <td>541518023</td>\n",
       "      <td>0.030492</td>\n",
       "      <td>2</td>\n",
       "    </tr>\n",
       "    <tr>\n",
       "      <th>2</th>\n",
       "      <td>2018-09-20</td>\n",
       "      <td>00007d2de826758b65a93dd24ce629ed66842531df6699...</td>\n",
       "      <td>505221004</td>\n",
       "      <td>0.015237</td>\n",
       "      <td>2</td>\n",
       "    </tr>\n",
       "    <tr>\n",
       "      <th>3</th>\n",
       "      <td>2018-09-20</td>\n",
       "      <td>00007d2de826758b65a93dd24ce629ed66842531df6699...</td>\n",
       "      <td>685687003</td>\n",
       "      <td>0.016932</td>\n",
       "      <td>2</td>\n",
       "    </tr>\n",
       "    <tr>\n",
       "      <th>4</th>\n",
       "      <td>2018-09-20</td>\n",
       "      <td>00007d2de826758b65a93dd24ce629ed66842531df6699...</td>\n",
       "      <td>685687004</td>\n",
       "      <td>0.016932</td>\n",
       "      <td>2</td>\n",
       "    </tr>\n",
       "  </tbody>\n",
       "</table>\n",
       "</div>"
      ],
      "text/plain": [
       "        t_dat                                        customer_id  article_id  \\\n",
       "0  2018-09-20  000058a12d5b43e67d225668fa1f8d618c13dc232df0ca...   663713001   \n",
       "1  2018-09-20  000058a12d5b43e67d225668fa1f8d618c13dc232df0ca...   541518023   \n",
       "2  2018-09-20  00007d2de826758b65a93dd24ce629ed66842531df6699...   505221004   \n",
       "3  2018-09-20  00007d2de826758b65a93dd24ce629ed66842531df6699...   685687003   \n",
       "4  2018-09-20  00007d2de826758b65a93dd24ce629ed66842531df6699...   685687004   \n",
       "\n",
       "      price  sales_channel_id  \n",
       "0  0.050831                 2  \n",
       "1  0.030492                 2  \n",
       "2  0.015237                 2  \n",
       "3  0.016932                 2  \n",
       "4  0.016932                 2  "
      ]
     },
     "execution_count": 9,
     "metadata": {},
     "output_type": "execute_result"
    }
   ],
   "source": [
    "trns.head()"
   ]
  },
  {
   "cell_type": "markdown",
   "id": "6b2d7ad2",
   "metadata": {},
   "source": [
    "## Collab Filtering"
   ]
  },
  {
   "cell_type": "markdown",
   "id": "657e6b29",
   "metadata": {},
   "source": [
    "similarity between customers is used for recommendation. we find customer based their purchasing patterns. similarity is calculated using "
   ]
  },
  {
   "cell_type": "markdown",
   "id": "27a11b52",
   "metadata": {},
   "source": [
    "### Read CSV-short"
   ]
  },
  {
   "cell_type": "code",
   "execution_count": 11,
   "id": "d7c3b6af",
   "metadata": {
    "scrolled": true
   },
   "outputs": [
    {
     "data": {
      "text/plain": [
       "(383453, 9)"
      ]
     },
     "execution_count": 11,
     "metadata": {},
     "output_type": "execute_result"
    }
   ],
   "source": [
    "art_cst_merge=pd.read_csv ('articles_for_merge.csv')\n",
    "art_cst_merge.shape"
   ]
  },
  {
   "cell_type": "code",
   "execution_count": 12,
   "id": "16c8e436",
   "metadata": {
    "scrolled": true
   },
   "outputs": [
    {
     "data": {
      "text/html": [
       "<div>\n",
       "<style scoped>\n",
       "    .dataframe tbody tr th:only-of-type {\n",
       "        vertical-align: middle;\n",
       "    }\n",
       "\n",
       "    .dataframe tbody tr th {\n",
       "        vertical-align: top;\n",
       "    }\n",
       "\n",
       "    .dataframe thead th {\n",
       "        text-align: right;\n",
       "    }\n",
       "</style>\n",
       "<table border=\"1\" class=\"dataframe\">\n",
       "  <thead>\n",
       "    <tr style=\"text-align: right;\">\n",
       "      <th></th>\n",
       "      <th>customer_id</th>\n",
       "      <th>article_id</th>\n",
       "      <th>price</th>\n",
       "      <th>t_dat</th>\n",
       "      <th>prod_name</th>\n",
       "      <th>product_type_name</th>\n",
       "      <th>product_group_name</th>\n",
       "      <th>index_name</th>\n",
       "      <th>perceived_colour_value_name</th>\n",
       "    </tr>\n",
       "  </thead>\n",
       "  <tbody>\n",
       "    <tr>\n",
       "      <th>0</th>\n",
       "      <td>001ddeb8fb74fec5693116da83b488e05ee9a9e179f3fd...</td>\n",
       "      <td>712587003</td>\n",
       "      <td>0.020254</td>\n",
       "      <td>2020-01-02</td>\n",
       "      <td>Bow HW paperwaist</td>\n",
       "      <td>Trousers</td>\n",
       "      <td>Garment Lower body</td>\n",
       "      <td>Ladieswear</td>\n",
       "      <td>Dark</td>\n",
       "    </tr>\n",
       "    <tr>\n",
       "      <th>1</th>\n",
       "      <td>a80847aee5b274e644a4f0059e723c11f9410ef5a3da8e...</td>\n",
       "      <td>712587003</td>\n",
       "      <td>0.010153</td>\n",
       "      <td>2020-01-02</td>\n",
       "      <td>Bow HW paperwaist</td>\n",
       "      <td>Trousers</td>\n",
       "      <td>Garment Lower body</td>\n",
       "      <td>Ladieswear</td>\n",
       "      <td>Dark</td>\n",
       "    </tr>\n",
       "    <tr>\n",
       "      <th>2</th>\n",
       "      <td>abe2f85c340f91805173b08461c5d4e4fd502cff0960e0...</td>\n",
       "      <td>712587003</td>\n",
       "      <td>0.022017</td>\n",
       "      <td>2020-01-02</td>\n",
       "      <td>Bow HW paperwaist</td>\n",
       "      <td>Trousers</td>\n",
       "      <td>Garment Lower body</td>\n",
       "      <td>Ladieswear</td>\n",
       "      <td>Dark</td>\n",
       "    </tr>\n",
       "    <tr>\n",
       "      <th>3</th>\n",
       "      <td>abe2f85c340f91805173b08461c5d4e4fd502cff0960e0...</td>\n",
       "      <td>712587003</td>\n",
       "      <td>0.022017</td>\n",
       "      <td>2020-01-02</td>\n",
       "      <td>Bow HW paperwaist</td>\n",
       "      <td>Trousers</td>\n",
       "      <td>Garment Lower body</td>\n",
       "      <td>Ladieswear</td>\n",
       "      <td>Dark</td>\n",
       "    </tr>\n",
       "    <tr>\n",
       "      <th>4</th>\n",
       "      <td>0fd4835666153d82838b3bccd0e9e73066e26329e45517...</td>\n",
       "      <td>712587003</td>\n",
       "      <td>0.019814</td>\n",
       "      <td>2020-01-03</td>\n",
       "      <td>Bow HW paperwaist</td>\n",
       "      <td>Trousers</td>\n",
       "      <td>Garment Lower body</td>\n",
       "      <td>Ladieswear</td>\n",
       "      <td>Dark</td>\n",
       "    </tr>\n",
       "  </tbody>\n",
       "</table>\n",
       "</div>"
      ],
      "text/plain": [
       "                                         customer_id  article_id     price  \\\n",
       "0  001ddeb8fb74fec5693116da83b488e05ee9a9e179f3fd...   712587003  0.020254   \n",
       "1  a80847aee5b274e644a4f0059e723c11f9410ef5a3da8e...   712587003  0.010153   \n",
       "2  abe2f85c340f91805173b08461c5d4e4fd502cff0960e0...   712587003  0.022017   \n",
       "3  abe2f85c340f91805173b08461c5d4e4fd502cff0960e0...   712587003  0.022017   \n",
       "4  0fd4835666153d82838b3bccd0e9e73066e26329e45517...   712587003  0.019814   \n",
       "\n",
       "        t_dat          prod_name product_type_name  product_group_name  \\\n",
       "0  2020-01-02  Bow HW paperwaist          Trousers  Garment Lower body   \n",
       "1  2020-01-02  Bow HW paperwaist          Trousers  Garment Lower body   \n",
       "2  2020-01-02  Bow HW paperwaist          Trousers  Garment Lower body   \n",
       "3  2020-01-02  Bow HW paperwaist          Trousers  Garment Lower body   \n",
       "4  2020-01-03  Bow HW paperwaist          Trousers  Garment Lower body   \n",
       "\n",
       "   index_name perceived_colour_value_name  \n",
       "0  Ladieswear                        Dark  \n",
       "1  Ladieswear                        Dark  \n",
       "2  Ladieswear                        Dark  \n",
       "3  Ladieswear                        Dark  \n",
       "4  Ladieswear                        Dark  "
      ]
     },
     "execution_count": 12,
     "metadata": {},
     "output_type": "execute_result"
    }
   ],
   "source": [
    "art_cst_merge.head()"
   ]
  },
  {
   "cell_type": "code",
   "execution_count": 13,
   "id": "54ac7d9f",
   "metadata": {
    "scrolled": false
   },
   "outputs": [
    {
     "data": {
      "text/html": [
       "<div>\n",
       "<style scoped>\n",
       "    .dataframe tbody tr th:only-of-type {\n",
       "        vertical-align: middle;\n",
       "    }\n",
       "\n",
       "    .dataframe tbody tr th {\n",
       "        vertical-align: top;\n",
       "    }\n",
       "\n",
       "    .dataframe thead th {\n",
       "        text-align: right;\n",
       "    }\n",
       "</style>\n",
       "<table border=\"1\" class=\"dataframe\">\n",
       "  <thead>\n",
       "    <tr style=\"text-align: right;\">\n",
       "      <th></th>\n",
       "      <th>article_id</th>\n",
       "    </tr>\n",
       "    <tr>\n",
       "      <th>product_group_name</th>\n",
       "      <th></th>\n",
       "    </tr>\n",
       "  </thead>\n",
       "  <tbody>\n",
       "    <tr>\n",
       "      <th>Garment Full body</th>\n",
       "      <td>332</td>\n",
       "    </tr>\n",
       "    <tr>\n",
       "      <th>Garment Lower body</th>\n",
       "      <td>309</td>\n",
       "    </tr>\n",
       "    <tr>\n",
       "      <th>Garment Upper body</th>\n",
       "      <td>639</td>\n",
       "    </tr>\n",
       "  </tbody>\n",
       "</table>\n",
       "</div>"
      ],
      "text/plain": [
       "                    article_id\n",
       "product_group_name            \n",
       "Garment Full body          332\n",
       "Garment Lower body         309\n",
       "Garment Upper body         639"
      ]
     },
     "execution_count": 13,
     "metadata": {},
     "output_type": "execute_result"
    }
   ],
   "source": [
    "pd.DataFrame(art_cst_merge.groupby(['product_group_name'])['article_id'].nunique())"
   ]
  },
  {
   "cell_type": "code",
   "execution_count": 14,
   "id": "549caca4",
   "metadata": {
    "scrolled": true
   },
   "outputs": [],
   "source": [
    "cst_art_buy = art_cst_merge.groupby([\"customer_id\", \"article_id\"])[\"t_dat\"].count().reset_index()\n",
    "cst_art_buy.columns = [\"customer_id\", \"article_id\", \"count\"]"
   ]
  },
  {
   "cell_type": "code",
   "execution_count": 15,
   "id": "68ff720b",
   "metadata": {
    "scrolled": true
   },
   "outputs": [
    {
     "data": {
      "text/html": [
       "<div>\n",
       "<style scoped>\n",
       "    .dataframe tbody tr th:only-of-type {\n",
       "        vertical-align: middle;\n",
       "    }\n",
       "\n",
       "    .dataframe tbody tr th {\n",
       "        vertical-align: top;\n",
       "    }\n",
       "\n",
       "    .dataframe thead th {\n",
       "        text-align: right;\n",
       "    }\n",
       "</style>\n",
       "<table border=\"1\" class=\"dataframe\">\n",
       "  <thead>\n",
       "    <tr style=\"text-align: right;\">\n",
       "      <th></th>\n",
       "      <th>customer_id</th>\n",
       "      <th>article_id</th>\n",
       "      <th>count</th>\n",
       "    </tr>\n",
       "  </thead>\n",
       "  <tbody>\n",
       "    <tr>\n",
       "      <th>0</th>\n",
       "      <td>000058a12d5b43e67d225668fa1f8d618c13dc232df0ca...</td>\n",
       "      <td>750424014</td>\n",
       "      <td>2</td>\n",
       "    </tr>\n",
       "    <tr>\n",
       "      <th>1</th>\n",
       "      <td>000114c6996ef5703a8d455faf2103f8488d3928348e07...</td>\n",
       "      <td>733441003</td>\n",
       "      <td>1</td>\n",
       "    </tr>\n",
       "    <tr>\n",
       "      <th>2</th>\n",
       "      <td>00012315fd38859ff2c446876ca507abbcbcf582d0e266...</td>\n",
       "      <td>690936001</td>\n",
       "      <td>1</td>\n",
       "    </tr>\n",
       "    <tr>\n",
       "      <th>3</th>\n",
       "      <td>00015c1a121e08bbd2552c15fbbb6e6b19d3bf8f7b6a3d...</td>\n",
       "      <td>842605015</td>\n",
       "      <td>1</td>\n",
       "    </tr>\n",
       "    <tr>\n",
       "      <th>4</th>\n",
       "      <td>0001ab2ebc1bb9a21d135e2fefdb11f12bee5c74ab2984...</td>\n",
       "      <td>772773002</td>\n",
       "      <td>1</td>\n",
       "    </tr>\n",
       "  </tbody>\n",
       "</table>\n",
       "</div>"
      ],
      "text/plain": [
       "                                         customer_id  article_id  count\n",
       "0  000058a12d5b43e67d225668fa1f8d618c13dc232df0ca...   750424014      2\n",
       "1  000114c6996ef5703a8d455faf2103f8488d3928348e07...   733441003      1\n",
       "2  00012315fd38859ff2c446876ca507abbcbcf582d0e266...   690936001      1\n",
       "3  00015c1a121e08bbd2552c15fbbb6e6b19d3bf8f7b6a3d...   842605015      1\n",
       "4  0001ab2ebc1bb9a21d135e2fefdb11f12bee5c74ab2984...   772773002      1"
      ]
     },
     "execution_count": 15,
     "metadata": {},
     "output_type": "execute_result"
    }
   ],
   "source": [
    "cst_art_buy.head()"
   ]
  },
  {
   "cell_type": "code",
   "execution_count": 16,
   "id": "8a3fdea0",
   "metadata": {},
   "outputs": [],
   "source": [
    "# create flag for an itme purchased by customer\n",
    "cst_art_buy['IsPurchased'] = 1"
   ]
  },
  {
   "cell_type": "code",
   "execution_count": 17,
   "id": "2f43f0f7",
   "metadata": {},
   "outputs": [],
   "source": [
    "uniqueCst = list(cst_art_buy.customer_id.unique())\n",
    "uniqueArt = list(cst_art_buy.article_id.unique()) "
   ]
  },
  {
   "cell_type": "code",
   "execution_count": 18,
   "id": "5b97d9bf",
   "metadata": {},
   "outputs": [
    {
     "name": "stdout",
     "output_type": "stream",
     "text": [
      "Total Customers = 209,267\n",
      "total articles/products = 1,280\n",
      "Total Transactions = 383,453\n"
     ]
    }
   ],
   "source": [
    "print('Total Customers = '+str(f'{len(uniqueCst):,}'))\n",
    "print('total articles/products = '+str(f'{len(uniqueArt):,}'))\n",
    "print('Total Transactions = '+str(f'{len(art_cst_merge):,}'))"
   ]
  },
  {
   "cell_type": "code",
   "execution_count": 19,
   "id": "e3b778cf",
   "metadata": {},
   "outputs": [],
   "source": [
    "#cst_art_buy_short = cst_art_buy[cst_art_buy['article_id'].isin()]"
   ]
  },
  {
   "cell_type": "code",
   "execution_count": 20,
   "id": "dd351a03",
   "metadata": {},
   "outputs": [],
   "source": [
    "# make Cst-Art Matrix\n",
    "cst_art_matrix = pd.pivot_table(cst_art_buy, values='IsPurchased', index='customer_id', columns='article_id')"
   ]
  },
  {
   "cell_type": "code",
   "execution_count": 21,
   "id": "d6a5d0bd",
   "metadata": {},
   "outputs": [
    {
     "data": {
      "text/html": [
       "<div>\n",
       "<style scoped>\n",
       "    .dataframe tbody tr th:only-of-type {\n",
       "        vertical-align: middle;\n",
       "    }\n",
       "\n",
       "    .dataframe tbody tr th {\n",
       "        vertical-align: top;\n",
       "    }\n",
       "\n",
       "    .dataframe thead th {\n",
       "        text-align: right;\n",
       "    }\n",
       "</style>\n",
       "<table border=\"1\" class=\"dataframe\">\n",
       "  <thead>\n",
       "    <tr style=\"text-align: right;\">\n",
       "      <th>article_id</th>\n",
       "      <th>186372045</th>\n",
       "      <th>220094015</th>\n",
       "      <th>294008050</th>\n",
       "      <th>316441024</th>\n",
       "      <th>356174004</th>\n",
       "      <th>399061018</th>\n",
       "      <th>399061023</th>\n",
       "      <th>399256005</th>\n",
       "      <th>400296010</th>\n",
       "      <th>445419010</th>\n",
       "      <th>...</th>\n",
       "      <th>931769003</th>\n",
       "      <th>932024001</th>\n",
       "      <th>933111001</th>\n",
       "      <th>934122004</th>\n",
       "      <th>934211005</th>\n",
       "      <th>934296001</th>\n",
       "      <th>935548001</th>\n",
       "      <th>938622001</th>\n",
       "      <th>943097001</th>\n",
       "      <th>946748004</th>\n",
       "    </tr>\n",
       "    <tr>\n",
       "      <th>customer_id</th>\n",
       "      <th></th>\n",
       "      <th></th>\n",
       "      <th></th>\n",
       "      <th></th>\n",
       "      <th></th>\n",
       "      <th></th>\n",
       "      <th></th>\n",
       "      <th></th>\n",
       "      <th></th>\n",
       "      <th></th>\n",
       "      <th></th>\n",
       "      <th></th>\n",
       "      <th></th>\n",
       "      <th></th>\n",
       "      <th></th>\n",
       "      <th></th>\n",
       "      <th></th>\n",
       "      <th></th>\n",
       "      <th></th>\n",
       "      <th></th>\n",
       "      <th></th>\n",
       "    </tr>\n",
       "  </thead>\n",
       "  <tbody>\n",
       "    <tr>\n",
       "      <th>000058a12d5b43e67d225668fa1f8d618c13dc232df0cad8ffe7ad4a1091e318</th>\n",
       "      <td>NaN</td>\n",
       "      <td>NaN</td>\n",
       "      <td>NaN</td>\n",
       "      <td>NaN</td>\n",
       "      <td>NaN</td>\n",
       "      <td>NaN</td>\n",
       "      <td>NaN</td>\n",
       "      <td>NaN</td>\n",
       "      <td>NaN</td>\n",
       "      <td>NaN</td>\n",
       "      <td>...</td>\n",
       "      <td>NaN</td>\n",
       "      <td>NaN</td>\n",
       "      <td>NaN</td>\n",
       "      <td>NaN</td>\n",
       "      <td>NaN</td>\n",
       "      <td>NaN</td>\n",
       "      <td>NaN</td>\n",
       "      <td>NaN</td>\n",
       "      <td>NaN</td>\n",
       "      <td>NaN</td>\n",
       "    </tr>\n",
       "    <tr>\n",
       "      <th>000114c6996ef5703a8d455faf2103f8488d3928348e0739c92ff9e8897932db</th>\n",
       "      <td>NaN</td>\n",
       "      <td>NaN</td>\n",
       "      <td>NaN</td>\n",
       "      <td>NaN</td>\n",
       "      <td>NaN</td>\n",
       "      <td>NaN</td>\n",
       "      <td>NaN</td>\n",
       "      <td>NaN</td>\n",
       "      <td>NaN</td>\n",
       "      <td>NaN</td>\n",
       "      <td>...</td>\n",
       "      <td>NaN</td>\n",
       "      <td>NaN</td>\n",
       "      <td>NaN</td>\n",
       "      <td>NaN</td>\n",
       "      <td>NaN</td>\n",
       "      <td>NaN</td>\n",
       "      <td>NaN</td>\n",
       "      <td>NaN</td>\n",
       "      <td>NaN</td>\n",
       "      <td>NaN</td>\n",
       "    </tr>\n",
       "    <tr>\n",
       "      <th>00012315fd38859ff2c446876ca507abbcbcf582d0e266b1b696941c16e777a2</th>\n",
       "      <td>NaN</td>\n",
       "      <td>NaN</td>\n",
       "      <td>NaN</td>\n",
       "      <td>NaN</td>\n",
       "      <td>NaN</td>\n",
       "      <td>NaN</td>\n",
       "      <td>NaN</td>\n",
       "      <td>NaN</td>\n",
       "      <td>NaN</td>\n",
       "      <td>NaN</td>\n",
       "      <td>...</td>\n",
       "      <td>NaN</td>\n",
       "      <td>NaN</td>\n",
       "      <td>NaN</td>\n",
       "      <td>NaN</td>\n",
       "      <td>NaN</td>\n",
       "      <td>NaN</td>\n",
       "      <td>NaN</td>\n",
       "      <td>NaN</td>\n",
       "      <td>NaN</td>\n",
       "      <td>NaN</td>\n",
       "    </tr>\n",
       "    <tr>\n",
       "      <th>00015c1a121e08bbd2552c15fbbb6e6b19d3bf8f7b6a3d60c6d7be26f06264d6</th>\n",
       "      <td>NaN</td>\n",
       "      <td>NaN</td>\n",
       "      <td>NaN</td>\n",
       "      <td>NaN</td>\n",
       "      <td>NaN</td>\n",
       "      <td>NaN</td>\n",
       "      <td>NaN</td>\n",
       "      <td>NaN</td>\n",
       "      <td>NaN</td>\n",
       "      <td>NaN</td>\n",
       "      <td>...</td>\n",
       "      <td>NaN</td>\n",
       "      <td>NaN</td>\n",
       "      <td>NaN</td>\n",
       "      <td>NaN</td>\n",
       "      <td>NaN</td>\n",
       "      <td>NaN</td>\n",
       "      <td>NaN</td>\n",
       "      <td>NaN</td>\n",
       "      <td>NaN</td>\n",
       "      <td>NaN</td>\n",
       "    </tr>\n",
       "    <tr>\n",
       "      <th>0001ab2ebc1bb9a21d135e2fefdb11f12bee5c74ab29842a6d2ffd71316bf048</th>\n",
       "      <td>NaN</td>\n",
       "      <td>NaN</td>\n",
       "      <td>NaN</td>\n",
       "      <td>NaN</td>\n",
       "      <td>NaN</td>\n",
       "      <td>NaN</td>\n",
       "      <td>NaN</td>\n",
       "      <td>NaN</td>\n",
       "      <td>NaN</td>\n",
       "      <td>NaN</td>\n",
       "      <td>...</td>\n",
       "      <td>NaN</td>\n",
       "      <td>NaN</td>\n",
       "      <td>NaN</td>\n",
       "      <td>NaN</td>\n",
       "      <td>NaN</td>\n",
       "      <td>NaN</td>\n",
       "      <td>NaN</td>\n",
       "      <td>NaN</td>\n",
       "      <td>NaN</td>\n",
       "      <td>NaN</td>\n",
       "    </tr>\n",
       "  </tbody>\n",
       "</table>\n",
       "<p>5 rows × 1280 columns</p>\n",
       "</div>"
      ],
      "text/plain": [
       "article_id                                          186372045  220094015  \\\n",
       "customer_id                                                                \n",
       "000058a12d5b43e67d225668fa1f8d618c13dc232df0cad...        NaN        NaN   \n",
       "000114c6996ef5703a8d455faf2103f8488d3928348e073...        NaN        NaN   \n",
       "00012315fd38859ff2c446876ca507abbcbcf582d0e266b...        NaN        NaN   \n",
       "00015c1a121e08bbd2552c15fbbb6e6b19d3bf8f7b6a3d6...        NaN        NaN   \n",
       "0001ab2ebc1bb9a21d135e2fefdb11f12bee5c74ab29842...        NaN        NaN   \n",
       "\n",
       "article_id                                          294008050  316441024  \\\n",
       "customer_id                                                                \n",
       "000058a12d5b43e67d225668fa1f8d618c13dc232df0cad...        NaN        NaN   \n",
       "000114c6996ef5703a8d455faf2103f8488d3928348e073...        NaN        NaN   \n",
       "00012315fd38859ff2c446876ca507abbcbcf582d0e266b...        NaN        NaN   \n",
       "00015c1a121e08bbd2552c15fbbb6e6b19d3bf8f7b6a3d6...        NaN        NaN   \n",
       "0001ab2ebc1bb9a21d135e2fefdb11f12bee5c74ab29842...        NaN        NaN   \n",
       "\n",
       "article_id                                          356174004  399061018  \\\n",
       "customer_id                                                                \n",
       "000058a12d5b43e67d225668fa1f8d618c13dc232df0cad...        NaN        NaN   \n",
       "000114c6996ef5703a8d455faf2103f8488d3928348e073...        NaN        NaN   \n",
       "00012315fd38859ff2c446876ca507abbcbcf582d0e266b...        NaN        NaN   \n",
       "00015c1a121e08bbd2552c15fbbb6e6b19d3bf8f7b6a3d6...        NaN        NaN   \n",
       "0001ab2ebc1bb9a21d135e2fefdb11f12bee5c74ab29842...        NaN        NaN   \n",
       "\n",
       "article_id                                          399061023  399256005  \\\n",
       "customer_id                                                                \n",
       "000058a12d5b43e67d225668fa1f8d618c13dc232df0cad...        NaN        NaN   \n",
       "000114c6996ef5703a8d455faf2103f8488d3928348e073...        NaN        NaN   \n",
       "00012315fd38859ff2c446876ca507abbcbcf582d0e266b...        NaN        NaN   \n",
       "00015c1a121e08bbd2552c15fbbb6e6b19d3bf8f7b6a3d6...        NaN        NaN   \n",
       "0001ab2ebc1bb9a21d135e2fefdb11f12bee5c74ab29842...        NaN        NaN   \n",
       "\n",
       "article_id                                          400296010  445419010  ...  \\\n",
       "customer_id                                                               ...   \n",
       "000058a12d5b43e67d225668fa1f8d618c13dc232df0cad...        NaN        NaN  ...   \n",
       "000114c6996ef5703a8d455faf2103f8488d3928348e073...        NaN        NaN  ...   \n",
       "00012315fd38859ff2c446876ca507abbcbcf582d0e266b...        NaN        NaN  ...   \n",
       "00015c1a121e08bbd2552c15fbbb6e6b19d3bf8f7b6a3d6...        NaN        NaN  ...   \n",
       "0001ab2ebc1bb9a21d135e2fefdb11f12bee5c74ab29842...        NaN        NaN  ...   \n",
       "\n",
       "article_id                                          931769003  932024001  \\\n",
       "customer_id                                                                \n",
       "000058a12d5b43e67d225668fa1f8d618c13dc232df0cad...        NaN        NaN   \n",
       "000114c6996ef5703a8d455faf2103f8488d3928348e073...        NaN        NaN   \n",
       "00012315fd38859ff2c446876ca507abbcbcf582d0e266b...        NaN        NaN   \n",
       "00015c1a121e08bbd2552c15fbbb6e6b19d3bf8f7b6a3d6...        NaN        NaN   \n",
       "0001ab2ebc1bb9a21d135e2fefdb11f12bee5c74ab29842...        NaN        NaN   \n",
       "\n",
       "article_id                                          933111001  934122004  \\\n",
       "customer_id                                                                \n",
       "000058a12d5b43e67d225668fa1f8d618c13dc232df0cad...        NaN        NaN   \n",
       "000114c6996ef5703a8d455faf2103f8488d3928348e073...        NaN        NaN   \n",
       "00012315fd38859ff2c446876ca507abbcbcf582d0e266b...        NaN        NaN   \n",
       "00015c1a121e08bbd2552c15fbbb6e6b19d3bf8f7b6a3d6...        NaN        NaN   \n",
       "0001ab2ebc1bb9a21d135e2fefdb11f12bee5c74ab29842...        NaN        NaN   \n",
       "\n",
       "article_id                                          934211005  934296001  \\\n",
       "customer_id                                                                \n",
       "000058a12d5b43e67d225668fa1f8d618c13dc232df0cad...        NaN        NaN   \n",
       "000114c6996ef5703a8d455faf2103f8488d3928348e073...        NaN        NaN   \n",
       "00012315fd38859ff2c446876ca507abbcbcf582d0e266b...        NaN        NaN   \n",
       "00015c1a121e08bbd2552c15fbbb6e6b19d3bf8f7b6a3d6...        NaN        NaN   \n",
       "0001ab2ebc1bb9a21d135e2fefdb11f12bee5c74ab29842...        NaN        NaN   \n",
       "\n",
       "article_id                                          935548001  938622001  \\\n",
       "customer_id                                                                \n",
       "000058a12d5b43e67d225668fa1f8d618c13dc232df0cad...        NaN        NaN   \n",
       "000114c6996ef5703a8d455faf2103f8488d3928348e073...        NaN        NaN   \n",
       "00012315fd38859ff2c446876ca507abbcbcf582d0e266b...        NaN        NaN   \n",
       "00015c1a121e08bbd2552c15fbbb6e6b19d3bf8f7b6a3d6...        NaN        NaN   \n",
       "0001ab2ebc1bb9a21d135e2fefdb11f12bee5c74ab29842...        NaN        NaN   \n",
       "\n",
       "article_id                                          943097001  946748004  \n",
       "customer_id                                                               \n",
       "000058a12d5b43e67d225668fa1f8d618c13dc232df0cad...        NaN        NaN  \n",
       "000114c6996ef5703a8d455faf2103f8488d3928348e073...        NaN        NaN  \n",
       "00012315fd38859ff2c446876ca507abbcbcf582d0e266b...        NaN        NaN  \n",
       "00015c1a121e08bbd2552c15fbbb6e6b19d3bf8f7b6a3d6...        NaN        NaN  \n",
       "0001ab2ebc1bb9a21d135e2fefdb11f12bee5c74ab29842...        NaN        NaN  \n",
       "\n",
       "[5 rows x 1280 columns]"
      ]
     },
     "execution_count": 21,
     "metadata": {},
     "output_type": "execute_result"
    }
   ],
   "source": [
    "cst_art_matrix.head()"
   ]
  },
  {
   "cell_type": "code",
   "execution_count": 22,
   "id": "2444be6d",
   "metadata": {},
   "outputs": [
    {
     "data": {
      "text/html": [
       "<div>\n",
       "<style scoped>\n",
       "    .dataframe tbody tr th:only-of-type {\n",
       "        vertical-align: middle;\n",
       "    }\n",
       "\n",
       "    .dataframe tbody tr th {\n",
       "        vertical-align: top;\n",
       "    }\n",
       "\n",
       "    .dataframe thead th {\n",
       "        text-align: right;\n",
       "    }\n",
       "</style>\n",
       "<table border=\"1\" class=\"dataframe\">\n",
       "  <thead>\n",
       "    <tr style=\"text-align: right;\">\n",
       "      <th></th>\n",
       "      <th>customer_id</th>\n",
       "      <th>186372045</th>\n",
       "      <th>220094015</th>\n",
       "      <th>294008050</th>\n",
       "      <th>316441024</th>\n",
       "      <th>356174004</th>\n",
       "      <th>399061018</th>\n",
       "      <th>399061023</th>\n",
       "      <th>399256005</th>\n",
       "      <th>400296010</th>\n",
       "      <th>...</th>\n",
       "      <th>931769003</th>\n",
       "      <th>932024001</th>\n",
       "      <th>933111001</th>\n",
       "      <th>934122004</th>\n",
       "      <th>934211005</th>\n",
       "      <th>934296001</th>\n",
       "      <th>935548001</th>\n",
       "      <th>938622001</th>\n",
       "      <th>943097001</th>\n",
       "      <th>946748004</th>\n",
       "    </tr>\n",
       "  </thead>\n",
       "  <tbody>\n",
       "    <tr>\n",
       "      <th>0</th>\n",
       "      <td>000058a12d5b43e67d225668fa1f8d618c13dc232df0ca...</td>\n",
       "      <td>NaN</td>\n",
       "      <td>NaN</td>\n",
       "      <td>NaN</td>\n",
       "      <td>NaN</td>\n",
       "      <td>NaN</td>\n",
       "      <td>NaN</td>\n",
       "      <td>NaN</td>\n",
       "      <td>NaN</td>\n",
       "      <td>NaN</td>\n",
       "      <td>...</td>\n",
       "      <td>NaN</td>\n",
       "      <td>NaN</td>\n",
       "      <td>NaN</td>\n",
       "      <td>NaN</td>\n",
       "      <td>NaN</td>\n",
       "      <td>NaN</td>\n",
       "      <td>NaN</td>\n",
       "      <td>NaN</td>\n",
       "      <td>NaN</td>\n",
       "      <td>NaN</td>\n",
       "    </tr>\n",
       "    <tr>\n",
       "      <th>1</th>\n",
       "      <td>000114c6996ef5703a8d455faf2103f8488d3928348e07...</td>\n",
       "      <td>NaN</td>\n",
       "      <td>NaN</td>\n",
       "      <td>NaN</td>\n",
       "      <td>NaN</td>\n",
       "      <td>NaN</td>\n",
       "      <td>NaN</td>\n",
       "      <td>NaN</td>\n",
       "      <td>NaN</td>\n",
       "      <td>NaN</td>\n",
       "      <td>...</td>\n",
       "      <td>NaN</td>\n",
       "      <td>NaN</td>\n",
       "      <td>NaN</td>\n",
       "      <td>NaN</td>\n",
       "      <td>NaN</td>\n",
       "      <td>NaN</td>\n",
       "      <td>NaN</td>\n",
       "      <td>NaN</td>\n",
       "      <td>NaN</td>\n",
       "      <td>NaN</td>\n",
       "    </tr>\n",
       "    <tr>\n",
       "      <th>2</th>\n",
       "      <td>00012315fd38859ff2c446876ca507abbcbcf582d0e266...</td>\n",
       "      <td>NaN</td>\n",
       "      <td>NaN</td>\n",
       "      <td>NaN</td>\n",
       "      <td>NaN</td>\n",
       "      <td>NaN</td>\n",
       "      <td>NaN</td>\n",
       "      <td>NaN</td>\n",
       "      <td>NaN</td>\n",
       "      <td>NaN</td>\n",
       "      <td>...</td>\n",
       "      <td>NaN</td>\n",
       "      <td>NaN</td>\n",
       "      <td>NaN</td>\n",
       "      <td>NaN</td>\n",
       "      <td>NaN</td>\n",
       "      <td>NaN</td>\n",
       "      <td>NaN</td>\n",
       "      <td>NaN</td>\n",
       "      <td>NaN</td>\n",
       "      <td>NaN</td>\n",
       "    </tr>\n",
       "    <tr>\n",
       "      <th>3</th>\n",
       "      <td>00015c1a121e08bbd2552c15fbbb6e6b19d3bf8f7b6a3d...</td>\n",
       "      <td>NaN</td>\n",
       "      <td>NaN</td>\n",
       "      <td>NaN</td>\n",
       "      <td>NaN</td>\n",
       "      <td>NaN</td>\n",
       "      <td>NaN</td>\n",
       "      <td>NaN</td>\n",
       "      <td>NaN</td>\n",
       "      <td>NaN</td>\n",
       "      <td>...</td>\n",
       "      <td>NaN</td>\n",
       "      <td>NaN</td>\n",
       "      <td>NaN</td>\n",
       "      <td>NaN</td>\n",
       "      <td>NaN</td>\n",
       "      <td>NaN</td>\n",
       "      <td>NaN</td>\n",
       "      <td>NaN</td>\n",
       "      <td>NaN</td>\n",
       "      <td>NaN</td>\n",
       "    </tr>\n",
       "    <tr>\n",
       "      <th>4</th>\n",
       "      <td>0001ab2ebc1bb9a21d135e2fefdb11f12bee5c74ab2984...</td>\n",
       "      <td>NaN</td>\n",
       "      <td>NaN</td>\n",
       "      <td>NaN</td>\n",
       "      <td>NaN</td>\n",
       "      <td>NaN</td>\n",
       "      <td>NaN</td>\n",
       "      <td>NaN</td>\n",
       "      <td>NaN</td>\n",
       "      <td>NaN</td>\n",
       "      <td>...</td>\n",
       "      <td>NaN</td>\n",
       "      <td>NaN</td>\n",
       "      <td>NaN</td>\n",
       "      <td>NaN</td>\n",
       "      <td>NaN</td>\n",
       "      <td>NaN</td>\n",
       "      <td>NaN</td>\n",
       "      <td>NaN</td>\n",
       "      <td>NaN</td>\n",
       "      <td>NaN</td>\n",
       "    </tr>\n",
       "  </tbody>\n",
       "</table>\n",
       "<p>5 rows × 1281 columns</p>\n",
       "</div>"
      ],
      "text/plain": [
       "                                         customer_id  186372045  220094015  \\\n",
       "0  000058a12d5b43e67d225668fa1f8d618c13dc232df0ca...        NaN        NaN   \n",
       "1  000114c6996ef5703a8d455faf2103f8488d3928348e07...        NaN        NaN   \n",
       "2  00012315fd38859ff2c446876ca507abbcbcf582d0e266...        NaN        NaN   \n",
       "3  00015c1a121e08bbd2552c15fbbb6e6b19d3bf8f7b6a3d...        NaN        NaN   \n",
       "4  0001ab2ebc1bb9a21d135e2fefdb11f12bee5c74ab2984...        NaN        NaN   \n",
       "\n",
       "   294008050  316441024  356174004  399061018  399061023  399256005  \\\n",
       "0        NaN        NaN        NaN        NaN        NaN        NaN   \n",
       "1        NaN        NaN        NaN        NaN        NaN        NaN   \n",
       "2        NaN        NaN        NaN        NaN        NaN        NaN   \n",
       "3        NaN        NaN        NaN        NaN        NaN        NaN   \n",
       "4        NaN        NaN        NaN        NaN        NaN        NaN   \n",
       "\n",
       "   400296010  ...  931769003  932024001  933111001  934122004  934211005  \\\n",
       "0        NaN  ...        NaN        NaN        NaN        NaN        NaN   \n",
       "1        NaN  ...        NaN        NaN        NaN        NaN        NaN   \n",
       "2        NaN  ...        NaN        NaN        NaN        NaN        NaN   \n",
       "3        NaN  ...        NaN        NaN        NaN        NaN        NaN   \n",
       "4        NaN  ...        NaN        NaN        NaN        NaN        NaN   \n",
       "\n",
       "   934296001  935548001  938622001  943097001  946748004  \n",
       "0        NaN        NaN        NaN        NaN        NaN  \n",
       "1        NaN        NaN        NaN        NaN        NaN  \n",
       "2        NaN        NaN        NaN        NaN        NaN  \n",
       "3        NaN        NaN        NaN        NaN        NaN  \n",
       "4        NaN        NaN        NaN        NaN        NaN  \n",
       "\n",
       "[5 rows x 1281 columns]"
      ]
     },
     "execution_count": 22,
     "metadata": {},
     "output_type": "execute_result"
    }
   ],
   "source": [
    "cst_art_matrix_reset = cst_art_matrix.reset_index().rename_axis(None, axis=1) \n",
    "cst_art_matrix_reset.head() "
   ]
  },
  {
   "cell_type": "code",
   "execution_count": 23,
   "id": "6b15f45e",
   "metadata": {},
   "outputs": [],
   "source": [
    "# fill NaN with 0\n",
    "cst_art_matrix_reset=cst_art_matrix_reset.fillna(0)"
   ]
  },
  {
   "cell_type": "code",
   "execution_count": 24,
   "id": "f93f07a1",
   "metadata": {},
   "outputs": [
    {
     "data": {
      "text/html": [
       "<div>\n",
       "<style scoped>\n",
       "    .dataframe tbody tr th:only-of-type {\n",
       "        vertical-align: middle;\n",
       "    }\n",
       "\n",
       "    .dataframe tbody tr th {\n",
       "        vertical-align: top;\n",
       "    }\n",
       "\n",
       "    .dataframe thead th {\n",
       "        text-align: right;\n",
       "    }\n",
       "</style>\n",
       "<table border=\"1\" class=\"dataframe\">\n",
       "  <thead>\n",
       "    <tr style=\"text-align: right;\">\n",
       "      <th></th>\n",
       "      <th>customer_id</th>\n",
       "      <th>186372045</th>\n",
       "      <th>220094015</th>\n",
       "      <th>294008050</th>\n",
       "      <th>316441024</th>\n",
       "      <th>356174004</th>\n",
       "      <th>399061018</th>\n",
       "      <th>399061023</th>\n",
       "      <th>399256005</th>\n",
       "      <th>400296010</th>\n",
       "      <th>...</th>\n",
       "      <th>931769003</th>\n",
       "      <th>932024001</th>\n",
       "      <th>933111001</th>\n",
       "      <th>934122004</th>\n",
       "      <th>934211005</th>\n",
       "      <th>934296001</th>\n",
       "      <th>935548001</th>\n",
       "      <th>938622001</th>\n",
       "      <th>943097001</th>\n",
       "      <th>946748004</th>\n",
       "    </tr>\n",
       "  </thead>\n",
       "  <tbody>\n",
       "    <tr>\n",
       "      <th>0</th>\n",
       "      <td>000058a12d5b43e67d225668fa1f8d618c13dc232df0ca...</td>\n",
       "      <td>0.0</td>\n",
       "      <td>0.0</td>\n",
       "      <td>0.0</td>\n",
       "      <td>0.0</td>\n",
       "      <td>0.0</td>\n",
       "      <td>0.0</td>\n",
       "      <td>0.0</td>\n",
       "      <td>0.0</td>\n",
       "      <td>0.0</td>\n",
       "      <td>...</td>\n",
       "      <td>0.0</td>\n",
       "      <td>0.0</td>\n",
       "      <td>0.0</td>\n",
       "      <td>0.0</td>\n",
       "      <td>0.0</td>\n",
       "      <td>0.0</td>\n",
       "      <td>0.0</td>\n",
       "      <td>0.0</td>\n",
       "      <td>0.0</td>\n",
       "      <td>0.0</td>\n",
       "    </tr>\n",
       "    <tr>\n",
       "      <th>1</th>\n",
       "      <td>000114c6996ef5703a8d455faf2103f8488d3928348e07...</td>\n",
       "      <td>0.0</td>\n",
       "      <td>0.0</td>\n",
       "      <td>0.0</td>\n",
       "      <td>0.0</td>\n",
       "      <td>0.0</td>\n",
       "      <td>0.0</td>\n",
       "      <td>0.0</td>\n",
       "      <td>0.0</td>\n",
       "      <td>0.0</td>\n",
       "      <td>...</td>\n",
       "      <td>0.0</td>\n",
       "      <td>0.0</td>\n",
       "      <td>0.0</td>\n",
       "      <td>0.0</td>\n",
       "      <td>0.0</td>\n",
       "      <td>0.0</td>\n",
       "      <td>0.0</td>\n",
       "      <td>0.0</td>\n",
       "      <td>0.0</td>\n",
       "      <td>0.0</td>\n",
       "    </tr>\n",
       "    <tr>\n",
       "      <th>2</th>\n",
       "      <td>00012315fd38859ff2c446876ca507abbcbcf582d0e266...</td>\n",
       "      <td>0.0</td>\n",
       "      <td>0.0</td>\n",
       "      <td>0.0</td>\n",
       "      <td>0.0</td>\n",
       "      <td>0.0</td>\n",
       "      <td>0.0</td>\n",
       "      <td>0.0</td>\n",
       "      <td>0.0</td>\n",
       "      <td>0.0</td>\n",
       "      <td>...</td>\n",
       "      <td>0.0</td>\n",
       "      <td>0.0</td>\n",
       "      <td>0.0</td>\n",
       "      <td>0.0</td>\n",
       "      <td>0.0</td>\n",
       "      <td>0.0</td>\n",
       "      <td>0.0</td>\n",
       "      <td>0.0</td>\n",
       "      <td>0.0</td>\n",
       "      <td>0.0</td>\n",
       "    </tr>\n",
       "    <tr>\n",
       "      <th>3</th>\n",
       "      <td>00015c1a121e08bbd2552c15fbbb6e6b19d3bf8f7b6a3d...</td>\n",
       "      <td>0.0</td>\n",
       "      <td>0.0</td>\n",
       "      <td>0.0</td>\n",
       "      <td>0.0</td>\n",
       "      <td>0.0</td>\n",
       "      <td>0.0</td>\n",
       "      <td>0.0</td>\n",
       "      <td>0.0</td>\n",
       "      <td>0.0</td>\n",
       "      <td>...</td>\n",
       "      <td>0.0</td>\n",
       "      <td>0.0</td>\n",
       "      <td>0.0</td>\n",
       "      <td>0.0</td>\n",
       "      <td>0.0</td>\n",
       "      <td>0.0</td>\n",
       "      <td>0.0</td>\n",
       "      <td>0.0</td>\n",
       "      <td>0.0</td>\n",
       "      <td>0.0</td>\n",
       "    </tr>\n",
       "    <tr>\n",
       "      <th>4</th>\n",
       "      <td>0001ab2ebc1bb9a21d135e2fefdb11f12bee5c74ab2984...</td>\n",
       "      <td>0.0</td>\n",
       "      <td>0.0</td>\n",
       "      <td>0.0</td>\n",
       "      <td>0.0</td>\n",
       "      <td>0.0</td>\n",
       "      <td>0.0</td>\n",
       "      <td>0.0</td>\n",
       "      <td>0.0</td>\n",
       "      <td>0.0</td>\n",
       "      <td>...</td>\n",
       "      <td>0.0</td>\n",
       "      <td>0.0</td>\n",
       "      <td>0.0</td>\n",
       "      <td>0.0</td>\n",
       "      <td>0.0</td>\n",
       "      <td>0.0</td>\n",
       "      <td>0.0</td>\n",
       "      <td>0.0</td>\n",
       "      <td>0.0</td>\n",
       "      <td>0.0</td>\n",
       "    </tr>\n",
       "  </tbody>\n",
       "</table>\n",
       "<p>5 rows × 1281 columns</p>\n",
       "</div>"
      ],
      "text/plain": [
       "                                         customer_id  186372045  220094015  \\\n",
       "0  000058a12d5b43e67d225668fa1f8d618c13dc232df0ca...        0.0        0.0   \n",
       "1  000114c6996ef5703a8d455faf2103f8488d3928348e07...        0.0        0.0   \n",
       "2  00012315fd38859ff2c446876ca507abbcbcf582d0e266...        0.0        0.0   \n",
       "3  00015c1a121e08bbd2552c15fbbb6e6b19d3bf8f7b6a3d...        0.0        0.0   \n",
       "4  0001ab2ebc1bb9a21d135e2fefdb11f12bee5c74ab2984...        0.0        0.0   \n",
       "\n",
       "   294008050  316441024  356174004  399061018  399061023  399256005  \\\n",
       "0        0.0        0.0        0.0        0.0        0.0        0.0   \n",
       "1        0.0        0.0        0.0        0.0        0.0        0.0   \n",
       "2        0.0        0.0        0.0        0.0        0.0        0.0   \n",
       "3        0.0        0.0        0.0        0.0        0.0        0.0   \n",
       "4        0.0        0.0        0.0        0.0        0.0        0.0   \n",
       "\n",
       "   400296010  ...  931769003  932024001  933111001  934122004  934211005  \\\n",
       "0        0.0  ...        0.0        0.0        0.0        0.0        0.0   \n",
       "1        0.0  ...        0.0        0.0        0.0        0.0        0.0   \n",
       "2        0.0  ...        0.0        0.0        0.0        0.0        0.0   \n",
       "3        0.0  ...        0.0        0.0        0.0        0.0        0.0   \n",
       "4        0.0  ...        0.0        0.0        0.0        0.0        0.0   \n",
       "\n",
       "   934296001  935548001  938622001  943097001  946748004  \n",
       "0        0.0        0.0        0.0        0.0        0.0  \n",
       "1        0.0        0.0        0.0        0.0        0.0  \n",
       "2        0.0        0.0        0.0        0.0        0.0  \n",
       "3        0.0        0.0        0.0        0.0        0.0  \n",
       "4        0.0        0.0        0.0        0.0        0.0  \n",
       "\n",
       "[5 rows x 1281 columns]"
      ]
     },
     "execution_count": 24,
     "metadata": {},
     "output_type": "execute_result"
    }
   ],
   "source": [
    "cst_art_matrix_reset.head()"
   ]
  },
  {
   "cell_type": "markdown",
   "id": "fa7f4b1b",
   "metadata": {},
   "source": [
    "we have customer-item matrix"
   ]
  },
  {
   "cell_type": "code",
   "execution_count": 25,
   "id": "2eb57685",
   "metadata": {},
   "outputs": [],
   "source": [
    "# data with articles matrix only\n",
    "cst_art_matrix_reset_art = cst_art_matrix_reset.drop('customer_id',1)"
   ]
  },
  {
   "cell_type": "code",
   "execution_count": 26,
   "id": "675740bb",
   "metadata": {},
   "outputs": [],
   "source": [
    "# normalize data\n",
    "cst_art_matrix_reset_art = cst_art_matrix_reset_art/np.sqrt(np.square(cst_art_matrix_reset_art).sum(axis=0))  \n"
   ]
  },
  {
   "cell_type": "code",
   "execution_count": 27,
   "id": "9f0019f6",
   "metadata": {
    "scrolled": true
   },
   "outputs": [
    {
     "data": {
      "text/html": [
       "<div>\n",
       "<style scoped>\n",
       "    .dataframe tbody tr th:only-of-type {\n",
       "        vertical-align: middle;\n",
       "    }\n",
       "\n",
       "    .dataframe tbody tr th {\n",
       "        vertical-align: top;\n",
       "    }\n",
       "\n",
       "    .dataframe thead th {\n",
       "        text-align: right;\n",
       "    }\n",
       "</style>\n",
       "<table border=\"1\" class=\"dataframe\">\n",
       "  <thead>\n",
       "    <tr style=\"text-align: right;\">\n",
       "      <th></th>\n",
       "      <th>186372045</th>\n",
       "      <th>220094015</th>\n",
       "      <th>294008050</th>\n",
       "      <th>316441024</th>\n",
       "      <th>356174004</th>\n",
       "      <th>399061018</th>\n",
       "      <th>399061023</th>\n",
       "      <th>399256005</th>\n",
       "      <th>400296010</th>\n",
       "      <th>445419010</th>\n",
       "      <th>...</th>\n",
       "      <th>931769003</th>\n",
       "      <th>932024001</th>\n",
       "      <th>933111001</th>\n",
       "      <th>934122004</th>\n",
       "      <th>934211005</th>\n",
       "      <th>934296001</th>\n",
       "      <th>935548001</th>\n",
       "      <th>938622001</th>\n",
       "      <th>943097001</th>\n",
       "      <th>946748004</th>\n",
       "    </tr>\n",
       "  </thead>\n",
       "  <tbody>\n",
       "    <tr>\n",
       "      <th>0</th>\n",
       "      <td>0.0</td>\n",
       "      <td>0.0</td>\n",
       "      <td>0.0</td>\n",
       "      <td>0.0</td>\n",
       "      <td>0.0</td>\n",
       "      <td>0.0</td>\n",
       "      <td>0.0</td>\n",
       "      <td>0.0</td>\n",
       "      <td>0.0</td>\n",
       "      <td>0.0</td>\n",
       "      <td>...</td>\n",
       "      <td>0.0</td>\n",
       "      <td>0.0</td>\n",
       "      <td>0.0</td>\n",
       "      <td>0.0</td>\n",
       "      <td>0.0</td>\n",
       "      <td>0.0</td>\n",
       "      <td>0.0</td>\n",
       "      <td>0.0</td>\n",
       "      <td>0.0</td>\n",
       "      <td>0.0</td>\n",
       "    </tr>\n",
       "    <tr>\n",
       "      <th>1</th>\n",
       "      <td>0.0</td>\n",
       "      <td>0.0</td>\n",
       "      <td>0.0</td>\n",
       "      <td>0.0</td>\n",
       "      <td>0.0</td>\n",
       "      <td>0.0</td>\n",
       "      <td>0.0</td>\n",
       "      <td>0.0</td>\n",
       "      <td>0.0</td>\n",
       "      <td>0.0</td>\n",
       "      <td>...</td>\n",
       "      <td>0.0</td>\n",
       "      <td>0.0</td>\n",
       "      <td>0.0</td>\n",
       "      <td>0.0</td>\n",
       "      <td>0.0</td>\n",
       "      <td>0.0</td>\n",
       "      <td>0.0</td>\n",
       "      <td>0.0</td>\n",
       "      <td>0.0</td>\n",
       "      <td>0.0</td>\n",
       "    </tr>\n",
       "    <tr>\n",
       "      <th>2</th>\n",
       "      <td>0.0</td>\n",
       "      <td>0.0</td>\n",
       "      <td>0.0</td>\n",
       "      <td>0.0</td>\n",
       "      <td>0.0</td>\n",
       "      <td>0.0</td>\n",
       "      <td>0.0</td>\n",
       "      <td>0.0</td>\n",
       "      <td>0.0</td>\n",
       "      <td>0.0</td>\n",
       "      <td>...</td>\n",
       "      <td>0.0</td>\n",
       "      <td>0.0</td>\n",
       "      <td>0.0</td>\n",
       "      <td>0.0</td>\n",
       "      <td>0.0</td>\n",
       "      <td>0.0</td>\n",
       "      <td>0.0</td>\n",
       "      <td>0.0</td>\n",
       "      <td>0.0</td>\n",
       "      <td>0.0</td>\n",
       "    </tr>\n",
       "    <tr>\n",
       "      <th>3</th>\n",
       "      <td>0.0</td>\n",
       "      <td>0.0</td>\n",
       "      <td>0.0</td>\n",
       "      <td>0.0</td>\n",
       "      <td>0.0</td>\n",
       "      <td>0.0</td>\n",
       "      <td>0.0</td>\n",
       "      <td>0.0</td>\n",
       "      <td>0.0</td>\n",
       "      <td>0.0</td>\n",
       "      <td>...</td>\n",
       "      <td>0.0</td>\n",
       "      <td>0.0</td>\n",
       "      <td>0.0</td>\n",
       "      <td>0.0</td>\n",
       "      <td>0.0</td>\n",
       "      <td>0.0</td>\n",
       "      <td>0.0</td>\n",
       "      <td>0.0</td>\n",
       "      <td>0.0</td>\n",
       "      <td>0.0</td>\n",
       "    </tr>\n",
       "    <tr>\n",
       "      <th>4</th>\n",
       "      <td>0.0</td>\n",
       "      <td>0.0</td>\n",
       "      <td>0.0</td>\n",
       "      <td>0.0</td>\n",
       "      <td>0.0</td>\n",
       "      <td>0.0</td>\n",
       "      <td>0.0</td>\n",
       "      <td>0.0</td>\n",
       "      <td>0.0</td>\n",
       "      <td>0.0</td>\n",
       "      <td>...</td>\n",
       "      <td>0.0</td>\n",
       "      <td>0.0</td>\n",
       "      <td>0.0</td>\n",
       "      <td>0.0</td>\n",
       "      <td>0.0</td>\n",
       "      <td>0.0</td>\n",
       "      <td>0.0</td>\n",
       "      <td>0.0</td>\n",
       "      <td>0.0</td>\n",
       "      <td>0.0</td>\n",
       "    </tr>\n",
       "  </tbody>\n",
       "</table>\n",
       "<p>5 rows × 1280 columns</p>\n",
       "</div>"
      ],
      "text/plain": [
       "   186372045  220094015  294008050  316441024  356174004  399061018  \\\n",
       "0        0.0        0.0        0.0        0.0        0.0        0.0   \n",
       "1        0.0        0.0        0.0        0.0        0.0        0.0   \n",
       "2        0.0        0.0        0.0        0.0        0.0        0.0   \n",
       "3        0.0        0.0        0.0        0.0        0.0        0.0   \n",
       "4        0.0        0.0        0.0        0.0        0.0        0.0   \n",
       "\n",
       "   399061023  399256005  400296010  445419010  ...  931769003  932024001  \\\n",
       "0        0.0        0.0        0.0        0.0  ...        0.0        0.0   \n",
       "1        0.0        0.0        0.0        0.0  ...        0.0        0.0   \n",
       "2        0.0        0.0        0.0        0.0  ...        0.0        0.0   \n",
       "3        0.0        0.0        0.0        0.0  ...        0.0        0.0   \n",
       "4        0.0        0.0        0.0        0.0  ...        0.0        0.0   \n",
       "\n",
       "   933111001  934122004  934211005  934296001  935548001  938622001  \\\n",
       "0        0.0        0.0        0.0        0.0        0.0        0.0   \n",
       "1        0.0        0.0        0.0        0.0        0.0        0.0   \n",
       "2        0.0        0.0        0.0        0.0        0.0        0.0   \n",
       "3        0.0        0.0        0.0        0.0        0.0        0.0   \n",
       "4        0.0        0.0        0.0        0.0        0.0        0.0   \n",
       "\n",
       "   943097001  946748004  \n",
       "0        0.0        0.0  \n",
       "1        0.0        0.0  \n",
       "2        0.0        0.0  \n",
       "3        0.0        0.0  \n",
       "4        0.0        0.0  \n",
       "\n",
       "[5 rows x 1280 columns]"
      ]
     },
     "execution_count": 27,
     "metadata": {},
     "output_type": "execute_result"
    }
   ],
   "source": [
    "cst_art_matrix_reset_art.head()"
   ]
  },
  {
   "cell_type": "code",
   "execution_count": 28,
   "id": "e49f28a2",
   "metadata": {},
   "outputs": [
    {
     "data": {
      "text/html": [
       "<div>\n",
       "<style scoped>\n",
       "    .dataframe tbody tr th:only-of-type {\n",
       "        vertical-align: middle;\n",
       "    }\n",
       "\n",
       "    .dataframe tbody tr th {\n",
       "        vertical-align: top;\n",
       "    }\n",
       "\n",
       "    .dataframe thead th {\n",
       "        text-align: right;\n",
       "    }\n",
       "</style>\n",
       "<table border=\"1\" class=\"dataframe\">\n",
       "  <thead>\n",
       "    <tr style=\"text-align: right;\">\n",
       "      <th></th>\n",
       "      <th>186372045</th>\n",
       "      <th>220094015</th>\n",
       "      <th>294008050</th>\n",
       "      <th>316441024</th>\n",
       "      <th>356174004</th>\n",
       "      <th>399061018</th>\n",
       "      <th>399061023</th>\n",
       "      <th>399256005</th>\n",
       "      <th>400296010</th>\n",
       "      <th>445419010</th>\n",
       "      <th>...</th>\n",
       "      <th>931769003</th>\n",
       "      <th>932024001</th>\n",
       "      <th>933111001</th>\n",
       "      <th>934122004</th>\n",
       "      <th>934211005</th>\n",
       "      <th>934296001</th>\n",
       "      <th>935548001</th>\n",
       "      <th>938622001</th>\n",
       "      <th>943097001</th>\n",
       "      <th>946748004</th>\n",
       "    </tr>\n",
       "  </thead>\n",
       "  <tbody>\n",
       "    <tr>\n",
       "      <th>186372045</th>\n",
       "      <td>1.0</td>\n",
       "      <td>0.0</td>\n",
       "      <td>0.0</td>\n",
       "      <td>0.0</td>\n",
       "      <td>0.0</td>\n",
       "      <td>0.0</td>\n",
       "      <td>0.0</td>\n",
       "      <td>0.000000</td>\n",
       "      <td>0.0</td>\n",
       "      <td>0.0</td>\n",
       "      <td>...</td>\n",
       "      <td>0.0</td>\n",
       "      <td>0.0</td>\n",
       "      <td>0.0</td>\n",
       "      <td>0.0</td>\n",
       "      <td>0.0</td>\n",
       "      <td>0.0</td>\n",
       "      <td>0.0</td>\n",
       "      <td>0.0</td>\n",
       "      <td>0.0</td>\n",
       "      <td>0.0</td>\n",
       "    </tr>\n",
       "    <tr>\n",
       "      <th>220094015</th>\n",
       "      <td>0.0</td>\n",
       "      <td>1.0</td>\n",
       "      <td>0.0</td>\n",
       "      <td>0.0</td>\n",
       "      <td>0.0</td>\n",
       "      <td>0.0</td>\n",
       "      <td>0.0</td>\n",
       "      <td>0.000000</td>\n",
       "      <td>0.0</td>\n",
       "      <td>0.0</td>\n",
       "      <td>...</td>\n",
       "      <td>0.0</td>\n",
       "      <td>0.0</td>\n",
       "      <td>0.0</td>\n",
       "      <td>0.0</td>\n",
       "      <td>0.0</td>\n",
       "      <td>0.0</td>\n",
       "      <td>0.0</td>\n",
       "      <td>0.0</td>\n",
       "      <td>0.0</td>\n",
       "      <td>0.0</td>\n",
       "    </tr>\n",
       "    <tr>\n",
       "      <th>294008050</th>\n",
       "      <td>0.0</td>\n",
       "      <td>0.0</td>\n",
       "      <td>1.0</td>\n",
       "      <td>0.0</td>\n",
       "      <td>0.0</td>\n",
       "      <td>0.0</td>\n",
       "      <td>0.0</td>\n",
       "      <td>0.000000</td>\n",
       "      <td>0.0</td>\n",
       "      <td>0.0</td>\n",
       "      <td>...</td>\n",
       "      <td>0.0</td>\n",
       "      <td>0.0</td>\n",
       "      <td>0.0</td>\n",
       "      <td>0.0</td>\n",
       "      <td>0.0</td>\n",
       "      <td>0.0</td>\n",
       "      <td>0.0</td>\n",
       "      <td>0.0</td>\n",
       "      <td>0.0</td>\n",
       "      <td>0.0</td>\n",
       "    </tr>\n",
       "    <tr>\n",
       "      <th>316441024</th>\n",
       "      <td>0.0</td>\n",
       "      <td>0.0</td>\n",
       "      <td>0.0</td>\n",
       "      <td>1.0</td>\n",
       "      <td>0.0</td>\n",
       "      <td>0.0</td>\n",
       "      <td>0.0</td>\n",
       "      <td>0.001847</td>\n",
       "      <td>0.0</td>\n",
       "      <td>0.0</td>\n",
       "      <td>...</td>\n",
       "      <td>0.0</td>\n",
       "      <td>0.0</td>\n",
       "      <td>0.0</td>\n",
       "      <td>0.0</td>\n",
       "      <td>0.0</td>\n",
       "      <td>0.0</td>\n",
       "      <td>0.0</td>\n",
       "      <td>0.0</td>\n",
       "      <td>0.0</td>\n",
       "      <td>0.0</td>\n",
       "    </tr>\n",
       "    <tr>\n",
       "      <th>356174004</th>\n",
       "      <td>0.0</td>\n",
       "      <td>0.0</td>\n",
       "      <td>0.0</td>\n",
       "      <td>0.0</td>\n",
       "      <td>1.0</td>\n",
       "      <td>0.0</td>\n",
       "      <td>0.0</td>\n",
       "      <td>0.000000</td>\n",
       "      <td>0.0</td>\n",
       "      <td>0.0</td>\n",
       "      <td>...</td>\n",
       "      <td>0.0</td>\n",
       "      <td>0.0</td>\n",
       "      <td>0.0</td>\n",
       "      <td>0.0</td>\n",
       "      <td>0.0</td>\n",
       "      <td>0.0</td>\n",
       "      <td>0.0</td>\n",
       "      <td>0.0</td>\n",
       "      <td>0.0</td>\n",
       "      <td>0.0</td>\n",
       "    </tr>\n",
       "  </tbody>\n",
       "</table>\n",
       "<p>5 rows × 1280 columns</p>\n",
       "</div>"
      ],
      "text/plain": [
       "           186372045  220094015  294008050  316441024  356174004  399061018  \\\n",
       "186372045        1.0        0.0        0.0        0.0        0.0        0.0   \n",
       "220094015        0.0        1.0        0.0        0.0        0.0        0.0   \n",
       "294008050        0.0        0.0        1.0        0.0        0.0        0.0   \n",
       "316441024        0.0        0.0        0.0        1.0        0.0        0.0   \n",
       "356174004        0.0        0.0        0.0        0.0        1.0        0.0   \n",
       "\n",
       "           399061023  399256005  400296010  445419010  ...  931769003  \\\n",
       "186372045        0.0   0.000000        0.0        0.0  ...        0.0   \n",
       "220094015        0.0   0.000000        0.0        0.0  ...        0.0   \n",
       "294008050        0.0   0.000000        0.0        0.0  ...        0.0   \n",
       "316441024        0.0   0.001847        0.0        0.0  ...        0.0   \n",
       "356174004        0.0   0.000000        0.0        0.0  ...        0.0   \n",
       "\n",
       "           932024001  933111001  934122004  934211005  934296001  935548001  \\\n",
       "186372045        0.0        0.0        0.0        0.0        0.0        0.0   \n",
       "220094015        0.0        0.0        0.0        0.0        0.0        0.0   \n",
       "294008050        0.0        0.0        0.0        0.0        0.0        0.0   \n",
       "316441024        0.0        0.0        0.0        0.0        0.0        0.0   \n",
       "356174004        0.0        0.0        0.0        0.0        0.0        0.0   \n",
       "\n",
       "           938622001  943097001  946748004  \n",
       "186372045        0.0        0.0        0.0  \n",
       "220094015        0.0        0.0        0.0  \n",
       "294008050        0.0        0.0        0.0  \n",
       "316441024        0.0        0.0        0.0  \n",
       "356174004        0.0        0.0        0.0  \n",
       "\n",
       "[5 rows x 1280 columns]"
      ]
     },
     "execution_count": 28,
     "metadata": {},
     "output_type": "execute_result"
    }
   ],
   "source": [
    "# Using .dot Vectors to get Cosine Similarity\n",
    "cst_art_matrix_reset_art_dot_vector = cst_art_matrix_reset_art.transpose().dot(cst_art_matrix_reset_art)\n",
    "cst_art_matrix_reset_art_dot_vector.head()"
   ]
  },
  {
   "cell_type": "markdown",
   "id": "b28b78c7",
   "metadata": {},
   "source": [
    "we have item-item similarity matrix"
   ]
  },
  {
   "cell_type": "code",
   "execution_count": 101,
   "id": "b3557055",
   "metadata": {},
   "outputs": [],
   "source": [
    "\n",
    "k = 5 # number of items to recommend\n",
    "cst_art_neigbour = pd.DataFrame(index=cst_art_matrix_reset_art_dot_vector.columns,columns=range(1,k+2))\n",
    "\n",
    "# fill in recommended item names\n",
    "for i in range(0,len(cst_art_matrix_reset_art_dot_vector.columns)): \n",
    "    cst_art_neigbour.iloc[i,:k+1] = cst_art_matrix_reset_art_dot_vector.iloc[0:,i].sort_values(ascending=False)[:k+1].index \n",
    " \n"
   ]
  },
  {
   "cell_type": "markdown",
   "id": "35ba320d",
   "metadata": {},
   "source": [
    "find closest neighbour for each item based on similarity value"
   ]
  },
  {
   "cell_type": "code",
   "execution_count": 102,
   "id": "982b39e5",
   "metadata": {},
   "outputs": [],
   "source": [
    "#cst_art_neigbour.to_excel('Export_art_art_neighbours.xlsx')"
   ]
  },
  {
   "cell_type": "code",
   "execution_count": 103,
   "id": "555f7f0c",
   "metadata": {},
   "outputs": [
    {
     "data": {
      "text/html": [
       "<div>\n",
       "<style scoped>\n",
       "    .dataframe tbody tr th:only-of-type {\n",
       "        vertical-align: middle;\n",
       "    }\n",
       "\n",
       "    .dataframe tbody tr th {\n",
       "        vertical-align: top;\n",
       "    }\n",
       "\n",
       "    .dataframe thead th {\n",
       "        text-align: right;\n",
       "    }\n",
       "</style>\n",
       "<table border=\"1\" class=\"dataframe\">\n",
       "  <thead>\n",
       "    <tr style=\"text-align: right;\">\n",
       "      <th></th>\n",
       "      <th>1</th>\n",
       "      <th>2</th>\n",
       "      <th>3</th>\n",
       "      <th>4</th>\n",
       "      <th>5</th>\n",
       "      <th>6</th>\n",
       "    </tr>\n",
       "  </thead>\n",
       "  <tbody>\n",
       "    <tr>\n",
       "      <th>186372045</th>\n",
       "      <td>186372045</td>\n",
       "      <td>562251001</td>\n",
       "      <td>489838010</td>\n",
       "      <td>563635003</td>\n",
       "      <td>619881001</td>\n",
       "      <td>523642006</td>\n",
       "    </tr>\n",
       "    <tr>\n",
       "      <th>220094015</th>\n",
       "      <td>220094015</td>\n",
       "      <td>780729004</td>\n",
       "      <td>714472001</td>\n",
       "      <td>716348008</td>\n",
       "      <td>753724002</td>\n",
       "      <td>784229002</td>\n",
       "    </tr>\n",
       "    <tr>\n",
       "      <th>294008050</th>\n",
       "      <td>294008050</td>\n",
       "      <td>751941002</td>\n",
       "      <td>867023003</td>\n",
       "      <td>771602001</td>\n",
       "      <td>820037001</td>\n",
       "      <td>822199006</td>\n",
       "    </tr>\n",
       "    <tr>\n",
       "      <th>316441024</th>\n",
       "      <td>316441024</td>\n",
       "      <td>575542003</td>\n",
       "      <td>703991003</td>\n",
       "      <td>808305003</td>\n",
       "      <td>806516001</td>\n",
       "      <td>523642006</td>\n",
       "    </tr>\n",
       "    <tr>\n",
       "      <th>356174004</th>\n",
       "      <td>356174004</td>\n",
       "      <td>186372045</td>\n",
       "      <td>820671001</td>\n",
       "      <td>822237001</td>\n",
       "      <td>822199006</td>\n",
       "      <td>822180001</td>\n",
       "    </tr>\n",
       "  </tbody>\n",
       "</table>\n",
       "</div>"
      ],
      "text/plain": [
       "                   1          2          3          4          5          6\n",
       "186372045  186372045  562251001  489838010  563635003  619881001  523642006\n",
       "220094015  220094015  780729004  714472001  716348008  753724002  784229002\n",
       "294008050  294008050  751941002  867023003  771602001  820037001  822199006\n",
       "316441024  316441024  575542003  703991003  808305003  806516001  523642006\n",
       "356174004  356174004  186372045  820671001  822237001  822199006  822180001"
      ]
     },
     "execution_count": 103,
     "metadata": {},
     "output_type": "execute_result"
    }
   ],
   "source": [
    "cst_art_neigbour.head()"
   ]
  },
  {
   "cell_type": "code",
   "execution_count": 104,
   "id": "f204151a",
   "metadata": {},
   "outputs": [
    {
     "data": {
      "text/html": [
       "<div>\n",
       "<style scoped>\n",
       "    .dataframe tbody tr th:only-of-type {\n",
       "        vertical-align: middle;\n",
       "    }\n",
       "\n",
       "    .dataframe tbody tr th {\n",
       "        vertical-align: top;\n",
       "    }\n",
       "\n",
       "    .dataframe thead th {\n",
       "        text-align: right;\n",
       "    }\n",
       "</style>\n",
       "<table border=\"1\" class=\"dataframe\">\n",
       "  <thead>\n",
       "    <tr style=\"text-align: right;\">\n",
       "      <th></th>\n",
       "      <th>customer_id</th>\n",
       "      <th>186372045</th>\n",
       "      <th>220094015</th>\n",
       "      <th>294008050</th>\n",
       "      <th>316441024</th>\n",
       "      <th>356174004</th>\n",
       "      <th>399061018</th>\n",
       "      <th>399061023</th>\n",
       "      <th>399256005</th>\n",
       "      <th>400296010</th>\n",
       "      <th>...</th>\n",
       "      <th>931769003</th>\n",
       "      <th>932024001</th>\n",
       "      <th>933111001</th>\n",
       "      <th>934122004</th>\n",
       "      <th>934211005</th>\n",
       "      <th>934296001</th>\n",
       "      <th>935548001</th>\n",
       "      <th>938622001</th>\n",
       "      <th>943097001</th>\n",
       "      <th>946748004</th>\n",
       "    </tr>\n",
       "  </thead>\n",
       "  <tbody>\n",
       "    <tr>\n",
       "      <th>0</th>\n",
       "      <td>000058a12d5b43e67d225668fa1f8d618c13dc232df0ca...</td>\n",
       "      <td>NaN</td>\n",
       "      <td>NaN</td>\n",
       "      <td>NaN</td>\n",
       "      <td>NaN</td>\n",
       "      <td>NaN</td>\n",
       "      <td>NaN</td>\n",
       "      <td>NaN</td>\n",
       "      <td>NaN</td>\n",
       "      <td>NaN</td>\n",
       "      <td>...</td>\n",
       "      <td>NaN</td>\n",
       "      <td>NaN</td>\n",
       "      <td>NaN</td>\n",
       "      <td>NaN</td>\n",
       "      <td>NaN</td>\n",
       "      <td>NaN</td>\n",
       "      <td>NaN</td>\n",
       "      <td>NaN</td>\n",
       "      <td>NaN</td>\n",
       "      <td>NaN</td>\n",
       "    </tr>\n",
       "    <tr>\n",
       "      <th>1</th>\n",
       "      <td>000114c6996ef5703a8d455faf2103f8488d3928348e07...</td>\n",
       "      <td>NaN</td>\n",
       "      <td>NaN</td>\n",
       "      <td>NaN</td>\n",
       "      <td>NaN</td>\n",
       "      <td>NaN</td>\n",
       "      <td>NaN</td>\n",
       "      <td>NaN</td>\n",
       "      <td>NaN</td>\n",
       "      <td>NaN</td>\n",
       "      <td>...</td>\n",
       "      <td>NaN</td>\n",
       "      <td>NaN</td>\n",
       "      <td>NaN</td>\n",
       "      <td>NaN</td>\n",
       "      <td>NaN</td>\n",
       "      <td>NaN</td>\n",
       "      <td>NaN</td>\n",
       "      <td>NaN</td>\n",
       "      <td>NaN</td>\n",
       "      <td>NaN</td>\n",
       "    </tr>\n",
       "    <tr>\n",
       "      <th>2</th>\n",
       "      <td>00012315fd38859ff2c446876ca507abbcbcf582d0e266...</td>\n",
       "      <td>NaN</td>\n",
       "      <td>NaN</td>\n",
       "      <td>NaN</td>\n",
       "      <td>NaN</td>\n",
       "      <td>NaN</td>\n",
       "      <td>NaN</td>\n",
       "      <td>NaN</td>\n",
       "      <td>NaN</td>\n",
       "      <td>NaN</td>\n",
       "      <td>...</td>\n",
       "      <td>NaN</td>\n",
       "      <td>NaN</td>\n",
       "      <td>NaN</td>\n",
       "      <td>NaN</td>\n",
       "      <td>NaN</td>\n",
       "      <td>NaN</td>\n",
       "      <td>NaN</td>\n",
       "      <td>NaN</td>\n",
       "      <td>NaN</td>\n",
       "      <td>NaN</td>\n",
       "    </tr>\n",
       "    <tr>\n",
       "      <th>3</th>\n",
       "      <td>00015c1a121e08bbd2552c15fbbb6e6b19d3bf8f7b6a3d...</td>\n",
       "      <td>NaN</td>\n",
       "      <td>NaN</td>\n",
       "      <td>NaN</td>\n",
       "      <td>NaN</td>\n",
       "      <td>NaN</td>\n",
       "      <td>NaN</td>\n",
       "      <td>NaN</td>\n",
       "      <td>NaN</td>\n",
       "      <td>NaN</td>\n",
       "      <td>...</td>\n",
       "      <td>NaN</td>\n",
       "      <td>NaN</td>\n",
       "      <td>NaN</td>\n",
       "      <td>NaN</td>\n",
       "      <td>NaN</td>\n",
       "      <td>NaN</td>\n",
       "      <td>NaN</td>\n",
       "      <td>NaN</td>\n",
       "      <td>NaN</td>\n",
       "      <td>NaN</td>\n",
       "    </tr>\n",
       "    <tr>\n",
       "      <th>4</th>\n",
       "      <td>0001ab2ebc1bb9a21d135e2fefdb11f12bee5c74ab2984...</td>\n",
       "      <td>NaN</td>\n",
       "      <td>NaN</td>\n",
       "      <td>NaN</td>\n",
       "      <td>NaN</td>\n",
       "      <td>NaN</td>\n",
       "      <td>NaN</td>\n",
       "      <td>NaN</td>\n",
       "      <td>NaN</td>\n",
       "      <td>NaN</td>\n",
       "      <td>...</td>\n",
       "      <td>NaN</td>\n",
       "      <td>NaN</td>\n",
       "      <td>NaN</td>\n",
       "      <td>NaN</td>\n",
       "      <td>NaN</td>\n",
       "      <td>NaN</td>\n",
       "      <td>NaN</td>\n",
       "      <td>NaN</td>\n",
       "      <td>NaN</td>\n",
       "      <td>NaN</td>\n",
       "    </tr>\n",
       "  </tbody>\n",
       "</table>\n",
       "<p>5 rows × 1281 columns</p>\n",
       "</div>"
      ],
      "text/plain": [
       "                                         customer_id 186372045 220094015  \\\n",
       "0  000058a12d5b43e67d225668fa1f8d618c13dc232df0ca...       NaN       NaN   \n",
       "1  000114c6996ef5703a8d455faf2103f8488d3928348e07...       NaN       NaN   \n",
       "2  00012315fd38859ff2c446876ca507abbcbcf582d0e266...       NaN       NaN   \n",
       "3  00015c1a121e08bbd2552c15fbbb6e6b19d3bf8f7b6a3d...       NaN       NaN   \n",
       "4  0001ab2ebc1bb9a21d135e2fefdb11f12bee5c74ab2984...       NaN       NaN   \n",
       "\n",
       "  294008050 316441024 356174004 399061018 399061023 399256005 400296010  ...  \\\n",
       "0       NaN       NaN       NaN       NaN       NaN       NaN       NaN  ...   \n",
       "1       NaN       NaN       NaN       NaN       NaN       NaN       NaN  ...   \n",
       "2       NaN       NaN       NaN       NaN       NaN       NaN       NaN  ...   \n",
       "3       NaN       NaN       NaN       NaN       NaN       NaN       NaN  ...   \n",
       "4       NaN       NaN       NaN       NaN       NaN       NaN       NaN  ...   \n",
       "\n",
       "  931769003 932024001 933111001 934122004 934211005 934296001 935548001  \\\n",
       "0       NaN       NaN       NaN       NaN       NaN       NaN       NaN   \n",
       "1       NaN       NaN       NaN       NaN       NaN       NaN       NaN   \n",
       "2       NaN       NaN       NaN       NaN       NaN       NaN       NaN   \n",
       "3       NaN       NaN       NaN       NaN       NaN       NaN       NaN   \n",
       "4       NaN       NaN       NaN       NaN       NaN       NaN       NaN   \n",
       "\n",
       "  938622001 943097001 946748004  \n",
       "0       NaN       NaN       NaN  \n",
       "1       NaN       NaN       NaN  \n",
       "2       NaN       NaN       NaN  \n",
       "3       NaN       NaN       NaN  \n",
       "4       NaN       NaN       NaN  \n",
       "\n",
       "[5 rows x 1281 columns]"
      ]
     },
     "execution_count": 104,
     "metadata": {},
     "output_type": "execute_result"
    }
   ],
   "source": [
    "cst_art_similarity = pd.DataFrame(index=cst_art_matrix_reset.index,columns=cst_art_matrix_reset.columns) \n",
    "cst_art_similarity.iloc[:,:1] = cst_art_matrix_reset.iloc[:,:1] \n",
    "cst_art_similarity.head()"
   ]
  },
  {
   "cell_type": "markdown",
   "id": "2d9964e9",
   "metadata": {},
   "source": [
    "### Scikit Short"
   ]
  },
  {
   "cell_type": "code",
   "execution_count": 29,
   "id": "458433f5",
   "metadata": {},
   "outputs": [],
   "source": [
    "from scipy.sparse import coo_matrix, csr_matrix\n",
    "from sklearn.metrics.pairwise import cosine_similarity\n",
    "from sklearn.preprocessing import LabelEncoder"
   ]
  },
  {
   "cell_type": "code",
   "execution_count": 30,
   "id": "802af26d",
   "metadata": {},
   "outputs": [],
   "source": [
    "def art_art_similarity(cst_ids,art_ids):\n",
    "    art_cst_matrix = csr_matrix(([1]*len(cst_ids), (art_ids, cst_ids)))\n",
    "    similarity = cosine_similarity(art_cst_matrix)\n",
    "    return similarity, art_cst_matrix"
   ]
  },
  {
   "cell_type": "code",
   "execution_count": 31,
   "id": "7c33c793",
   "metadata": {},
   "outputs": [],
   "source": [
    "def get_recommendations_from_similarity(similarity_matrix, art_cst_matrix, top_n=3):\n",
    "    cst_art_matrix = csr_matrix(art_cst_matrix.T)\n",
    "    cst_art_score = cst_art_matrix.dot(similarity_matrix) # sum of similarities to all purchased products\n",
    "    recommend_for_cust = []\n",
    "    for user_id in range(cst_art_score.shape[0]):\n",
    "        scores = cst_art_score[user_id, :]\n",
    "        purchased_art = cst_art_matrix.indices[cst_art_matrix.indptr[user_id]:cst_art_matrix.indptr[user_id+1]]\n",
    "        scores[purchased_art] = -1 # not recommend purchased articles\n",
    "        top_products_ids = np.argsort(scores)[-top_n:][::-1]\n",
    "        recommendations = pd.DataFrame(\n",
    "            top_products_ids.reshape(1, -1),\n",
    "            index=[user_id],\n",
    "            columns=['Top%s' % (i+1) for i in range(top_n)])\n",
    "        recommend_for_cust.append(recommendations)\n",
    "    return pd.concat(recommend_for_cust)"
   ]
  },
  {
   "cell_type": "code",
   "execution_count": 32,
   "id": "f63be5a1",
   "metadata": {},
   "outputs": [],
   "source": [
    "def get_recommendations(purchase_data):\n",
    "    cst_label_encoder = LabelEncoder()\n",
    "    cst_ids = cst_label_encoder.fit_transform(purchase_data.customer_id)\n",
    "    art_label_encoder = LabelEncoder()\n",
    "    art_ids = art_label_encoder.fit_transform(purchase_data.article_id)\n",
    "    # compute recommendations\n",
    "    similarity, art_cst_matrix = art_art_similarity(cst_ids, art_ids)\n",
    "    recommendations = get_recommendations_from_similarity(similarity, art_cst_matrix)\n",
    "    recommendations.index = cst_label_encoder.inverse_transform(recommendations.index)\n",
    "    for i in range(recommendations.shape[1]):\n",
    "        recommendations.iloc[:, i] = art_label_encoder.inverse_transform(recommendations.iloc[:, i])\n",
    "    return recommendations"
   ]
  },
  {
   "cell_type": "code",
   "execution_count": 33,
   "id": "c2e285eb",
   "metadata": {},
   "outputs": [],
   "source": [
    "purchase_data = cst_art_buy.drop('count',1)"
   ]
  },
  {
   "cell_type": "code",
   "execution_count": 34,
   "id": "584a566c",
   "metadata": {},
   "outputs": [
    {
     "data": {
      "text/plain": [
       "(329158, 3)"
      ]
     },
     "execution_count": 34,
     "metadata": {},
     "output_type": "execute_result"
    }
   ],
   "source": [
    "purchase_data.shape"
   ]
  },
  {
   "cell_type": "code",
   "execution_count": 35,
   "id": "6cb43b98",
   "metadata": {},
   "outputs": [
    {
     "data": {
      "text/plain": [
       "209267"
      ]
     },
     "execution_count": 35,
     "metadata": {},
     "output_type": "execute_result"
    }
   ],
   "source": [
    "purchase_data.customer_id.nunique()"
   ]
  },
  {
   "cell_type": "code",
   "execution_count": 36,
   "id": "d67f4dee",
   "metadata": {},
   "outputs": [
    {
     "data": {
      "text/plain": [
       "1280"
      ]
     },
     "execution_count": 36,
     "metadata": {},
     "output_type": "execute_result"
    }
   ],
   "source": [
    "purchase_data.article_id.nunique()"
   ]
  },
  {
   "cell_type": "code",
   "execution_count": 37,
   "id": "60a37cc0",
   "metadata": {},
   "outputs": [
    {
     "data": {
      "text/plain": [
       "1    329158\n",
       "Name: IsPurchased, dtype: int64"
      ]
     },
     "execution_count": 37,
     "metadata": {},
     "output_type": "execute_result"
    }
   ],
   "source": [
    "purchase_data.IsPurchased.value_counts()"
   ]
  },
  {
   "cell_type": "code",
   "execution_count": 38,
   "id": "2852d045",
   "metadata": {},
   "outputs": [
    {
     "ename": "KeyboardInterrupt",
     "evalue": "",
     "output_type": "error",
     "traceback": [
      "\u001b[1;31m---------------------------------------------------------------------------\u001b[0m",
      "\u001b[1;31mKeyboardInterrupt\u001b[0m                         Traceback (most recent call last)",
      "\u001b[1;32m<ipython-input-38-e4c0ec54a17b>\u001b[0m in \u001b[0;36m<module>\u001b[1;34m\u001b[0m\n\u001b[1;32m----> 1\u001b[1;33m \u001b[0mrecommendations\u001b[0m \u001b[1;33m=\u001b[0m \u001b[0mget_recommendations\u001b[0m\u001b[1;33m(\u001b[0m\u001b[0mpurchase_data\u001b[0m\u001b[1;33m)\u001b[0m\u001b[1;33m\u001b[0m\u001b[1;33m\u001b[0m\u001b[0m\n\u001b[0m",
      "\u001b[1;32m<ipython-input-32-19125fc2685c>\u001b[0m in \u001b[0;36mget_recommendations\u001b[1;34m(purchase_data)\u001b[0m\n\u001b[0;32m      6\u001b[0m     \u001b[1;31m# compute recommendations\u001b[0m\u001b[1;33m\u001b[0m\u001b[1;33m\u001b[0m\u001b[1;33m\u001b[0m\u001b[0m\n\u001b[0;32m      7\u001b[0m     \u001b[0msimilarity\u001b[0m\u001b[1;33m,\u001b[0m \u001b[0mart_cst_matrix\u001b[0m \u001b[1;33m=\u001b[0m \u001b[0mart_art_similarity\u001b[0m\u001b[1;33m(\u001b[0m\u001b[0mcst_ids\u001b[0m\u001b[1;33m,\u001b[0m \u001b[0mart_ids\u001b[0m\u001b[1;33m)\u001b[0m\u001b[1;33m\u001b[0m\u001b[1;33m\u001b[0m\u001b[0m\n\u001b[1;32m----> 8\u001b[1;33m     \u001b[0mrecommendations\u001b[0m \u001b[1;33m=\u001b[0m \u001b[0mget_recommendations_from_similarity\u001b[0m\u001b[1;33m(\u001b[0m\u001b[0msimilarity\u001b[0m\u001b[1;33m,\u001b[0m \u001b[0mart_cst_matrix\u001b[0m\u001b[1;33m)\u001b[0m\u001b[1;33m\u001b[0m\u001b[1;33m\u001b[0m\u001b[0m\n\u001b[0m\u001b[0;32m      9\u001b[0m     \u001b[0mrecommendations\u001b[0m\u001b[1;33m.\u001b[0m\u001b[0mindex\u001b[0m \u001b[1;33m=\u001b[0m \u001b[0mcst_label_encoder\u001b[0m\u001b[1;33m.\u001b[0m\u001b[0minverse_transform\u001b[0m\u001b[1;33m(\u001b[0m\u001b[0mrecommendations\u001b[0m\u001b[1;33m.\u001b[0m\u001b[0mindex\u001b[0m\u001b[1;33m)\u001b[0m\u001b[1;33m\u001b[0m\u001b[1;33m\u001b[0m\u001b[0m\n\u001b[0;32m     10\u001b[0m     \u001b[1;32mfor\u001b[0m \u001b[0mi\u001b[0m \u001b[1;32min\u001b[0m \u001b[0mrange\u001b[0m\u001b[1;33m(\u001b[0m\u001b[0mrecommendations\u001b[0m\u001b[1;33m.\u001b[0m\u001b[0mshape\u001b[0m\u001b[1;33m[\u001b[0m\u001b[1;36m1\u001b[0m\u001b[1;33m]\u001b[0m\u001b[1;33m)\u001b[0m\u001b[1;33m:\u001b[0m\u001b[1;33m\u001b[0m\u001b[1;33m\u001b[0m\u001b[0m\n",
      "\u001b[1;32m<ipython-input-31-22a82559a2db>\u001b[0m in \u001b[0;36mget_recommendations_from_similarity\u001b[1;34m(similarity_matrix, art_cst_matrix, top_n)\u001b[0m\n\u001b[0;32m     13\u001b[0m             columns=['Top%s' % (i+1) for i in range(top_n)])\n\u001b[0;32m     14\u001b[0m         \u001b[0mrecommend_for_cust\u001b[0m\u001b[1;33m.\u001b[0m\u001b[0mappend\u001b[0m\u001b[1;33m(\u001b[0m\u001b[0mrecommendations\u001b[0m\u001b[1;33m)\u001b[0m\u001b[1;33m\u001b[0m\u001b[1;33m\u001b[0m\u001b[0m\n\u001b[1;32m---> 15\u001b[1;33m     \u001b[1;32mreturn\u001b[0m \u001b[0mpd\u001b[0m\u001b[1;33m.\u001b[0m\u001b[0mconcat\u001b[0m\u001b[1;33m(\u001b[0m\u001b[0mrecommend_for_cust\u001b[0m\u001b[1;33m)\u001b[0m\u001b[1;33m\u001b[0m\u001b[1;33m\u001b[0m\u001b[0m\n\u001b[0m",
      "\u001b[1;32m~\\anaconda3\\lib\\site-packages\\pandas\\core\\reshape\\concat.py\u001b[0m in \u001b[0;36mconcat\u001b[1;34m(objs, axis, join, ignore_index, keys, levels, names, verify_integrity, sort, copy)\u001b[0m\n\u001b[0;32m    296\u001b[0m     )\n\u001b[0;32m    297\u001b[0m \u001b[1;33m\u001b[0m\u001b[0m\n\u001b[1;32m--> 298\u001b[1;33m     \u001b[1;32mreturn\u001b[0m \u001b[0mop\u001b[0m\u001b[1;33m.\u001b[0m\u001b[0mget_result\u001b[0m\u001b[1;33m(\u001b[0m\u001b[1;33m)\u001b[0m\u001b[1;33m\u001b[0m\u001b[1;33m\u001b[0m\u001b[0m\n\u001b[0m\u001b[0;32m    299\u001b[0m \u001b[1;33m\u001b[0m\u001b[0m\n\u001b[0;32m    300\u001b[0m \u001b[1;33m\u001b[0m\u001b[0m\n",
      "\u001b[1;32m~\\anaconda3\\lib\\site-packages\\pandas\\core\\reshape\\concat.py\u001b[0m in \u001b[0;36mget_result\u001b[1;34m(self)\u001b[0m\n\u001b[0;32m    518\u001b[0m                 \u001b[0mmgrs_indexers\u001b[0m\u001b[1;33m.\u001b[0m\u001b[0mappend\u001b[0m\u001b[1;33m(\u001b[0m\u001b[1;33m(\u001b[0m\u001b[0mobj\u001b[0m\u001b[1;33m.\u001b[0m\u001b[0m_mgr\u001b[0m\u001b[1;33m,\u001b[0m \u001b[0mindexers\u001b[0m\u001b[1;33m)\u001b[0m\u001b[1;33m)\u001b[0m\u001b[1;33m\u001b[0m\u001b[1;33m\u001b[0m\u001b[0m\n\u001b[0;32m    519\u001b[0m \u001b[1;33m\u001b[0m\u001b[0m\n\u001b[1;32m--> 520\u001b[1;33m             new_data = concatenate_block_managers(\n\u001b[0m\u001b[0;32m    521\u001b[0m                 \u001b[0mmgrs_indexers\u001b[0m\u001b[1;33m,\u001b[0m \u001b[0mself\u001b[0m\u001b[1;33m.\u001b[0m\u001b[0mnew_axes\u001b[0m\u001b[1;33m,\u001b[0m \u001b[0mconcat_axis\u001b[0m\u001b[1;33m=\u001b[0m\u001b[0mself\u001b[0m\u001b[1;33m.\u001b[0m\u001b[0mbm_axis\u001b[0m\u001b[1;33m,\u001b[0m \u001b[0mcopy\u001b[0m\u001b[1;33m=\u001b[0m\u001b[0mself\u001b[0m\u001b[1;33m.\u001b[0m\u001b[0mcopy\u001b[0m\u001b[1;33m\u001b[0m\u001b[1;33m\u001b[0m\u001b[0m\n\u001b[0;32m    522\u001b[0m             )\n",
      "\u001b[1;32m~\\anaconda3\\lib\\site-packages\\pandas\\core\\internals\\concat.py\u001b[0m in \u001b[0;36mconcatenate_block_managers\u001b[1;34m(mgrs_indexers, axes, concat_axis, copy)\u001b[0m\n\u001b[0;32m     50\u001b[0m     \u001b[0mBlockManager\u001b[0m\u001b[1;33m\u001b[0m\u001b[1;33m\u001b[0m\u001b[0m\n\u001b[0;32m     51\u001b[0m     \"\"\"\n\u001b[1;32m---> 52\u001b[1;33m     concat_plans = [\n\u001b[0m\u001b[0;32m     53\u001b[0m         \u001b[0m_get_mgr_concatenation_plan\u001b[0m\u001b[1;33m(\u001b[0m\u001b[0mmgr\u001b[0m\u001b[1;33m,\u001b[0m \u001b[0mindexers\u001b[0m\u001b[1;33m)\u001b[0m \u001b[1;32mfor\u001b[0m \u001b[0mmgr\u001b[0m\u001b[1;33m,\u001b[0m \u001b[0mindexers\u001b[0m \u001b[1;32min\u001b[0m \u001b[0mmgrs_indexers\u001b[0m\u001b[1;33m\u001b[0m\u001b[1;33m\u001b[0m\u001b[0m\n\u001b[0;32m     54\u001b[0m     ]\n",
      "\u001b[1;32m~\\anaconda3\\lib\\site-packages\\pandas\\core\\internals\\concat.py\u001b[0m in \u001b[0;36m<listcomp>\u001b[1;34m(.0)\u001b[0m\n\u001b[0;32m     51\u001b[0m     \"\"\"\n\u001b[0;32m     52\u001b[0m     concat_plans = [\n\u001b[1;32m---> 53\u001b[1;33m         \u001b[0m_get_mgr_concatenation_plan\u001b[0m\u001b[1;33m(\u001b[0m\u001b[0mmgr\u001b[0m\u001b[1;33m,\u001b[0m \u001b[0mindexers\u001b[0m\u001b[1;33m)\u001b[0m \u001b[1;32mfor\u001b[0m \u001b[0mmgr\u001b[0m\u001b[1;33m,\u001b[0m \u001b[0mindexers\u001b[0m \u001b[1;32min\u001b[0m \u001b[0mmgrs_indexers\u001b[0m\u001b[1;33m\u001b[0m\u001b[1;33m\u001b[0m\u001b[0m\n\u001b[0m\u001b[0;32m     54\u001b[0m     ]\n\u001b[0;32m     55\u001b[0m     \u001b[0mconcat_plan\u001b[0m \u001b[1;33m=\u001b[0m \u001b[0m_combine_concat_plans\u001b[0m\u001b[1;33m(\u001b[0m\u001b[0mconcat_plans\u001b[0m\u001b[1;33m,\u001b[0m \u001b[0mconcat_axis\u001b[0m\u001b[1;33m)\u001b[0m\u001b[1;33m\u001b[0m\u001b[1;33m\u001b[0m\u001b[0m\n",
      "\u001b[1;32m~\\anaconda3\\lib\\site-packages\\pandas\\core\\internals\\concat.py\u001b[0m in \u001b[0;36m_get_mgr_concatenation_plan\u001b[1;34m(mgr, indexers)\u001b[0m\n\u001b[0;32m    106\u001b[0m     \u001b[1;31m# Calculate post-reindex shape , save for item axis which will be separate\u001b[0m\u001b[1;33m\u001b[0m\u001b[1;33m\u001b[0m\u001b[1;33m\u001b[0m\u001b[0m\n\u001b[0;32m    107\u001b[0m     \u001b[1;31m# for each block anyway.\u001b[0m\u001b[1;33m\u001b[0m\u001b[1;33m\u001b[0m\u001b[1;33m\u001b[0m\u001b[0m\n\u001b[1;32m--> 108\u001b[1;33m     \u001b[0mmgr_shape_list\u001b[0m \u001b[1;33m=\u001b[0m \u001b[0mlist\u001b[0m\u001b[1;33m(\u001b[0m\u001b[0mmgr\u001b[0m\u001b[1;33m.\u001b[0m\u001b[0mshape\u001b[0m\u001b[1;33m)\u001b[0m\u001b[1;33m\u001b[0m\u001b[1;33m\u001b[0m\u001b[0m\n\u001b[0m\u001b[0;32m    109\u001b[0m     \u001b[1;32mfor\u001b[0m \u001b[0max\u001b[0m\u001b[1;33m,\u001b[0m \u001b[0mindexer\u001b[0m \u001b[1;32min\u001b[0m \u001b[0mindexers\u001b[0m\u001b[1;33m.\u001b[0m\u001b[0mitems\u001b[0m\u001b[1;33m(\u001b[0m\u001b[1;33m)\u001b[0m\u001b[1;33m:\u001b[0m\u001b[1;33m\u001b[0m\u001b[1;33m\u001b[0m\u001b[0m\n\u001b[0;32m    110\u001b[0m         \u001b[0mmgr_shape_list\u001b[0m\u001b[1;33m[\u001b[0m\u001b[0max\u001b[0m\u001b[1;33m]\u001b[0m \u001b[1;33m=\u001b[0m \u001b[0mlen\u001b[0m\u001b[1;33m(\u001b[0m\u001b[0mindexer\u001b[0m\u001b[1;33m)\u001b[0m\u001b[1;33m\u001b[0m\u001b[1;33m\u001b[0m\u001b[0m\n",
      "\u001b[1;32m~\\anaconda3\\lib\\site-packages\\pandas\\core\\internals\\managers.py\u001b[0m in \u001b[0;36mshape\u001b[1;34m(self)\u001b[0m\n\u001b[0;32m    206\u001b[0m     \u001b[1;33m@\u001b[0m\u001b[0mproperty\u001b[0m\u001b[1;33m\u001b[0m\u001b[1;33m\u001b[0m\u001b[0m\n\u001b[0;32m    207\u001b[0m     \u001b[1;32mdef\u001b[0m \u001b[0mshape\u001b[0m\u001b[1;33m(\u001b[0m\u001b[0mself\u001b[0m\u001b[1;33m)\u001b[0m \u001b[1;33m->\u001b[0m \u001b[0mShape\u001b[0m\u001b[1;33m:\u001b[0m\u001b[1;33m\u001b[0m\u001b[1;33m\u001b[0m\u001b[0m\n\u001b[1;32m--> 208\u001b[1;33m         \u001b[1;32mreturn\u001b[0m \u001b[0mtuple\u001b[0m\u001b[1;33m(\u001b[0m\u001b[0mlen\u001b[0m\u001b[1;33m(\u001b[0m\u001b[0max\u001b[0m\u001b[1;33m)\u001b[0m \u001b[1;32mfor\u001b[0m \u001b[0max\u001b[0m \u001b[1;32min\u001b[0m \u001b[0mself\u001b[0m\u001b[1;33m.\u001b[0m\u001b[0maxes\u001b[0m\u001b[1;33m)\u001b[0m\u001b[1;33m\u001b[0m\u001b[1;33m\u001b[0m\u001b[0m\n\u001b[0m\u001b[0;32m    209\u001b[0m \u001b[1;33m\u001b[0m\u001b[0m\n\u001b[0;32m    210\u001b[0m     \u001b[1;33m@\u001b[0m\u001b[0mproperty\u001b[0m\u001b[1;33m\u001b[0m\u001b[1;33m\u001b[0m\u001b[0m\n",
      "\u001b[1;32m~\\anaconda3\\lib\\site-packages\\pandas\\core\\internals\\managers.py\u001b[0m in \u001b[0;36m<genexpr>\u001b[1;34m(.0)\u001b[0m\n\u001b[0;32m    206\u001b[0m     \u001b[1;33m@\u001b[0m\u001b[0mproperty\u001b[0m\u001b[1;33m\u001b[0m\u001b[1;33m\u001b[0m\u001b[0m\n\u001b[0;32m    207\u001b[0m     \u001b[1;32mdef\u001b[0m \u001b[0mshape\u001b[0m\u001b[1;33m(\u001b[0m\u001b[0mself\u001b[0m\u001b[1;33m)\u001b[0m \u001b[1;33m->\u001b[0m \u001b[0mShape\u001b[0m\u001b[1;33m:\u001b[0m\u001b[1;33m\u001b[0m\u001b[1;33m\u001b[0m\u001b[0m\n\u001b[1;32m--> 208\u001b[1;33m         \u001b[1;32mreturn\u001b[0m \u001b[0mtuple\u001b[0m\u001b[1;33m(\u001b[0m\u001b[0mlen\u001b[0m\u001b[1;33m(\u001b[0m\u001b[0max\u001b[0m\u001b[1;33m)\u001b[0m \u001b[1;32mfor\u001b[0m \u001b[0max\u001b[0m \u001b[1;32min\u001b[0m \u001b[0mself\u001b[0m\u001b[1;33m.\u001b[0m\u001b[0maxes\u001b[0m\u001b[1;33m)\u001b[0m\u001b[1;33m\u001b[0m\u001b[1;33m\u001b[0m\u001b[0m\n\u001b[0m\u001b[0;32m    209\u001b[0m \u001b[1;33m\u001b[0m\u001b[0m\n\u001b[0;32m    210\u001b[0m     \u001b[1;33m@\u001b[0m\u001b[0mproperty\u001b[0m\u001b[1;33m\u001b[0m\u001b[1;33m\u001b[0m\u001b[0m\n",
      "\u001b[1;31mKeyboardInterrupt\u001b[0m: "
     ]
    }
   ],
   "source": [
    "recommendations = get_recommendations(purchase_data)"
   ]
  },
  {
   "cell_type": "code",
   "execution_count": 131,
   "id": "c1304949",
   "metadata": {},
   "outputs": [
    {
     "data": {
      "text/html": [
       "<div>\n",
       "<style scoped>\n",
       "    .dataframe tbody tr th:only-of-type {\n",
       "        vertical-align: middle;\n",
       "    }\n",
       "\n",
       "    .dataframe tbody tr th {\n",
       "        vertical-align: top;\n",
       "    }\n",
       "\n",
       "    .dataframe thead th {\n",
       "        text-align: right;\n",
       "    }\n",
       "</style>\n",
       "<table border=\"1\" class=\"dataframe\">\n",
       "  <thead>\n",
       "    <tr style=\"text-align: right;\">\n",
       "      <th></th>\n",
       "      <th>Top1</th>\n",
       "      <th>Top2</th>\n",
       "      <th>Top3</th>\n",
       "    </tr>\n",
       "  </thead>\n",
       "  <tbody>\n",
       "    <tr>\n",
       "      <th>000058a12d5b43e67d225668fa1f8d618c13dc232df0cad8ffe7ad4a1091e318</th>\n",
       "      <td>625358003</td>\n",
       "      <td>750424010</td>\n",
       "      <td>690936023</td>\n",
       "    </tr>\n",
       "    <tr>\n",
       "      <th>000114c6996ef5703a8d455faf2103f8488d3928348e0739c92ff9e8897932db</th>\n",
       "      <td>608570002</td>\n",
       "      <td>691834001</td>\n",
       "      <td>832253002</td>\n",
       "    </tr>\n",
       "    <tr>\n",
       "      <th>00012315fd38859ff2c446876ca507abbcbcf582d0e266b1b696941c16e777a2</th>\n",
       "      <td>690936014</td>\n",
       "      <td>690936023</td>\n",
       "      <td>690936021</td>\n",
       "    </tr>\n",
       "    <tr>\n",
       "      <th>00015c1a121e08bbd2552c15fbbb6e6b19d3bf8f7b6a3d60c6d7be26f06264d6</th>\n",
       "      <td>721636001</td>\n",
       "      <td>751471001</td>\n",
       "      <td>675070015</td>\n",
       "    </tr>\n",
       "    <tr>\n",
       "      <th>0001ab2ebc1bb9a21d135e2fefdb11f12bee5c74ab29842a6d2ffd71316bf048</th>\n",
       "      <td>778064003</td>\n",
       "      <td>767032002</td>\n",
       "      <td>610776001</td>\n",
       "    </tr>\n",
       "  </tbody>\n",
       "</table>\n",
       "</div>"
      ],
      "text/plain": [
       "                                                         Top1       Top2  \\\n",
       "000058a12d5b43e67d225668fa1f8d618c13dc232df0cad...  625358003  750424010   \n",
       "000114c6996ef5703a8d455faf2103f8488d3928348e073...  608570002  691834001   \n",
       "00012315fd38859ff2c446876ca507abbcbcf582d0e266b...  690936014  690936023   \n",
       "00015c1a121e08bbd2552c15fbbb6e6b19d3bf8f7b6a3d6...  721636001  751471001   \n",
       "0001ab2ebc1bb9a21d135e2fefdb11f12bee5c74ab29842...  778064003  767032002   \n",
       "\n",
       "                                                         Top3  \n",
       "000058a12d5b43e67d225668fa1f8d618c13dc232df0cad...  690936023  \n",
       "000114c6996ef5703a8d455faf2103f8488d3928348e073...  832253002  \n",
       "00012315fd38859ff2c446876ca507abbcbcf582d0e266b...  690936021  \n",
       "00015c1a121e08bbd2552c15fbbb6e6b19d3bf8f7b6a3d6...  675070015  \n",
       "0001ab2ebc1bb9a21d135e2fefdb11f12bee5c74ab29842...  610776001  "
      ]
     },
     "execution_count": 131,
     "metadata": {},
     "output_type": "execute_result"
    }
   ],
   "source": [
    "recommendations.head()"
   ]
  },
  {
   "cell_type": "code",
   "execution_count": 132,
   "id": "99c515bd",
   "metadata": {},
   "outputs": [
    {
     "data": {
      "text/plain": [
       "(209267, 3)"
      ]
     },
     "execution_count": 132,
     "metadata": {},
     "output_type": "execute_result"
    }
   ],
   "source": [
    "recommendations.shape"
   ]
  },
  {
   "cell_type": "code",
   "execution_count": null,
   "id": "acfaf7fa",
   "metadata": {},
   "outputs": [],
   "source": []
  },
  {
   "cell_type": "markdown",
   "id": "3b73df47",
   "metadata": {},
   "source": [
    "### ALS Short"
   ]
  },
  {
   "cell_type": "code",
   "execution_count": 34,
   "id": "47ab6ecb",
   "metadata": {},
   "outputs": [],
   "source": [
    "import os; os.environ['OPENBLAS_NUM_THREADS']='1'\n",
    "import numpy as np\n",
    "import pandas as pd\n",
    "import implicit\n",
    "from scipy.sparse import coo_matrix\n",
    "from implicit.evaluation import mean_average_precision_at_k"
   ]
  },
  {
   "cell_type": "code",
   "execution_count": 35,
   "id": "84eb197b",
   "metadata": {},
   "outputs": [
    {
     "data": {
      "text/plain": [
       "(383453, 9)"
      ]
     },
     "execution_count": 35,
     "metadata": {},
     "output_type": "execute_result"
    }
   ],
   "source": [
    "art_cst_merge=pd.read_csv ('articles_for_merge.csv', dtype={'article_id': str}, parse_dates=['t_dat'])\n",
    "art_cst_merge.shape"
   ]
  },
  {
   "cell_type": "code",
   "execution_count": 36,
   "id": "ad933161",
   "metadata": {
    "scrolled": true
   },
   "outputs": [
    {
     "data": {
      "text/html": [
       "<div>\n",
       "<style scoped>\n",
       "    .dataframe tbody tr th:only-of-type {\n",
       "        vertical-align: middle;\n",
       "    }\n",
       "\n",
       "    .dataframe tbody tr th {\n",
       "        vertical-align: top;\n",
       "    }\n",
       "\n",
       "    .dataframe thead th {\n",
       "        text-align: right;\n",
       "    }\n",
       "</style>\n",
       "<table border=\"1\" class=\"dataframe\">\n",
       "  <thead>\n",
       "    <tr style=\"text-align: right;\">\n",
       "      <th></th>\n",
       "      <th>customer_id</th>\n",
       "      <th>article_id</th>\n",
       "      <th>price</th>\n",
       "      <th>t_dat</th>\n",
       "      <th>prod_name</th>\n",
       "      <th>product_type_name</th>\n",
       "      <th>product_group_name</th>\n",
       "      <th>index_name</th>\n",
       "      <th>perceived_colour_value_name</th>\n",
       "    </tr>\n",
       "  </thead>\n",
       "  <tbody>\n",
       "    <tr>\n",
       "      <th>0</th>\n",
       "      <td>001ddeb8fb74fec5693116da83b488e05ee9a9e179f3fd...</td>\n",
       "      <td>712587003</td>\n",
       "      <td>0.020254</td>\n",
       "      <td>2020-01-02</td>\n",
       "      <td>Bow HW paperwaist</td>\n",
       "      <td>Trousers</td>\n",
       "      <td>Garment Lower body</td>\n",
       "      <td>Ladieswear</td>\n",
       "      <td>Dark</td>\n",
       "    </tr>\n",
       "    <tr>\n",
       "      <th>1</th>\n",
       "      <td>a80847aee5b274e644a4f0059e723c11f9410ef5a3da8e...</td>\n",
       "      <td>712587003</td>\n",
       "      <td>0.010153</td>\n",
       "      <td>2020-01-02</td>\n",
       "      <td>Bow HW paperwaist</td>\n",
       "      <td>Trousers</td>\n",
       "      <td>Garment Lower body</td>\n",
       "      <td>Ladieswear</td>\n",
       "      <td>Dark</td>\n",
       "    </tr>\n",
       "    <tr>\n",
       "      <th>2</th>\n",
       "      <td>abe2f85c340f91805173b08461c5d4e4fd502cff0960e0...</td>\n",
       "      <td>712587003</td>\n",
       "      <td>0.022017</td>\n",
       "      <td>2020-01-02</td>\n",
       "      <td>Bow HW paperwaist</td>\n",
       "      <td>Trousers</td>\n",
       "      <td>Garment Lower body</td>\n",
       "      <td>Ladieswear</td>\n",
       "      <td>Dark</td>\n",
       "    </tr>\n",
       "    <tr>\n",
       "      <th>3</th>\n",
       "      <td>abe2f85c340f91805173b08461c5d4e4fd502cff0960e0...</td>\n",
       "      <td>712587003</td>\n",
       "      <td>0.022017</td>\n",
       "      <td>2020-01-02</td>\n",
       "      <td>Bow HW paperwaist</td>\n",
       "      <td>Trousers</td>\n",
       "      <td>Garment Lower body</td>\n",
       "      <td>Ladieswear</td>\n",
       "      <td>Dark</td>\n",
       "    </tr>\n",
       "    <tr>\n",
       "      <th>4</th>\n",
       "      <td>0fd4835666153d82838b3bccd0e9e73066e26329e45517...</td>\n",
       "      <td>712587003</td>\n",
       "      <td>0.019814</td>\n",
       "      <td>2020-01-03</td>\n",
       "      <td>Bow HW paperwaist</td>\n",
       "      <td>Trousers</td>\n",
       "      <td>Garment Lower body</td>\n",
       "      <td>Ladieswear</td>\n",
       "      <td>Dark</td>\n",
       "    </tr>\n",
       "  </tbody>\n",
       "</table>\n",
       "</div>"
      ],
      "text/plain": [
       "                                         customer_id article_id     price  \\\n",
       "0  001ddeb8fb74fec5693116da83b488e05ee9a9e179f3fd...  712587003  0.020254   \n",
       "1  a80847aee5b274e644a4f0059e723c11f9410ef5a3da8e...  712587003  0.010153   \n",
       "2  abe2f85c340f91805173b08461c5d4e4fd502cff0960e0...  712587003  0.022017   \n",
       "3  abe2f85c340f91805173b08461c5d4e4fd502cff0960e0...  712587003  0.022017   \n",
       "4  0fd4835666153d82838b3bccd0e9e73066e26329e45517...  712587003  0.019814   \n",
       "\n",
       "       t_dat          prod_name product_type_name  product_group_name  \\\n",
       "0 2020-01-02  Bow HW paperwaist          Trousers  Garment Lower body   \n",
       "1 2020-01-02  Bow HW paperwaist          Trousers  Garment Lower body   \n",
       "2 2020-01-02  Bow HW paperwaist          Trousers  Garment Lower body   \n",
       "3 2020-01-02  Bow HW paperwaist          Trousers  Garment Lower body   \n",
       "4 2020-01-03  Bow HW paperwaist          Trousers  Garment Lower body   \n",
       "\n",
       "   index_name perceived_colour_value_name  \n",
       "0  Ladieswear                        Dark  \n",
       "1  Ladieswear                        Dark  \n",
       "2  Ladieswear                        Dark  \n",
       "3  Ladieswear                        Dark  \n",
       "4  Ladieswear                        Dark  "
      ]
     },
     "execution_count": 36,
     "metadata": {},
     "output_type": "execute_result"
    }
   ],
   "source": [
    "art_cst_merge.head()"
   ]
  },
  {
   "cell_type": "code",
   "execution_count": 37,
   "id": "7d1ba360",
   "metadata": {},
   "outputs": [],
   "source": [
    "art_cst_merge= art_cst_merge[['customer_id','article_id','price','t_dat']]"
   ]
  },
  {
   "cell_type": "code",
   "execution_count": 38,
   "id": "2db6af5c",
   "metadata": {},
   "outputs": [
    {
     "data": {
      "text/plain": [
       "Timestamp('2020-09-22 00:00:00')"
      ]
     },
     "execution_count": 38,
     "metadata": {},
     "output_type": "execute_result"
    }
   ],
   "source": [
    "art_cst_merge['t_dat'].max()"
   ]
  },
  {
   "cell_type": "code",
   "execution_count": 39,
   "id": "2774e3c3",
   "metadata": {},
   "outputs": [
    {
     "data": {
      "text/plain": [
       "Timestamp('2020-01-02 00:00:00')"
      ]
     },
     "execution_count": 39,
     "metadata": {},
     "output_type": "execute_result"
    }
   ],
   "source": [
    "art_cst_merge['t_dat'].min()"
   ]
  },
  {
   "cell_type": "markdown",
   "id": "648adda8",
   "metadata": {},
   "source": [
    "Q3 july, august, sept\n",
    "train : July 1st, 2020 to Sept 15th,2020\n",
    "test: Sept 16, 2020 to Sept 22, 2020 (last 7 days in data)\n",
    "\n",
    "\n",
    "#baseline: get most popular items in last 15 days i.e. from  say Sept 1st,2020 to Sept 15th,2020\n",
    "#soi: stock keep changing so reccos depends on stock too + we are not reccomending based on item and customer data so recent transactions are better\n",
    "\n",
    "\n",
    "\n",
    "2020-09-23 to 2020-09-29 is kaggles test period\n",
    "2020-09-16 to 2020-09-29 is my test period\n",
    "get most popular items in last 2 weeks i.e. from  say 2020-09-01 to 2020-09-15\n",
    "\n",
    "2020-09-01 to 2020-09-22 is my test period\n",
    "get most popular items in last 1 month i.e. from  say 2020-08-01 to 2020-08-31"
   ]
  },
  {
   "cell_type": "code",
   "execution_count": 40,
   "id": "2f967aab",
   "metadata": {},
   "outputs": [
    {
     "data": {
      "text/plain": [
       "(114366, 4)"
      ]
     },
     "execution_count": 40,
     "metadata": {},
     "output_type": "execute_result"
    }
   ],
   "source": [
    "art_cst_train = art_cst_merge[('2020-06-30' < art_cst_merge['t_dat'])  & (art_cst_merge['t_dat'] < '2020-09-16')]\n",
    "art_cst_train.shape"
   ]
  },
  {
   "cell_type": "code",
   "execution_count": 41,
   "id": "db1039ec",
   "metadata": {},
   "outputs": [],
   "source": [
    "#art_cst_train['t_dat'].max()\n",
    "#art_cst_train['t_dat'].min()"
   ]
  },
  {
   "cell_type": "code",
   "execution_count": 42,
   "id": "90381db8",
   "metadata": {},
   "outputs": [
    {
     "data": {
      "text/plain": [
       "(9115, 4)"
      ]
     },
     "execution_count": 42,
     "metadata": {},
     "output_type": "execute_result"
    }
   ],
   "source": [
    "art_cst_test = art_cst_merge[art_cst_merge['t_dat'] > '2020-09-15']\n",
    "art_cst_test.shape"
   ]
  },
  {
   "cell_type": "code",
   "execution_count": 43,
   "id": "52cf6fab",
   "metadata": {},
   "outputs": [],
   "source": [
    "#art_cst_test['t_dat'].max()\n",
    "#art_cst_test['t_dat'].min()"
   ]
  },
  {
   "cell_type": "markdown",
   "id": "4a80eea8",
   "metadata": {},
   "source": [
    "Training"
   ]
  },
  {
   "cell_type": "code",
   "execution_count": 44,
   "id": "be5f9c2e",
   "metadata": {},
   "outputs": [],
   "source": [
    "ALL_USERS = art_cst_train['customer_id'].unique().tolist()  #list of unique customers\n",
    "ALL_ITEMS = art_cst_train['article_id'].unique().tolist()   #list of unique items"
   ]
  },
  {
   "cell_type": "code",
   "execution_count": 45,
   "id": "87e742a0",
   "metadata": {},
   "outputs": [
    {
     "data": {
      "text/plain": [
       "77142"
      ]
     },
     "execution_count": 45,
     "metadata": {},
     "output_type": "execute_result"
    }
   ],
   "source": [
    "len(ALL_USERS)"
   ]
  },
  {
   "cell_type": "code",
   "execution_count": 46,
   "id": "96c15f67",
   "metadata": {},
   "outputs": [
    {
     "data": {
      "text/plain": [
       "915"
      ]
     },
     "execution_count": 46,
     "metadata": {},
     "output_type": "execute_result"
    }
   ],
   "source": [
    "len(ALL_ITEMS)"
   ]
  },
  {
   "cell_type": "code",
   "execution_count": 47,
   "id": "3c181d53",
   "metadata": {},
   "outputs": [],
   "source": [
    "user_ids = dict(list(enumerate(ALL_USERS))) #list of unique customers in dictionary format \n",
    "item_ids = dict(list(enumerate(ALL_ITEMS)))  #list of unique items in dictionary format"
   ]
  },
  {
   "cell_type": "code",
   "execution_count": 48,
   "id": "10ceebd1",
   "metadata": {},
   "outputs": [],
   "source": [
    "user_map = {u: uidx for uidx, u in user_ids.items()}\n",
    "item_map = {i: iidx for iidx, i in item_ids.items()}"
   ]
  },
  {
   "cell_type": "code",
   "execution_count": 49,
   "id": "a2431c5d",
   "metadata": {},
   "outputs": [
    {
     "name": "stderr",
     "output_type": "stream",
     "text": [
      "<ipython-input-49-d877e3d8f3df>:1: SettingWithCopyWarning: \n",
      "A value is trying to be set on a copy of a slice from a DataFrame.\n",
      "Try using .loc[row_indexer,col_indexer] = value instead\n",
      "\n",
      "See the caveats in the documentation: https://pandas.pydata.org/pandas-docs/stable/user_guide/indexing.html#returning-a-view-versus-a-copy\n",
      "  art_cst_train['user_id'] = art_cst_train['customer_id'].map(user_map)\n",
      "<ipython-input-49-d877e3d8f3df>:2: SettingWithCopyWarning: \n",
      "A value is trying to be set on a copy of a slice from a DataFrame.\n",
      "Try using .loc[row_indexer,col_indexer] = value instead\n",
      "\n",
      "See the caveats in the documentation: https://pandas.pydata.org/pandas-docs/stable/user_guide/indexing.html#returning-a-view-versus-a-copy\n",
      "  art_cst_train['item_id'] = art_cst_train['article_id'].map(item_map)\n"
     ]
    }
   ],
   "source": [
    "art_cst_train['user_id'] = art_cst_train['customer_id'].map(user_map)\n",
    "art_cst_train['item_id'] = art_cst_train['article_id'].map(item_map)"
   ]
  },
  {
   "cell_type": "markdown",
   "id": "ed17f03d",
   "metadata": {},
   "source": [
    "Create coo_matrix (user x item) and csr matrix (user x item)"
   ]
  },
  {
   "cell_type": "code",
   "execution_count": 50,
   "id": "198852a7",
   "metadata": {},
   "outputs": [
    {
     "data": {
      "text/plain": [
       "<77142x915 sparse matrix of type '<class 'numpy.float64'>'\n",
       "\twith 114366 stored elements in COOrdinate format>"
      ]
     },
     "execution_count": 50,
     "metadata": {},
     "output_type": "execute_result"
    }
   ],
   "source": [
    "row = art_cst_train['user_id'].values\n",
    "col = art_cst_train['item_id'].values\n",
    "data = np.ones(art_cst_train.shape[0])\n",
    "coo_train = coo_matrix((data, (row, col)), shape=(len(ALL_USERS), len(ALL_ITEMS)))\n",
    "coo_train"
   ]
  },
  {
   "cell_type": "markdown",
   "id": "8882564a",
   "metadata": {},
   "source": [
    "Run ALS with coo_train"
   ]
  },
  {
   "cell_type": "code",
   "execution_count": 51,
   "id": "d8d65837",
   "metadata": {
    "scrolled": true
   },
   "outputs": [
    {
     "data": {
      "application/vnd.jupyter.widget-view+json": {
       "model_id": "2da3884cddf44fb6ac54aeed481fa50e",
       "version_major": 2,
       "version_minor": 0
      },
      "text/plain": [
       "  0%|          | 0/2 [00:00<?, ?it/s]"
      ]
     },
     "metadata": {},
     "output_type": "display_data"
    },
    {
     "name": "stdout",
     "output_type": "stream",
     "text": [
      "Wall time: 299 ms\n"
     ]
    }
   ],
   "source": [
    "%%time\n",
    "model = implicit.als.AlternatingLeastSquares(factors=20, iterations=2)\n",
    "model.fit(coo_train)"
   ]
  },
  {
   "cell_type": "markdown",
   "id": "a284cf58",
   "metadata": {},
   "source": [
    "testing ALS"
   ]
  },
  {
   "cell_type": "code",
   "execution_count": 52,
   "id": "a03ad729",
   "metadata": {},
   "outputs": [],
   "source": [
    "ALL_USERS = art_cst_test['customer_id'].unique().tolist()  #list of unique customers\n",
    "ALL_ITEMS = art_cst_test['article_id'].unique().tolist()   #list of unique items"
   ]
  },
  {
   "cell_type": "code",
   "execution_count": 53,
   "id": "9de5db1c",
   "metadata": {},
   "outputs": [
    {
     "data": {
      "text/plain": [
       "7048"
      ]
     },
     "execution_count": 53,
     "metadata": {},
     "output_type": "execute_result"
    }
   ],
   "source": [
    "len(ALL_USERS)"
   ]
  },
  {
   "cell_type": "code",
   "execution_count": 54,
   "id": "90fbc20e",
   "metadata": {},
   "outputs": [
    {
     "data": {
      "text/plain": [
       "475"
      ]
     },
     "execution_count": 54,
     "metadata": {},
     "output_type": "execute_result"
    }
   ],
   "source": [
    "len(ALL_ITEMS)"
   ]
  },
  {
   "cell_type": "code",
   "execution_count": 55,
   "id": "953dc088",
   "metadata": {},
   "outputs": [],
   "source": [
    "user_ids = dict(list(enumerate(ALL_USERS))) #list of unique customers in dictionary format \n",
    "item_ids = dict(list(enumerate(ALL_ITEMS)))  #list of unique items in dictionary format"
   ]
  },
  {
   "cell_type": "code",
   "execution_count": 56,
   "id": "9c1691a5",
   "metadata": {},
   "outputs": [],
   "source": [
    "user_map = {u: uidx for uidx, u in user_ids.items()}\n",
    "item_map = {i: iidx for iidx, i in item_ids.items()}"
   ]
  },
  {
   "cell_type": "code",
   "execution_count": 57,
   "id": "0ac50f2a",
   "metadata": {},
   "outputs": [
    {
     "name": "stderr",
     "output_type": "stream",
     "text": [
      "<ipython-input-57-81ae858df0bf>:1: SettingWithCopyWarning: \n",
      "A value is trying to be set on a copy of a slice from a DataFrame.\n",
      "Try using .loc[row_indexer,col_indexer] = value instead\n",
      "\n",
      "See the caveats in the documentation: https://pandas.pydata.org/pandas-docs/stable/user_guide/indexing.html#returning-a-view-versus-a-copy\n",
      "  art_cst_test['user_id'] = art_cst_test['customer_id'].map(user_map)\n",
      "<ipython-input-57-81ae858df0bf>:2: SettingWithCopyWarning: \n",
      "A value is trying to be set on a copy of a slice from a DataFrame.\n",
      "Try using .loc[row_indexer,col_indexer] = value instead\n",
      "\n",
      "See the caveats in the documentation: https://pandas.pydata.org/pandas-docs/stable/user_guide/indexing.html#returning-a-view-versus-a-copy\n",
      "  art_cst_test['item_id'] = art_cst_test['article_id'].map(item_map)\n"
     ]
    }
   ],
   "source": [
    "art_cst_test['user_id'] = art_cst_test['customer_id'].map(user_map)\n",
    "art_cst_test['item_id'] = art_cst_test['article_id'].map(item_map)"
   ]
  },
  {
   "cell_type": "markdown",
   "id": "f3f6bc6d",
   "metadata": {},
   "source": [
    "Create coo_matrix (user x item) and csr matrix (user x item)"
   ]
  },
  {
   "cell_type": "code",
   "execution_count": 58,
   "id": "c55a25bb",
   "metadata": {},
   "outputs": [
    {
     "data": {
      "text/plain": [
       "<7048x475 sparse matrix of type '<class 'numpy.float64'>'\n",
       "\twith 9115 stored elements in COOrdinate format>"
      ]
     },
     "execution_count": 58,
     "metadata": {},
     "output_type": "execute_result"
    }
   ],
   "source": [
    "row = art_cst_test['user_id'].values\n",
    "col = art_cst_test['item_id'].values\n",
    "data = np.ones(art_cst_test.shape[0])\n",
    "coo_test = coo_matrix((data, (row, col)), shape=(len(ALL_USERS), len(ALL_ITEMS)))\n",
    "coo_test"
   ]
  },
  {
   "cell_type": "code",
   "execution_count": 59,
   "id": "1ee6858f",
   "metadata": {},
   "outputs": [],
   "source": [
    "csr_train = coo_train.tocsr()\n",
    "csr_test = coo_test.tocsr()"
   ]
  },
  {
   "cell_type": "code",
   "execution_count": 60,
   "id": "adbc1101",
   "metadata": {},
   "outputs": [
    {
     "data": {
      "application/vnd.jupyter.widget-view+json": {
       "model_id": "551bbc0c4a9c460abede486e0fa7fd39",
       "version_major": 2,
       "version_minor": 0
      },
      "text/plain": [
       "  0%|          | 0/7048 [00:00<?, ?it/s]"
      ]
     },
     "metadata": {},
     "output_type": "display_data"
    }
   ],
   "source": [
    "map12 = mean_average_precision_at_k(model, csr_train, csr_test, K=12, num_threads=4)\n",
    "#print(f\"Factors: {factors:>3} - Iterations: {iterations:>2} - Regularization: {regularization:4.3f} ==> MAP@12: {map12:6.5f}\")"
   ]
  },
  {
   "cell_type": "code",
   "execution_count": 61,
   "id": "f8ce98dd",
   "metadata": {},
   "outputs": [
    {
     "data": {
      "text/plain": [
       "0.0016252969058729552"
      ]
     },
     "execution_count": 61,
     "metadata": {},
     "output_type": "execute_result"
    }
   ],
   "source": [
    "map12"
   ]
  },
  {
   "cell_type": "code",
   "execution_count": 62,
   "id": "33777d6a",
   "metadata": {},
   "outputs": [],
   "source": [
    "from implicit.evaluation import ndcg_at_k"
   ]
  },
  {
   "cell_type": "code",
   "execution_count": 63,
   "id": "f88449c3",
   "metadata": {},
   "outputs": [
    {
     "data": {
      "application/vnd.jupyter.widget-view+json": {
       "model_id": "7df5675f8ce24afc970dce67bd8aa610",
       "version_major": 2,
       "version_minor": 0
      },
      "text/plain": [
       "  0%|          | 0/7048 [00:00<?, ?it/s]"
      ]
     },
     "metadata": {},
     "output_type": "display_data"
    },
    {
     "data": {
      "text/plain": [
       "0.002876196636172954"
      ]
     },
     "execution_count": 63,
     "metadata": {},
     "output_type": "execute_result"
    }
   ],
   "source": [
    "ndcg_at_k(model, csr_train, csr_test, K=15, show_progress=True,num_threads=4)"
   ]
  },
  {
   "cell_type": "code",
   "execution_count": 64,
   "id": "be684210",
   "metadata": {},
   "outputs": [
    {
     "data": {
      "application/vnd.jupyter.widget-view+json": {
       "model_id": "42537328ae1a4e0ba6461276969a8e2b",
       "version_major": 2,
       "version_minor": 0
      },
      "text/plain": [
       "  0%|          | 0/7048 [00:00<?, ?it/s]"
      ]
     },
     "metadata": {},
     "output_type": "display_data"
    },
    {
     "data": {
      "text/plain": [
       "0.006186587478346944"
      ]
     },
     "execution_count": 64,
     "metadata": {},
     "output_type": "execute_result"
    }
   ],
   "source": [
    "from implicit.evaluation import precision_at_k\n",
    "\n",
    "precision_at_k(model,csr_train, csr_test, K=12, show_progress=True,num_threads=4)"
   ]
  },
  {
   "cell_type": "code",
   "execution_count": null,
   "id": "edd04f4a",
   "metadata": {},
   "outputs": [],
   "source": []
  },
  {
   "cell_type": "code",
   "execution_count": null,
   "id": "7a132f13",
   "metadata": {},
   "outputs": [],
   "source": []
  },
  {
   "cell_type": "code",
   "execution_count": null,
   "id": "98969210",
   "metadata": {},
   "outputs": [],
   "source": []
  },
  {
   "cell_type": "code",
   "execution_count": null,
   "id": "db3a9ac0",
   "metadata": {},
   "outputs": [],
   "source": []
  }
 ],
 "metadata": {
  "kernelspec": {
   "display_name": "Python 3",
   "language": "python",
   "name": "python3"
  },
  "language_info": {
   "codemirror_mode": {
    "name": "ipython",
    "version": 3
   },
   "file_extension": ".py",
   "mimetype": "text/x-python",
   "name": "python",
   "nbconvert_exporter": "python",
   "pygments_lexer": "ipython3",
   "version": "3.8.8"
  }
 },
 "nbformat": 4,
 "nbformat_minor": 5
}
